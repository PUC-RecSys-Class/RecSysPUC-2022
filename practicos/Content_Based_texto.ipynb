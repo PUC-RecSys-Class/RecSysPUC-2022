{
  "cells": [
    {
      "cell_type": "markdown",
      "metadata": {
        "id": "view-in-github"
      },
      "source": [
        "<a href=\"https://colab.research.google.com/github/PUC-RecSys-Class/RecSysPUC-2022/blob/master/practicos/Content_Based_texto.ipynb\" target=\"_parent\"><img src=\"https://colab.research.google.com/assets/colab-badge.svg\" alt=\"Open In Colab\"/></a>\n"
      ]
    },
    {
      "cell_type": "markdown",
      "metadata": {
        "id": "URsUT4uiLy0i"
      },
      "source": [
        "# Práctico Content-based (Texto)\n",
        "\n",
        "**Profesor:** Denis Parra\n",
        "\n",
        "**Ayudantes:** Álvaro Labarca, Jorge Facuse, Florencia Ferrer, Nicolás Sumonte, Pablo Messina \n",
        "\n",
        "\n",
        "En este proyecto trabajaremos con un modelo de recomendacion de libros de la página [Goodreads](http://www.goodreads.com). El modelo de recomendación de libros es un recomendador basado en contenido, donde se utilizan modelos de lenguage BERT y BERT-large para el cálculo de embeddings de los libros y luego similaridades de ítems. Luego, dependiendo de los libros con los que el usuario ha interactuado, se recomiendan los ítems más similares."
      ]
    },
    {
      "cell_type": "code",
      "execution_count": 1,
      "metadata": {
        "ExecuteTime": {
          "end_time": "2020-09-05T12:07:02.503203Z",
          "start_time": "2020-09-05T12:07:02.498207Z"
        },
        "id": "_jciMPzaLy0j"
      },
      "outputs": [],
      "source": [
        "import numpy as np\n",
        "import json\n",
        "import requests\n",
        "import heapq\n",
        "import math\n",
        "import matplotlib.pyplot as plt\n",
        "from sklearn.metrics import pairwise_distances\n",
        "from sklearn.decomposition import PCA\n",
        "from io import BytesIO\n",
        "import pickle\n",
        "import pandas as pd\n",
        "import time "
      ]
    },
    {
      "cell_type": "markdown",
      "metadata": {
        "id": "BN8KY7PzLy0n"
      },
      "source": [
        "Descargamos datos que vienen previamente calculados: \n",
        "- transacciones/interacciones de cada usuario \n",
        "- transaciones para evaluar el modelo \n",
        "- embeddings de descripciones calculados con BERT  \n",
        "- embeddings de descripciones calculados con BERT-large\n",
        "- datos de libros con información de titulo, descripcion, año de publicacion, entre otros. "
      ]
    },
    {
      "cell_type": "code",
      "execution_count": 2,
      "metadata": {
        "id": "GCdioSuCLy0o",
        "colab": {
          "base_uri": "https://localhost:8080/"
        },
        "outputId": "d96ad009-d5f4-44c8-b201-9daed2295638"
      },
      "outputs": [
        {
          "output_type": "stream",
          "name": "stdout",
          "text": [
            "--2022-09-07 19:33:17--  https://www.dropbox.com/s/57tel5zqopkssrh/books.csv?dl=0\n",
            "Resolving www.dropbox.com (www.dropbox.com)... 162.125.1.18, 2620:100:6016:18::a27d:112\n",
            "Connecting to www.dropbox.com (www.dropbox.com)|162.125.1.18|:443... connected.\n",
            "HTTP request sent, awaiting response... 302 Found\n",
            "Location: /s/raw/57tel5zqopkssrh/books.csv [following]\n",
            "--2022-09-07 19:33:17--  https://www.dropbox.com/s/raw/57tel5zqopkssrh/books.csv\n",
            "Reusing existing connection to www.dropbox.com:443.\n",
            "HTTP request sent, awaiting response... 302 Found\n",
            "Location: https://uc8e8da3f507b0027c6260cd9756.dl.dropboxusercontent.com/cd/0/inline/BsjWuOfNkW19QWbqfA5ZM4rVNO-iwvqfpLT9ZxQExSu8vH9FdI6tCZCImrWlrGT7VwkS-RSjp6EMqH2vC8aw0CzU_-NHS83DNLi9wh01taovWbV7ovdYz9IMesqHthC4YBTu4PeDsmnmoY8i22MgjRvNWLXQ8cufyErT4oCHRfzcIQ/file# [following]\n",
            "--2022-09-07 19:33:17--  https://uc8e8da3f507b0027c6260cd9756.dl.dropboxusercontent.com/cd/0/inline/BsjWuOfNkW19QWbqfA5ZM4rVNO-iwvqfpLT9ZxQExSu8vH9FdI6tCZCImrWlrGT7VwkS-RSjp6EMqH2vC8aw0CzU_-NHS83DNLi9wh01taovWbV7ovdYz9IMesqHthC4YBTu4PeDsmnmoY8i22MgjRvNWLXQ8cufyErT4oCHRfzcIQ/file\n",
            "Resolving uc8e8da3f507b0027c6260cd9756.dl.dropboxusercontent.com (uc8e8da3f507b0027c6260cd9756.dl.dropboxusercontent.com)... 162.125.1.15, 2620:100:6016:15::a27d:10f\n",
            "Connecting to uc8e8da3f507b0027c6260cd9756.dl.dropboxusercontent.com (uc8e8da3f507b0027c6260cd9756.dl.dropboxusercontent.com)|162.125.1.15|:443... connected.\n",
            "HTTP request sent, awaiting response... 200 OK\n",
            "Length: 5156485 (4.9M) [text/plain]\n",
            "Saving to: ‘books.csv’\n",
            "\n",
            "books.csv           100%[===================>]   4.92M  --.-KB/s    in 0.07s   \n",
            "\n",
            "2022-09-07 19:33:17 (72.5 MB/s) - ‘books.csv’ saved [5156485/5156485]\n",
            "\n",
            "--2022-09-07 19:33:18--  https://www.dropbox.com/s/zpnnoy1i8ljf9fg/goodreads_bert_embeddings.npy?dl=0\n",
            "Resolving www.dropbox.com (www.dropbox.com)... 162.125.1.18, 2620:100:6016:18::a27d:112\n",
            "Connecting to www.dropbox.com (www.dropbox.com)|162.125.1.18|:443... connected.\n",
            "HTTP request sent, awaiting response... 302 Found\n",
            "Location: /s/raw/zpnnoy1i8ljf9fg/goodreads_bert_embeddings.npy [following]\n",
            "--2022-09-07 19:33:18--  https://www.dropbox.com/s/raw/zpnnoy1i8ljf9fg/goodreads_bert_embeddings.npy\n",
            "Reusing existing connection to www.dropbox.com:443.\n",
            "HTTP request sent, awaiting response... 302 Found\n",
            "Location: https://uc9385b123123adcca666582519d.dl.dropboxusercontent.com/cd/0/inline/Bsib3BIgcQebvUEE5TOaML-QJVSLEZNPuD1OeM5Dxw6MTu957xu-rMA0QNadQByYSz5eYRZs9oWUTyokZRF_3kOYOTYLSZPr-eHukrnbsIu_RyciyZjdLDYbKO7bL2ueI8vZ2kscm3PemauA9pqqU1qkF7FhiPI2lCbS5957f2OxGQ/file# [following]\n",
            "--2022-09-07 19:33:18--  https://uc9385b123123adcca666582519d.dl.dropboxusercontent.com/cd/0/inline/Bsib3BIgcQebvUEE5TOaML-QJVSLEZNPuD1OeM5Dxw6MTu957xu-rMA0QNadQByYSz5eYRZs9oWUTyokZRF_3kOYOTYLSZPr-eHukrnbsIu_RyciyZjdLDYbKO7bL2ueI8vZ2kscm3PemauA9pqqU1qkF7FhiPI2lCbS5957f2OxGQ/file\n",
            "Resolving uc9385b123123adcca666582519d.dl.dropboxusercontent.com (uc9385b123123adcca666582519d.dl.dropboxusercontent.com)... 162.125.1.15, 2620:100:6016:15::a27d:10f\n",
            "Connecting to uc9385b123123adcca666582519d.dl.dropboxusercontent.com (uc9385b123123adcca666582519d.dl.dropboxusercontent.com)|162.125.1.15|:443... connected.\n",
            "HTTP request sent, awaiting response... 302 Found\n",
            "Location: /cd/0/inline2/BsjDsVYe9yQUKqKTqF5D9Caae8mTlEzu8LOoPfwsTY7VnH_xmzsFnUWiLJsHyivMkwvirUjXlug6-53ZmZxzUxHxmXNK_8a5BlQS3rfJrpBqoj21ZTjfrfJQZ3VXdPXgRnpNtAL-JpR_tSX3QZnLVxXBzo1mtMOCeF_4zlMX4M6JlCUmLOPhPgzG0svpvQu8CJ2OKOPH_DdPKzVGNkMFSKJsXXYEgR8tf-V28JcMiABbbeuLJ1qJRTko0gyeO01VvcwWOXAynn6tdXv7LSohNA2SJFuMS2fiiBNTkz4iKvJAzyVtKPxiFxBIyIF3wycuwlSmWRaRML-qKH3pMeuITcAUelU53mMTCGe0zZEvpHmwPanZGI0upotgcmbgwejvBagJVQNNaacu6RFwsr6zuvIu1xvu9bCSYACiQCKgtlPdtg/file [following]\n",
            "--2022-09-07 19:33:19--  https://uc9385b123123adcca666582519d.dl.dropboxusercontent.com/cd/0/inline2/BsjDsVYe9yQUKqKTqF5D9Caae8mTlEzu8LOoPfwsTY7VnH_xmzsFnUWiLJsHyivMkwvirUjXlug6-53ZmZxzUxHxmXNK_8a5BlQS3rfJrpBqoj21ZTjfrfJQZ3VXdPXgRnpNtAL-JpR_tSX3QZnLVxXBzo1mtMOCeF_4zlMX4M6JlCUmLOPhPgzG0svpvQu8CJ2OKOPH_DdPKzVGNkMFSKJsXXYEgR8tf-V28JcMiABbbeuLJ1qJRTko0gyeO01VvcwWOXAynn6tdXv7LSohNA2SJFuMS2fiiBNTkz4iKvJAzyVtKPxiFxBIyIF3wycuwlSmWRaRML-qKH3pMeuITcAUelU53mMTCGe0zZEvpHmwPanZGI0upotgcmbgwejvBagJVQNNaacu6RFwsr6zuvIu1xvu9bCSYACiQCKgtlPdtg/file\n",
            "Reusing existing connection to uc9385b123123adcca666582519d.dl.dropboxusercontent.com:443.\n",
            "HTTP request sent, awaiting response... 200 OK\n",
            "Length: 26339456 (25M) [application/octet-stream]\n",
            "Saving to: ‘goodreads_bert_embeddings.npy’\n",
            "\n",
            "goodreads_bert_embe 100%[===================>]  25.12M   165MB/s    in 0.2s    \n",
            "\n",
            "2022-09-07 19:33:19 (165 MB/s) - ‘goodreads_bert_embeddings.npy’ saved [26339456/26339456]\n",
            "\n",
            "--2022-09-07 19:33:19--  https://www.dropbox.com/s/a8hcc9w30y7r3jl/goodreads_bert_large_embeddings.npy?dl=0\n",
            "Resolving www.dropbox.com (www.dropbox.com)... 162.125.1.18, 2620:100:6016:18::a27d:112\n",
            "Connecting to www.dropbox.com (www.dropbox.com)|162.125.1.18|:443... connected.\n",
            "HTTP request sent, awaiting response... 302 Found\n",
            "Location: /s/raw/a8hcc9w30y7r3jl/goodreads_bert_large_embeddings.npy [following]\n",
            "--2022-09-07 19:33:19--  https://www.dropbox.com/s/raw/a8hcc9w30y7r3jl/goodreads_bert_large_embeddings.npy\n",
            "Reusing existing connection to www.dropbox.com:443.\n",
            "HTTP request sent, awaiting response... 302 Found\n",
            "Location: https://uce6abaa8f97cb0148812bfadf56.dl.dropboxusercontent.com/cd/0/inline/BshWZzjvyAfiX8iHa452obosN6UQUnZrCRdyS2IMRxc9i52h_4h8LuRZ69Qqj5pCLSo-6SIG1y9qO3JcZ6iqZasI7rRBoRVeSl1LmrAXBQ71_H5bh0YhUU0MtXw94vnFEn5Q1C141YMHtpFYWdFFMe5VNCmNGDey7CEEnDEVwBpYLQ/file# [following]\n",
            "--2022-09-07 19:33:20--  https://uce6abaa8f97cb0148812bfadf56.dl.dropboxusercontent.com/cd/0/inline/BshWZzjvyAfiX8iHa452obosN6UQUnZrCRdyS2IMRxc9i52h_4h8LuRZ69Qqj5pCLSo-6SIG1y9qO3JcZ6iqZasI7rRBoRVeSl1LmrAXBQ71_H5bh0YhUU0MtXw94vnFEn5Q1C141YMHtpFYWdFFMe5VNCmNGDey7CEEnDEVwBpYLQ/file\n",
            "Resolving uce6abaa8f97cb0148812bfadf56.dl.dropboxusercontent.com (uce6abaa8f97cb0148812bfadf56.dl.dropboxusercontent.com)... 162.125.1.15, 2620:100:6016:15::a27d:10f\n",
            "Connecting to uce6abaa8f97cb0148812bfadf56.dl.dropboxusercontent.com (uce6abaa8f97cb0148812bfadf56.dl.dropboxusercontent.com)|162.125.1.15|:443... connected.\n",
            "HTTP request sent, awaiting response... 302 Found\n",
            "Location: /cd/0/inline2/BsiUciR5BLctQLCoRVXGQC1YtK3imLmfsJWSbcGD2xw2PpiOd-I9OGWEy179VLoWCD3FqYDrXFZKn0Dkuhohp595G-sGYNDcfdVZJC13YDO-0Q5PqUXqKeEzaR6im1p77dwsbPq0PGC0ouSiZETTo0Hw4jeLFmLr1uQ1YZaF5mRMNobsqrkFB1RvowtqIqBNsO2Q9GhqrDAHnD8i18a0feLpLcorGufm7EHH2NynLXK-lKAEUhW4UjobZGMhkg8IbZKYXM5zagCrZTtLShmA1u2bg3cfM3qskNLi9LqJnm9dKwcjftzQgpdGgDjoYnqhuBRS23B86FJaNUR3WXUqukJs6EYho1ZwAIbazM666zqYIOGBV6VwtZtKfWdZRJqJLP_pbnS6DElCxIoyg4OHbrG5yjR8KvcHK91xFSHmzrKpjw/file [following]\n",
            "--2022-09-07 19:33:20--  https://uce6abaa8f97cb0148812bfadf56.dl.dropboxusercontent.com/cd/0/inline2/BsiUciR5BLctQLCoRVXGQC1YtK3imLmfsJWSbcGD2xw2PpiOd-I9OGWEy179VLoWCD3FqYDrXFZKn0Dkuhohp595G-sGYNDcfdVZJC13YDO-0Q5PqUXqKeEzaR6im1p77dwsbPq0PGC0ouSiZETTo0Hw4jeLFmLr1uQ1YZaF5mRMNobsqrkFB1RvowtqIqBNsO2Q9GhqrDAHnD8i18a0feLpLcorGufm7EHH2NynLXK-lKAEUhW4UjobZGMhkg8IbZKYXM5zagCrZTtLShmA1u2bg3cfM3qskNLi9LqJnm9dKwcjftzQgpdGgDjoYnqhuBRS23B86FJaNUR3WXUqukJs6EYho1ZwAIbazM666zqYIOGBV6VwtZtKfWdZRJqJLP_pbnS6DElCxIoyg4OHbrG5yjR8KvcHK91xFSHmzrKpjw/file\n",
            "Reusing existing connection to uce6abaa8f97cb0148812bfadf56.dl.dropboxusercontent.com:443.\n",
            "HTTP request sent, awaiting response... 200 OK\n",
            "Length: 35119232 (33M) [application/octet-stream]\n",
            "Saving to: ‘goodreads_bert_large_embeddings.npy’\n",
            "\n",
            "goodreads_bert_larg 100%[===================>]  33.49M   163MB/s    in 0.2s    \n",
            "\n",
            "2022-09-07 19:33:21 (163 MB/s) - ‘goodreads_bert_large_embeddings.npy’ saved [35119232/35119232]\n",
            "\n",
            "--2022-09-07 19:33:21--  https://www.dropbox.com/s/dqeqpsr0vdvmcy0/goodreads_past_interactions.json?dl=0\n",
            "Resolving www.dropbox.com (www.dropbox.com)... 162.125.1.18, 2620:100:6016:18::a27d:112\n",
            "Connecting to www.dropbox.com (www.dropbox.com)|162.125.1.18|:443... connected.\n",
            "HTTP request sent, awaiting response... 302 Found\n",
            "Location: /s/raw/dqeqpsr0vdvmcy0/goodreads_past_interactions.json [following]\n",
            "--2022-09-07 19:33:21--  https://www.dropbox.com/s/raw/dqeqpsr0vdvmcy0/goodreads_past_interactions.json\n",
            "Reusing existing connection to www.dropbox.com:443.\n",
            "HTTP request sent, awaiting response... 302 Found\n",
            "Location: https://uc44ad4623ea0f918ba3a145b750.dl.dropboxusercontent.com/cd/0/inline/Bsg6O40T1J9gPxmmsSYMWgsmQLPIGQQ8gkCVMptFuVbvO10MddmKOVFq0LklL6K5UY4d1quzJEIqZnA6G8lFXsrBAznZPJgwWK-hLAmLQsigL6Z5nEEviWwPkhp3xnSN57uCSwcu7hgvfST7YK5svuu_Lo6_oEkat725vFBmf28bLA/file# [following]\n",
            "--2022-09-07 19:33:21--  https://uc44ad4623ea0f918ba3a145b750.dl.dropboxusercontent.com/cd/0/inline/Bsg6O40T1J9gPxmmsSYMWgsmQLPIGQQ8gkCVMptFuVbvO10MddmKOVFq0LklL6K5UY4d1quzJEIqZnA6G8lFXsrBAznZPJgwWK-hLAmLQsigL6Z5nEEviWwPkhp3xnSN57uCSwcu7hgvfST7YK5svuu_Lo6_oEkat725vFBmf28bLA/file\n",
            "Resolving uc44ad4623ea0f918ba3a145b750.dl.dropboxusercontent.com (uc44ad4623ea0f918ba3a145b750.dl.dropboxusercontent.com)... 162.125.1.15, 2620:100:6016:15::a27d:10f\n",
            "Connecting to uc44ad4623ea0f918ba3a145b750.dl.dropboxusercontent.com (uc44ad4623ea0f918ba3a145b750.dl.dropboxusercontent.com)|162.125.1.15|:443... connected.\n",
            "HTTP request sent, awaiting response... 200 OK\n",
            "Length: 17685887 (17M) [text/plain]\n",
            "Saving to: ‘goodreads_past_interactions.json’\n",
            "\n",
            "goodreads_past_inte 100%[===================>]  16.87M   101MB/s    in 0.2s    \n",
            "\n",
            "2022-09-07 19:33:22 (101 MB/s) - ‘goodreads_past_interactions.json’ saved [17685887/17685887]\n",
            "\n",
            "--2022-09-07 19:33:22--  https://www.dropbox.com/s/rjtzhmb2zbpp30q/goodreads_test_interactions.json?dl=0\n",
            "Resolving www.dropbox.com (www.dropbox.com)... 162.125.1.18, 2620:100:6016:18::a27d:112\n",
            "Connecting to www.dropbox.com (www.dropbox.com)|162.125.1.18|:443... connected.\n",
            "HTTP request sent, awaiting response... 302 Found\n",
            "Location: /s/raw/rjtzhmb2zbpp30q/goodreads_test_interactions.json [following]\n",
            "--2022-09-07 19:33:22--  https://www.dropbox.com/s/raw/rjtzhmb2zbpp30q/goodreads_test_interactions.json\n",
            "Reusing existing connection to www.dropbox.com:443.\n",
            "HTTP request sent, awaiting response... 302 Found\n",
            "Location: https://ucc7e60d5ff5c204869cfa778646.dl.dropboxusercontent.com/cd/0/inline/BshV-r0q9pCRbwy5k8Q4mNVTybjCLV7CnmaRRkZMZPA_OxP9hegZvV3l5ee3SCqOmw_o7M2Yf0AQRxuLuIVw-gFthOe8O-WcxTZ_8TqvVM5O-ijgMyl0Foe5zL9KzHohBcPjyeKnWMI38q5f8OCk9SAFu8G1kwdEHijlAvajIuHzgg/file# [following]\n",
            "--2022-09-07 19:33:22--  https://ucc7e60d5ff5c204869cfa778646.dl.dropboxusercontent.com/cd/0/inline/BshV-r0q9pCRbwy5k8Q4mNVTybjCLV7CnmaRRkZMZPA_OxP9hegZvV3l5ee3SCqOmw_o7M2Yf0AQRxuLuIVw-gFthOe8O-WcxTZ_8TqvVM5O-ijgMyl0Foe5zL9KzHohBcPjyeKnWMI38q5f8OCk9SAFu8G1kwdEHijlAvajIuHzgg/file\n",
            "Resolving ucc7e60d5ff5c204869cfa778646.dl.dropboxusercontent.com (ucc7e60d5ff5c204869cfa778646.dl.dropboxusercontent.com)... 162.125.1.15, 2620:100:6016:15::a27d:10f\n",
            "Connecting to ucc7e60d5ff5c204869cfa778646.dl.dropboxusercontent.com (ucc7e60d5ff5c204869cfa778646.dl.dropboxusercontent.com)|162.125.1.15|:443... connected.\n",
            "HTTP request sent, awaiting response... 200 OK\n",
            "Length: 6111 (6.0K) [text/plain]\n",
            "Saving to: ‘goodreads_test_interactions.json’\n",
            "\n",
            "goodreads_test_inte 100%[===================>]   5.97K  --.-KB/s    in 0s      \n",
            "\n",
            "2022-09-07 19:33:23 (919 MB/s) - ‘goodreads_test_interactions.json’ saved [6111/6111]\n",
            "\n"
          ]
        }
      ],
      "source": [
        "!wget https://www.dropbox.com/s/57tel5zqopkssrh/books.csv?dl=0 -O books.csv\n",
        "!wget https://www.dropbox.com/s/zpnnoy1i8ljf9fg/goodreads_bert_embeddings.npy?dl=0 -O goodreads_bert_embeddings.npy\n",
        "!wget https://www.dropbox.com/s/a8hcc9w30y7r3jl/goodreads_bert_large_embeddings.npy?dl=0 -O goodreads_bert_large_embeddings.npy\n",
        "!wget https://www.dropbox.com/s/dqeqpsr0vdvmcy0/goodreads_past_interactions.json?dl=0 -O goodreads_past_interactions.json\n",
        "!wget https://www.dropbox.com/s/rjtzhmb2zbpp30q/goodreads_test_interactions.json?dl=0 -O goodreads_test_interactions.json"
      ]
    },
    {
      "cell_type": "markdown",
      "metadata": {
        "id": "5k5qsAdHLy0r"
      },
      "source": [
        "# Cargar datos adicionales"
      ]
    },
    {
      "cell_type": "code",
      "execution_count": 3,
      "metadata": {
        "ExecuteTime": {
          "end_time": "2020-09-05T12:07:07.594155Z",
          "start_time": "2020-09-05T12:07:07.527654Z"
        },
        "colab": {
          "base_uri": "https://localhost:8080/",
          "height": 646
        },
        "id": "baVHkwjaLy0r",
        "outputId": "2ca4f70d-7e6d-48e3-f468-6bab5bf99561"
      },
      "outputs": [
        {
          "output_type": "execute_result",
          "data": {
            "text/plain": [
              "   book_id  goodreads_book_id  best_book_id  work_id  books_count       isbn  \\\n",
              "0        1            2767052       2767052  2792775          272  439023483   \n",
              "1        2                  3             3  4640799          491  439554934   \n",
              "2        3              41865         41865  3212258          226  316015849   \n",
              "3        4               2657          2657  3275794          487   61120081   \n",
              "4        5               4671          4671   245494         1356  743273567   \n",
              "\n",
              "         isbn13                      authors  original_publication_year  \\\n",
              "0  9.780439e+12              Suzanne Collins                     2008.0   \n",
              "1  9.780440e+12  J.K. Rowling, Mary GrandPré                     1997.0   \n",
              "2  9.780316e+12              Stephenie Meyer                     2005.0   \n",
              "3  9.780061e+12                   Harper Lee                     1960.0   \n",
              "4  9.780743e+12          F. Scott Fitzgerald                     1925.0   \n",
              "\n",
              "                             original_title  ... work_ratings_count  \\\n",
              "0                          The Hunger Games  ...            4942365   \n",
              "1  Harry Potter and the Philosopher's Stone  ...            4800065   \n",
              "2                                  Twilight  ...            3916824   \n",
              "3                     To Kill a Mockingbird  ...            3340896   \n",
              "4                          The Great Gatsby  ...            2773745   \n",
              "\n",
              "  work_text_reviews_count  ratings_1  ratings_2  ratings_3  ratings_4  \\\n",
              "0                  155254      66715     127936     560092    1481305   \n",
              "1                   75867      75504     101676     455024    1156318   \n",
              "2                   95009     456191     436802     793319     875073   \n",
              "3                   72586      60427     117415     446835    1001952   \n",
              "4                   51992      86236     197621     606158     936012   \n",
              "\n",
              "   ratings_5                                          image_url  \\\n",
              "0    2706317  https://images.gr-assets.com/books/1447303603m...   \n",
              "1    3011543  https://images.gr-assets.com/books/1474154022m...   \n",
              "2    1355439  https://images.gr-assets.com/books/1361039443m...   \n",
              "3    1714267  https://images.gr-assets.com/books/1361975680m...   \n",
              "4     947718  https://images.gr-assets.com/books/1490528560m...   \n",
              "\n",
              "                                     small_image_url  \\\n",
              "0  https://images.gr-assets.com/books/1447303603s...   \n",
              "1  https://images.gr-assets.com/books/1474154022s...   \n",
              "2  https://images.gr-assets.com/books/1361039443s...   \n",
              "3  https://images.gr-assets.com/books/1361975680s...   \n",
              "4  https://images.gr-assets.com/books/1490528560s...   \n",
              "\n",
              "                                           book_desc  \n",
              "0  Winning will make you famous. Losing means cer...  \n",
              "1  Harry Potter's life is miserable. His parents ...  \n",
              "2  About three things I was absolutely positive.F...  \n",
              "3  The unforgettable novel of a childhood in a sl...  \n",
              "4  Alternate Cover Edition ISBN: 0743273567 (ISBN...  \n",
              "\n",
              "[5 rows x 24 columns]"
            ],
            "text/html": [
              "\n",
              "  <div id=\"df-58052f94-117c-46b2-8d58-85a2a2b96c99\">\n",
              "    <div class=\"colab-df-container\">\n",
              "      <div>\n",
              "<style scoped>\n",
              "    .dataframe tbody tr th:only-of-type {\n",
              "        vertical-align: middle;\n",
              "    }\n",
              "\n",
              "    .dataframe tbody tr th {\n",
              "        vertical-align: top;\n",
              "    }\n",
              "\n",
              "    .dataframe thead th {\n",
              "        text-align: right;\n",
              "    }\n",
              "</style>\n",
              "<table border=\"1\" class=\"dataframe\">\n",
              "  <thead>\n",
              "    <tr style=\"text-align: right;\">\n",
              "      <th></th>\n",
              "      <th>book_id</th>\n",
              "      <th>goodreads_book_id</th>\n",
              "      <th>best_book_id</th>\n",
              "      <th>work_id</th>\n",
              "      <th>books_count</th>\n",
              "      <th>isbn</th>\n",
              "      <th>isbn13</th>\n",
              "      <th>authors</th>\n",
              "      <th>original_publication_year</th>\n",
              "      <th>original_title</th>\n",
              "      <th>...</th>\n",
              "      <th>work_ratings_count</th>\n",
              "      <th>work_text_reviews_count</th>\n",
              "      <th>ratings_1</th>\n",
              "      <th>ratings_2</th>\n",
              "      <th>ratings_3</th>\n",
              "      <th>ratings_4</th>\n",
              "      <th>ratings_5</th>\n",
              "      <th>image_url</th>\n",
              "      <th>small_image_url</th>\n",
              "      <th>book_desc</th>\n",
              "    </tr>\n",
              "  </thead>\n",
              "  <tbody>\n",
              "    <tr>\n",
              "      <th>0</th>\n",
              "      <td>1</td>\n",
              "      <td>2767052</td>\n",
              "      <td>2767052</td>\n",
              "      <td>2792775</td>\n",
              "      <td>272</td>\n",
              "      <td>439023483</td>\n",
              "      <td>9.780439e+12</td>\n",
              "      <td>Suzanne Collins</td>\n",
              "      <td>2008.0</td>\n",
              "      <td>The Hunger Games</td>\n",
              "      <td>...</td>\n",
              "      <td>4942365</td>\n",
              "      <td>155254</td>\n",
              "      <td>66715</td>\n",
              "      <td>127936</td>\n",
              "      <td>560092</td>\n",
              "      <td>1481305</td>\n",
              "      <td>2706317</td>\n",
              "      <td>https://images.gr-assets.com/books/1447303603m...</td>\n",
              "      <td>https://images.gr-assets.com/books/1447303603s...</td>\n",
              "      <td>Winning will make you famous. Losing means cer...</td>\n",
              "    </tr>\n",
              "    <tr>\n",
              "      <th>1</th>\n",
              "      <td>2</td>\n",
              "      <td>3</td>\n",
              "      <td>3</td>\n",
              "      <td>4640799</td>\n",
              "      <td>491</td>\n",
              "      <td>439554934</td>\n",
              "      <td>9.780440e+12</td>\n",
              "      <td>J.K. Rowling, Mary GrandPré</td>\n",
              "      <td>1997.0</td>\n",
              "      <td>Harry Potter and the Philosopher's Stone</td>\n",
              "      <td>...</td>\n",
              "      <td>4800065</td>\n",
              "      <td>75867</td>\n",
              "      <td>75504</td>\n",
              "      <td>101676</td>\n",
              "      <td>455024</td>\n",
              "      <td>1156318</td>\n",
              "      <td>3011543</td>\n",
              "      <td>https://images.gr-assets.com/books/1474154022m...</td>\n",
              "      <td>https://images.gr-assets.com/books/1474154022s...</td>\n",
              "      <td>Harry Potter's life is miserable. His parents ...</td>\n",
              "    </tr>\n",
              "    <tr>\n",
              "      <th>2</th>\n",
              "      <td>3</td>\n",
              "      <td>41865</td>\n",
              "      <td>41865</td>\n",
              "      <td>3212258</td>\n",
              "      <td>226</td>\n",
              "      <td>316015849</td>\n",
              "      <td>9.780316e+12</td>\n",
              "      <td>Stephenie Meyer</td>\n",
              "      <td>2005.0</td>\n",
              "      <td>Twilight</td>\n",
              "      <td>...</td>\n",
              "      <td>3916824</td>\n",
              "      <td>95009</td>\n",
              "      <td>456191</td>\n",
              "      <td>436802</td>\n",
              "      <td>793319</td>\n",
              "      <td>875073</td>\n",
              "      <td>1355439</td>\n",
              "      <td>https://images.gr-assets.com/books/1361039443m...</td>\n",
              "      <td>https://images.gr-assets.com/books/1361039443s...</td>\n",
              "      <td>About three things I was absolutely positive.F...</td>\n",
              "    </tr>\n",
              "    <tr>\n",
              "      <th>3</th>\n",
              "      <td>4</td>\n",
              "      <td>2657</td>\n",
              "      <td>2657</td>\n",
              "      <td>3275794</td>\n",
              "      <td>487</td>\n",
              "      <td>61120081</td>\n",
              "      <td>9.780061e+12</td>\n",
              "      <td>Harper Lee</td>\n",
              "      <td>1960.0</td>\n",
              "      <td>To Kill a Mockingbird</td>\n",
              "      <td>...</td>\n",
              "      <td>3340896</td>\n",
              "      <td>72586</td>\n",
              "      <td>60427</td>\n",
              "      <td>117415</td>\n",
              "      <td>446835</td>\n",
              "      <td>1001952</td>\n",
              "      <td>1714267</td>\n",
              "      <td>https://images.gr-assets.com/books/1361975680m...</td>\n",
              "      <td>https://images.gr-assets.com/books/1361975680s...</td>\n",
              "      <td>The unforgettable novel of a childhood in a sl...</td>\n",
              "    </tr>\n",
              "    <tr>\n",
              "      <th>4</th>\n",
              "      <td>5</td>\n",
              "      <td>4671</td>\n",
              "      <td>4671</td>\n",
              "      <td>245494</td>\n",
              "      <td>1356</td>\n",
              "      <td>743273567</td>\n",
              "      <td>9.780743e+12</td>\n",
              "      <td>F. Scott Fitzgerald</td>\n",
              "      <td>1925.0</td>\n",
              "      <td>The Great Gatsby</td>\n",
              "      <td>...</td>\n",
              "      <td>2773745</td>\n",
              "      <td>51992</td>\n",
              "      <td>86236</td>\n",
              "      <td>197621</td>\n",
              "      <td>606158</td>\n",
              "      <td>936012</td>\n",
              "      <td>947718</td>\n",
              "      <td>https://images.gr-assets.com/books/1490528560m...</td>\n",
              "      <td>https://images.gr-assets.com/books/1490528560s...</td>\n",
              "      <td>Alternate Cover Edition ISBN: 0743273567 (ISBN...</td>\n",
              "    </tr>\n",
              "  </tbody>\n",
              "</table>\n",
              "<p>5 rows × 24 columns</p>\n",
              "</div>\n",
              "      <button class=\"colab-df-convert\" onclick=\"convertToInteractive('df-58052f94-117c-46b2-8d58-85a2a2b96c99')\"\n",
              "              title=\"Convert this dataframe to an interactive table.\"\n",
              "              style=\"display:none;\">\n",
              "        \n",
              "  <svg xmlns=\"http://www.w3.org/2000/svg\" height=\"24px\"viewBox=\"0 0 24 24\"\n",
              "       width=\"24px\">\n",
              "    <path d=\"M0 0h24v24H0V0z\" fill=\"none\"/>\n",
              "    <path d=\"M18.56 5.44l.94 2.06.94-2.06 2.06-.94-2.06-.94-.94-2.06-.94 2.06-2.06.94zm-11 1L8.5 8.5l.94-2.06 2.06-.94-2.06-.94L8.5 2.5l-.94 2.06-2.06.94zm10 10l.94 2.06.94-2.06 2.06-.94-2.06-.94-.94-2.06-.94 2.06-2.06.94z\"/><path d=\"M17.41 7.96l-1.37-1.37c-.4-.4-.92-.59-1.43-.59-.52 0-1.04.2-1.43.59L10.3 9.45l-7.72 7.72c-.78.78-.78 2.05 0 2.83L4 21.41c.39.39.9.59 1.41.59.51 0 1.02-.2 1.41-.59l7.78-7.78 2.81-2.81c.8-.78.8-2.07 0-2.86zM5.41 20L4 18.59l7.72-7.72 1.47 1.35L5.41 20z\"/>\n",
              "  </svg>\n",
              "      </button>\n",
              "      \n",
              "  <style>\n",
              "    .colab-df-container {\n",
              "      display:flex;\n",
              "      flex-wrap:wrap;\n",
              "      gap: 12px;\n",
              "    }\n",
              "\n",
              "    .colab-df-convert {\n",
              "      background-color: #E8F0FE;\n",
              "      border: none;\n",
              "      border-radius: 50%;\n",
              "      cursor: pointer;\n",
              "      display: none;\n",
              "      fill: #1967D2;\n",
              "      height: 32px;\n",
              "      padding: 0 0 0 0;\n",
              "      width: 32px;\n",
              "    }\n",
              "\n",
              "    .colab-df-convert:hover {\n",
              "      background-color: #E2EBFA;\n",
              "      box-shadow: 0px 1px 2px rgba(60, 64, 67, 0.3), 0px 1px 3px 1px rgba(60, 64, 67, 0.15);\n",
              "      fill: #174EA6;\n",
              "    }\n",
              "\n",
              "    [theme=dark] .colab-df-convert {\n",
              "      background-color: #3B4455;\n",
              "      fill: #D2E3FC;\n",
              "    }\n",
              "\n",
              "    [theme=dark] .colab-df-convert:hover {\n",
              "      background-color: #434B5C;\n",
              "      box-shadow: 0px 1px 3px 1px rgba(0, 0, 0, 0.15);\n",
              "      filter: drop-shadow(0px 1px 2px rgba(0, 0, 0, 0.3));\n",
              "      fill: #FFFFFF;\n",
              "    }\n",
              "  </style>\n",
              "\n",
              "      <script>\n",
              "        const buttonEl =\n",
              "          document.querySelector('#df-58052f94-117c-46b2-8d58-85a2a2b96c99 button.colab-df-convert');\n",
              "        buttonEl.style.display =\n",
              "          google.colab.kernel.accessAllowed ? 'block' : 'none';\n",
              "\n",
              "        async function convertToInteractive(key) {\n",
              "          const element = document.querySelector('#df-58052f94-117c-46b2-8d58-85a2a2b96c99');\n",
              "          const dataTable =\n",
              "            await google.colab.kernel.invokeFunction('convertToInteractive',\n",
              "                                                     [key], {});\n",
              "          if (!dataTable) return;\n",
              "\n",
              "          const docLinkHtml = 'Like what you see? Visit the ' +\n",
              "            '<a target=\"_blank\" href=https://colab.research.google.com/notebooks/data_table.ipynb>data table notebook</a>'\n",
              "            + ' to learn more about interactive tables.';\n",
              "          element.innerHTML = '';\n",
              "          dataTable['output_type'] = 'display_data';\n",
              "          await google.colab.output.renderOutput(dataTable, element);\n",
              "          const docLink = document.createElement('div');\n",
              "          docLink.innerHTML = docLinkHtml;\n",
              "          element.appendChild(docLink);\n",
              "        }\n",
              "      </script>\n",
              "    </div>\n",
              "  </div>\n",
              "  "
            ]
          },
          "metadata": {},
          "execution_count": 3
        }
      ],
      "source": [
        "df_books = pd.read_csv('books.csv', sep=',')\n",
        "df_books.head()\n"
      ]
    },
    {
      "cell_type": "code",
      "execution_count": 4,
      "metadata": {
        "ExecuteTime": {
          "end_time": "2020-09-05T11:35:31.626497Z",
          "start_time": "2020-09-05T11:35:31.613866Z"
        },
        "id": "JhraS621Ly0v"
      },
      "outputs": [],
      "source": [
        "# diccionario con id del usuario y id de libros con los que ha interactuado en el pasado \n",
        "with open('goodreads_past_interactions.json') as f:\n",
        "    user_interactions = json.load(f)\n",
        "\n",
        "# diccionario con id del usuario y id de libros para testear el modelo     \n",
        "with open('goodreads_test_interactions.json') as f:\n",
        "    user_interactions_test = json.load(f)\n"
      ]
    },
    {
      "cell_type": "code",
      "execution_count": 5,
      "metadata": {
        "ExecuteTime": {
          "end_time": "2020-09-05T11:35:49.010912Z",
          "start_time": "2020-09-05T11:35:49.007005Z"
        },
        "id": "kklEXHTMLy03"
      },
      "outputs": [],
      "source": [
        "# dict index 2 book id and vice-versa for recommendation \n",
        "idx2bookid = {i: id_ for i, id_ in enumerate(df_books.book_id)}\n",
        "bookid2idx = {id_:i for i, id_ in enumerate(df_books.book_id)}"
      ]
    },
    {
      "cell_type": "markdown",
      "metadata": {
        "id": "vpgk8_p-Ly06"
      },
      "source": [
        "# Cargar características pre-entrenadas: BERT y BERT-large\n",
        "\n",
        "En esta sección se trabajará con modelos pre-entrenados de modelos de lenguage BERT y BERT-large que convierten texto a embeddings. \n",
        "\n",
        "Bidirectional Encoder Representations from Transformers (BERT) es una técnica de NLP (Natural Language Processing) desarrollada por Google y publicada en 2018 por Jacob Devlin. \n",
        "\n",
        "Actualmente Google utiliza BERT para entender las consultas de los usuarios en su buscador. \n",
        "\n",
        "Tiene dos versiones: \n",
        "- **BERT:** 12 capas, 12 cabezales de atencion y 110 millones de parámetros. Genera vectores de 768 dimensiones \n",
        "- **BERT-large:** 24 capas, 16 cabezales de atencion y 340 millones de parámetros.  \n",
        "\n",
        "![BERT y BERT-large](http://jalammar.github.io/images/bert-base-bert-large.png)\n",
        "\n",
        "![BERT y BERT-large arquitectura](http://jalammar.github.io/images/bert-base-bert-large-encoders.png)\n",
        "\n",
        "En este caso los textos que utilizaremos son los títulos de los libros con su descripción y compararemos los resultados de recomendación con BERT y BERT-large. Para efectos de este trabajo los vectores de características ya fueron entrenados y guardados en archivos numpy. A continuación son cargados en memoria.\n",
        "\n",
        "Para mayores detalles sobre el modelo de lenguaje BERT se recomienda revisar el siguiente artículo:\n",
        "- [BERT: Pre-training of Deep Bidirectional Transformers for Language Understanding](https://arxiv.org/pdf/1810.04805.pdf)\n"
      ]
    },
    {
      "cell_type": "code",
      "execution_count": 6,
      "metadata": {
        "ExecuteTime": {
          "end_time": "2020-09-05T11:35:57.092349Z",
          "start_time": "2020-09-05T11:35:57.075885Z"
        },
        "id": "70GKnNfrLy06"
      },
      "outputs": [],
      "source": [
        "bert_featmat = np.load('goodreads_bert_embeddings.npy', allow_pickle=True)\n",
        "bert_large_featmat = np.load('goodreads_bert_large_embeddings.npy', allow_pickle=True)"
      ]
    },
    {
      "cell_type": "code",
      "execution_count": 7,
      "metadata": {
        "ExecuteTime": {
          "end_time": "2020-09-05T11:35:59.530323Z",
          "start_time": "2020-09-05T11:35:59.525324Z"
        },
        "colab": {
          "base_uri": "https://localhost:8080/"
        },
        "id": "u_do7vxtLy0_",
        "outputId": "43c1ee3b-b889-48be-a274-e1f54e3080a9"
      },
      "outputs": [
        {
          "output_type": "execute_result",
          "data": {
            "text/plain": [
              "(4287, 768)"
            ]
          },
          "metadata": {},
          "execution_count": 7
        }
      ],
      "source": [
        "bert_featmat.shape"
      ]
    },
    {
      "cell_type": "code",
      "execution_count": 8,
      "metadata": {
        "ExecuteTime": {
          "end_time": "2020-09-05T11:36:00.421823Z",
          "start_time": "2020-09-05T11:36:00.411993Z"
        },
        "colab": {
          "base_uri": "https://localhost:8080/"
        },
        "id": "076Tu9o-Ly1C",
        "outputId": "8de26cc7-c14d-4b15-9620-6ae663381309"
      },
      "outputs": [
        {
          "output_type": "execute_result",
          "data": {
            "text/plain": [
              "(4287, 1024)"
            ]
          },
          "metadata": {},
          "execution_count": 8
        }
      ],
      "source": [
        "bert_large_featmat.shape"
      ]
    },
    {
      "cell_type": "markdown",
      "metadata": {
        "id": "EOp61nz0Ly1E"
      },
      "source": [
        "### **Pregunta 1** \n",
        "\n",
        "Considerando que haremos un recomendador basado en contenidos ¿Por qué el uso de modelos de lenguage es una buena elección para este tipo de problema?"
      ]
    },
    {
      "cell_type": "markdown",
      "metadata": {
        "id": "YtMPx5VfLy1F"
      },
      "source": [
        "**Respuesta 1:**"
      ]
    },
    {
      "cell_type": "markdown",
      "metadata": {
        "id": "oV1SmfEoLy1F"
      },
      "source": [
        "# Probamos con BERT y BERT-large reduciendo dimensionalidad con PCA-20\n",
        "\n",
        "Una vez calculado (o cargado) los vectores característicos de cada libro a partir de su titulo y descripción, reducimos dimensionalidad. Probaremos con BERT y BERT-large para comparar los resultados de ambos en recomendación basada en contenido. \n"
      ]
    },
    {
      "cell_type": "code",
      "execution_count": 10,
      "metadata": {
        "ExecuteTime": {
          "end_time": "2020-09-05T11:36:15.597694Z",
          "start_time": "2020-09-05T11:36:14.926635Z"
        },
        "id": "K63l3IDDLy1G"
      },
      "outputs": [],
      "source": [
        "# Project into a 20 PCA feature space\n",
        "pca20_bert_featmat = PCA(n_components=20).fit_transform(bert_featmat)\n",
        "pca20_bert_large_featmat = PCA(n_components=20).fit_transform(bert_large_featmat)"
      ]
    },
    {
      "cell_type": "code",
      "execution_count": 11,
      "metadata": {
        "ExecuteTime": {
          "end_time": "2020-09-05T11:36:16.530240Z",
          "start_time": "2020-09-05T11:36:16.524921Z"
        },
        "colab": {
          "base_uri": "https://localhost:8080/"
        },
        "id": "edXddHMgLy1I",
        "outputId": "b965e4ba-ab9d-4182-c558-064f36f85aaa"
      },
      "outputs": [
        {
          "output_type": "execute_result",
          "data": {
            "text/plain": [
              "(4287, 20)"
            ]
          },
          "metadata": {},
          "execution_count": 11
        }
      ],
      "source": [
        "pca20_bert_featmat.shape"
      ]
    },
    {
      "cell_type": "code",
      "execution_count": 12,
      "metadata": {
        "ExecuteTime": {
          "end_time": "2020-09-05T11:36:17.395228Z",
          "start_time": "2020-09-05T11:36:17.390291Z"
        },
        "colab": {
          "base_uri": "https://localhost:8080/"
        },
        "id": "poVgB01ELy1K",
        "outputId": "0d8fec79-ec52-47db-a4b7-ef81240e1df2"
      },
      "outputs": [
        {
          "output_type": "execute_result",
          "data": {
            "text/plain": [
              "(4287, 20)"
            ]
          },
          "metadata": {},
          "execution_count": 12
        }
      ],
      "source": [
        "pca20_bert_large_featmat.shape"
      ]
    },
    {
      "cell_type": "markdown",
      "metadata": {
        "id": "5I-uPstPLy1N"
      },
      "source": [
        "### **Pregunta 2**\n",
        "\n",
        "Comente por qué se utiliza PCA para reducir la dimensión de cada vector característico. ¿Qué sucede con la pérdida de información en la reducción de dimensionalidad?"
      ]
    },
    {
      "cell_type": "markdown",
      "metadata": {
        "id": "vZTjzT8oLy1N"
      },
      "source": [
        "### Respuesta 2: "
      ]
    },
    {
      "cell_type": "markdown",
      "metadata": {
        "id": "72J6mq5CLy1N"
      },
      "source": [
        "# Similar document retrieval \n",
        "\n",
        "En esta sección utilizaremos los vectores cargados para hacer un sistema de recuperación o búsqueda de información, para diferentes métricas de distancia.\n",
        "\n",
        "Buscamos libros similares de acuerdo a la representación vectorial (BERT) de su título y descripción. \n"
      ]
    },
    {
      "cell_type": "code",
      "execution_count": 13,
      "metadata": {
        "ExecuteTime": {
          "end_time": "2020-09-05T11:36:25.394834Z",
          "start_time": "2020-09-05T11:36:25.390694Z"
        },
        "colab": {
          "base_uri": "https://localhost:8080/"
        },
        "id": "SxCprSiiLy1O",
        "outputId": "8e9c0eee-e1d2-4735-8857-a14023955b41"
      },
      "outputs": [
        {
          "output_type": "stream",
          "name": "stderr",
          "text": [
            "/usr/local/lib/python3.7/dist-packages/ipykernel_launcher.py:3: FutureWarning: Passing a negative integer is deprecated in version 1.0 and will not be supported in future version. Instead, use None to not limit the column width.\n",
            "  This is separate from the ipykernel package so we can avoid doing imports until\n"
          ]
        }
      ],
      "source": [
        "# format results \n",
        "pd.options.display.max_colwidth = 50\n",
        "pd.set_option('display.max_colwidth', -1)"
      ]
    },
    {
      "cell_type": "code",
      "execution_count": 14,
      "metadata": {
        "ExecuteTime": {
          "end_time": "2020-09-05T11:36:26.354216Z",
          "start_time": "2020-09-05T11:36:26.347790Z"
        },
        "id": "2Za4TGZ5Ly1Q"
      },
      "outputs": [],
      "source": [
        "# Find similar images by image id\n",
        "def find_similar_books(embedding, query_id=None, metric='euclidean', topk=10):\n",
        "    \n",
        "    n = embedding.shape[0]\n",
        "    \n",
        "    if query_id is None:\n",
        "        query_i = np.random.randint(n)\n",
        "        query_id = idx2bookid[query_i]\n",
        "    \n",
        "    else:\n",
        "        query_i = bookid2idx[query_id]\n",
        "        \n",
        "    \n",
        "    distances = pairwise_distances(embedding[query_i].reshape(1,-1), embedding, metric=metric)\n",
        "    heap = []\n",
        "    for i in range(n):            \n",
        "        if len(heap) < topk:\n",
        "            heapq.heappush(heap, (-distances[0][i], i))\n",
        "        else:\n",
        "            heapq.heappushpop(heap, (-distances[0][i], i))\n",
        "\n",
        "    heap.sort(reverse=True)\n",
        "    rec_ids = [idx2bookid[i] for _,i in heap]\n",
        "    \n",
        "    return rec_ids"
      ]
    },
    {
      "cell_type": "markdown",
      "metadata": {
        "id": "kpDND3ElLy1S"
      },
      "source": [
        "## Usando BERT "
      ]
    },
    {
      "cell_type": "code",
      "execution_count": 15,
      "metadata": {
        "ExecuteTime": {
          "end_time": "2020-09-05T11:36:28.525378Z",
          "start_time": "2020-09-05T11:36:28.506509Z"
        },
        "colab": {
          "base_uri": "https://localhost:8080/"
        },
        "id": "xSXMckE9Ly1S",
        "outputId": "6faa1d71-0cb7-4b29-d287-852e9e89a7dc"
      },
      "outputs": [
        {
          "output_type": "execute_result",
          "data": {
            "text/plain": [
              "[3, 2908, 3115, 2303, 7334, 7235, 5721, 3510, 9552, 9696]"
            ]
          },
          "metadata": {},
          "execution_count": 15
        }
      ],
      "source": [
        "# libros similares al libro de id 41865 (Twilight) utilizando distancia euclideana. se puede cambiar a \"cosine\" \n",
        "similar_books = find_similar_books(bert_featmat, query_id = 3, metric = 'euclidean', topk=10 )\n",
        "similar_books"
      ]
    },
    {
      "cell_type": "code",
      "execution_count": 16,
      "metadata": {
        "ExecuteTime": {
          "end_time": "2020-09-05T11:36:30.385056Z",
          "start_time": "2020-09-05T11:36:30.374035Z"
        },
        "colab": {
          "base_uri": "https://localhost:8080/",
          "height": 1000
        },
        "id": "ewrZUZUcLy1V",
        "outputId": "3248d9d3-48b0-4270-b52a-4320cf5bb3d0"
      },
      "outputs": [
        {
          "output_type": "execute_result",
          "data": {
            "text/plain": [
              "      book_id                                    original_title  \\\n",
              "2     3        Twilight                                           \n",
              "1423  2303     Bloody Bones                                       \n",
              "1708  2908     Severed Heads, Broken Hearts                       \n",
              "1808  3115     A Hunger Like No Other                             \n",
              "1999  3510     Cerulean Sins (Anita Blake, Vampire Hunter, #11)   \n",
              "2903  5721     No Humans Involved                                 \n",
              "3423  7235     Afterburn                                          \n",
              "3459  7334     Graffiti Moon                                      \n",
              "4152  9552     The Last Werewolf                                  \n",
              "4198  9696     Perfect Shadow                                     \n",
              "\n",
              "                                                                                                                                                                                                                                                                                                                                                                                                                                                                                                                                                                                                                                                                                                                                                                                                                                                                                                                                                                                                                                                                                                                                                                                                                                                                                                                                                                                                                                                                                                                                                                                                                                                                                                                                                                                                                                                       book_desc  \\\n",
              "2     About three things I was absolutely positive.First, Edward was a vampire.Second, there was a part of him—and I didn't know how dominant that part might be—that thirsted for my blood.And third, I was unconditionally and irrevocably in love with him.In the first book of the Twilight Saga, internationally bestselling author Stephenie Meyer introduces Bella Swan and Edward Cullen, a pair of star-crossed lovers whose forbidden relationship ripens against the backdrop of small-town suspicion and a mysterious coven of vampires. This is a love story with bite.                                                                                                                                                                                                                                                                                                                                                                                                                                                                                                                                                                                                                                                                                                                                                                                                                                                                                                                                                                                                                                                                                                                                                                                                                                                                               \n",
              "1423  In Laurell K. Hamilton's \"New York Times\" bestselling novels, Anita Blake, vampire hunter and animator, takes a bite out of crime-of the supernatural kind. But even someone who deals with death on a daily basis can be unnerved by its power...  When Branson, Missouri, is hit with a death wave-four unsolved murders-it doesn't take an expert to realize that all is not well. But luckily for the locals, Anita is an expert-in just the kinds of preternatural goings-on that have everyone spooked. And she's got an \"in\" with just the kind of creature who can make sense of the slayings: a sexy master vampire known as Jean Claude.                                                                                                                                                                                                                                                                                                                                                                                                                                                                                                                                                                                                                                                                                                                                                                                                                                                                                                                                                                                                                                                                                                                                                                                                           \n",
              "1708  Robyn Schneider's The Beginning of Everything is a witty and heart-wrenching teen novel that will appeal to fans of books by John Green and Ned Vizzini, novels such as The Perks of Being a Wallflower, and classics like The Great Gatsby and The Catcher in the Rye.Varsity tennis captain Ezra Faulkner was supposed to be homecoming king, but that was before—before his girlfriend cheated on him, before a car accident shattered his leg, and before he fell in love with unpredictable new girl Cassidy Thorpe.As Kirkus Reviews said in a starred review, \"Schneider takes familiar stereotypes and infuses them with plenty of depth. Here are teens who could easily trade barbs and double entendres with the characters that fill John Green's novels.\"Funny, smart, and including everything from flash mobs to blanket forts to a poodle who just might be the reincarnation of Jay Gatsby, The Beginning of Everything is a refreshing contemporary twist on the classic coming-of-age novel—a heart-wrenching story about how difficult it is to play the part that people expect, and how new beginnings can stem from abrupt and tragic endings.                                                                                                                                                                                                                                                                                                                                                                                                                                                                                                                                                                                                                                                                                        \n",
              "1808  In New York Times and USA TODAY bestselling author Kresley Cole’s sizzling series, a fierce werewolf and a bewitching vampire become unlikely soul mates whose passion will test the boundaries of life and death.After enduring years of torture from the vampire horde, Lachlain MacRieve, leader of the Lykae Clan, is enraged to find the predestined mate he’s waited millennia for is a vampire. Or partly one. Emmaline Troy is a small, ethereal half Valkyrie/half vampire, who somehow begins to soothe the fury burning within him.Sheltered Emmaline finally sets out to uncover the truth about her deceased parents—until a powerful Lykae claims her as his mate and forces her back to his ancestral Scottish castle. There, her fear of the Lykae—and their notorious dark desires—ebbs as he begins a slow, wicked seduction to sate her own dark cravings.Yet when an ancient evil from her past resurfaces, will their desire deepen into a love that can bring a proud warrior to his knees and turn a gentle beauty into the fighter she was born to be?                                                                                                                                                                                                                                                                                                                                                                                                                                                                                                                                                                                                                                                                                                                                                                               \n",
              "1999  Cerulean Sins, the eleventh entry in the hugely-popular Anita Blake series, finds everyone’s favorite vampire hunter keeping house and kicking butt.Anita Blake is trying to get her life back to “normal” after a break-up with her werewolf lover. She has settled into a pattern of domesticity, which means that the new man in her life, the leopard shapeshifter Micah, has no problem sharing her with Jean-Claude, Master Vampire of the City. Things are as peaceful as they ever get for someone who raises the dead, when Jean-Claude receives an unexpected and unwelcome visitor: Musette, the very beautiful, very twisted representative of the European Council of Vampires. Anita soon finds herself caught up in a dangerous game of vampire power politics.To add to her troubles, she is asked to consult on a series of brutal killings, which seem to be the work of something un-human. The investigation leads her to Cerulean Sins, a vampire-run establishment that deals in erotic videos, videos that cater to very specific tastes. Anita knows one creature of the night who has such interests — Jean-Claude’s visitor. But if Anita brings Musette down, the repercussions could cost her everything she holds dear.Once a sworn enemy of all monsters, Anita is now the human consort of both Master Vampire Jean Claude and leopard shapeshifter Micah. When a centuries-old vampire hits St. Louis, Anita finds herself needing all the dark forces her passion can muster to save the ones she loves.Anita Blake returns to find hell hath no fury like a vampire scorned.                                                                                                                                                                                                                                               \n",
              "2903  In her acclaimed Women of the Otherworld series, bestselling author Kelley Armstrong creates a present day in which humans unwittingly coexist with werewolves, witches, and other supernatural beings. Now, in this spellbinding new novel, a beautiful necromancer who can see ghosts must come to terms with her power—and with an evil she never thought possible.\\r\\r\\r\\r\\r\\r\\nIt’s the most anticipated reality television event of the season: three spiritualists gathered together in one house to raise the ghost of Marilyn Monroe. For celebrity medium Jaime Vegas, it is to be her swan song—one last publicity blast for a celebrity on the wrong side of forty. But unlike her colleagues, who are more show than substance, Jaime is the real thing. Reluctant to upstage her fellow spiritualists, Jaime tries to suppress her talents, as she has done her entire life. But there is something lurking in the maze of gardens behind the house: a spirit without a voice. And it won’t let go until somehow Jaime hears its terrible story. For the first time in her life, Jaime Vegas understands what humans mean when they say they are haunted. Distraught, Jaime looks to fellow supernatural Jeremy Danvers for help.As the touches and whispers from the garden grow more frantic, Jaime and Jeremy embark on an investigation into a Los Angeles underworld of black magic and ritual sacrifice. When events culminate in a psychic showdown, Jaime must use the darkest power she has to defeat a shocking enemy—one whose malicious force comes from the last realm she expected. . . .In a world whose surface resembles our own, Kelley Armstrong delivers a stunning alternate reality, one where beings of the imagination live, love, and fight a never-ending battle between good and evil.From the Hardcover edition.   \n",
              "3423  #1 New York Times bestselling author Sylvia Day, America’s premier author of provocative fiction, delivers the debut novel from Cosmo Red-Hot Reads from Harlequin.The realization that Jax still affected me so strongly was a jagged pill to swallow. He’d only been part of my life for five short weeks two years ago. But now he was back. Walking into a deal I’d worked hard to close. And God, he was magnificent. His eyes were a brown so dark they were nearly black. Thickly lashed, they were relentless in their intensity. Had I really thought they were soft and warm? There was nothing soft about Jackson Rutledge. He was a hard and jaded man, cut from a ruthless cloth.In that moment I understood how badly I wanted to unravel the mystery of Jax. Bad enough that I didn’t mind how much it was going to cost me...                                                                                                                                                                                                                                                                                                                                                                                                                                                                                                                                                                                                                                                                                                                                                                                                                                                                                                                                                                                                                \n",
              "3459  Lucy is in love with Shadow, a mysterious graffiti artist.Ed thought he was in love with Lucy, until she broke his nose.Dylan loves Daisy, but throwing eggs at her probably wasn't the best way to show it.Jazz and Leo are slowly encircling each other.An intense and exhilarating 24 hours in the lives of four teenagers on the verge: of adulthood, of HSC, of finding out just who they are, and who they want to be.A lyrical new YA novel from the award-winning author of \\r\\r\\r\\r\\r\\r\\nChasing Charlie Duskin\\r\\r\\r\\r\\r\\r\\n and the Gracie Faltrain series.                                                                                                                                                                                                                                                                                                                                                                                                                                                                                                                                                                                                                                                                                                                                                                                                                                                                                                                                                                                                                                                                                                                                                                                                                                                                                       \n",
              "4152  Here is a powerful, definitive new version of the werewolf legend—mesmerising and incredibly sexy. In Jake, Glen Duncan has given us a werewolf for the twenty-first century—a man whose deeds can only be described as monstrous but who is in some magical way deeply human.Meet Jake. A bit on the elderly side (he turns 201 in March), but otherwise in the pink of health. The nonstop sex and exercise he's still getting probably contribute to that, as does his diet: unusual amounts of flesh and blood (at least some from friends and relatives). Jake, of course, is a werewolf, and with the death of his colleague he has now become the only one of his kind. This depresses Jake to the point that he's been contemplating suicide. Yet there are powerful forces who for very different reasons want - and have the power - to keep Jake alive. Here is a powerful new version of the werewolf legend - mesmerizing and undeniably sexy, and with moments of violence so elegantly wrought they dazzle rather than repel. But perhaps its most remarkable achievement is to make the reader feel sympathy for a man who can only be described as a monster - and in doing so, remind us what it means to be human. One of the most original, audacious, and terrifying novels in years.                                                                                                                                                                                                                                                                                                                                                                                                                                                                                                                                                   \n",
              "4198  Discover the origins of Durzo Blint in this original novella set in the world of Brent Weeks' New York Times bestselling Night Angel trilogy.\"I got a bit of prophecy,\" the old assassin said. \"Not enough to be useful, you know. Just glimpses. My wife dead, things like that to keep me up late at night. I had this vision that I was going to be killed by forty men, all at once. But now that you're here, I see they're all you. Durzo Blint.\"Durzo Blint? Gaelan had never even heard the name.***Gaelan Starfire is a farmer, happy to be a husband and a father; a careful, quiet, simple man. He's also an immortal, peerless in the arts of war. Over the centuries, he's worn many faces to hide his gift, but he is a man ill-fit for obscurity, and all too often he's become a hero, his very names passing into legend: Acaelus Thorne, Yric the Black, Hrothan Steelbender, Tal Drakkan, Rebus Nimble.But when Gaelan must take a job hunting down the world's finest assassins for the beautiful courtesan-and-crimelord Gwinvere Kirena, what he finds may destroy everything he's ever believed in.Word count: ~17,000                                                                                                                                                                                                                                                                                                                                                                                                                                                                                                                                                                                                                                                                                                                \n",
              "\n",
              "                  authors  \n",
              "2     Stephenie Meyer      \n",
              "1423  Laurell K. Hamilton  \n",
              "1708  Robyn Schneider      \n",
              "1808  Kresley Cole         \n",
              "1999  Laurell K. Hamilton  \n",
              "2903  Kelley Armstrong     \n",
              "3423  Sylvia Day           \n",
              "3459  Cath Crowley         \n",
              "4152  Glen Duncan          \n",
              "4198  Brent Weeks          "
            ],
            "text/html": [
              "\n",
              "  <div id=\"df-3ec6f778-9c09-45b8-8950-655c0d46e072\">\n",
              "    <div class=\"colab-df-container\">\n",
              "      <div>\n",
              "<style scoped>\n",
              "    .dataframe tbody tr th:only-of-type {\n",
              "        vertical-align: middle;\n",
              "    }\n",
              "\n",
              "    .dataframe tbody tr th {\n",
              "        vertical-align: top;\n",
              "    }\n",
              "\n",
              "    .dataframe thead th {\n",
              "        text-align: right;\n",
              "    }\n",
              "</style>\n",
              "<table border=\"1\" class=\"dataframe\">\n",
              "  <thead>\n",
              "    <tr style=\"text-align: right;\">\n",
              "      <th></th>\n",
              "      <th>book_id</th>\n",
              "      <th>original_title</th>\n",
              "      <th>book_desc</th>\n",
              "      <th>authors</th>\n",
              "    </tr>\n",
              "  </thead>\n",
              "  <tbody>\n",
              "    <tr>\n",
              "      <th>2</th>\n",
              "      <td>3</td>\n",
              "      <td>Twilight</td>\n",
              "      <td>About three things I was absolutely positive.First, Edward was a vampire.Second, there was a part of him—and I didn't know how dominant that part might be—that thirsted for my blood.And third, I was unconditionally and irrevocably in love with him.In the first book of the Twilight Saga, internationally bestselling author Stephenie Meyer introduces Bella Swan and Edward Cullen, a pair of star-crossed lovers whose forbidden relationship ripens against the backdrop of small-town suspicion and a mysterious coven of vampires. This is a love story with bite.</td>\n",
              "      <td>Stephenie Meyer</td>\n",
              "    </tr>\n",
              "    <tr>\n",
              "      <th>1423</th>\n",
              "      <td>2303</td>\n",
              "      <td>Bloody Bones</td>\n",
              "      <td>In Laurell K. Hamilton's \"New York Times\" bestselling novels, Anita Blake, vampire hunter and animator, takes a bite out of crime-of the supernatural kind. But even someone who deals with death on a daily basis can be unnerved by its power...  When Branson, Missouri, is hit with a death wave-four unsolved murders-it doesn't take an expert to realize that all is not well. But luckily for the locals, Anita is an expert-in just the kinds of preternatural goings-on that have everyone spooked. And she's got an \"in\" with just the kind of creature who can make sense of the slayings: a sexy master vampire known as Jean Claude.</td>\n",
              "      <td>Laurell K. Hamilton</td>\n",
              "    </tr>\n",
              "    <tr>\n",
              "      <th>1708</th>\n",
              "      <td>2908</td>\n",
              "      <td>Severed Heads, Broken Hearts</td>\n",
              "      <td>Robyn Schneider's The Beginning of Everything is a witty and heart-wrenching teen novel that will appeal to fans of books by John Green and Ned Vizzini, novels such as The Perks of Being a Wallflower, and classics like The Great Gatsby and The Catcher in the Rye.Varsity tennis captain Ezra Faulkner was supposed to be homecoming king, but that was before—before his girlfriend cheated on him, before a car accident shattered his leg, and before he fell in love with unpredictable new girl Cassidy Thorpe.As Kirkus Reviews said in a starred review, \"Schneider takes familiar stereotypes and infuses them with plenty of depth. Here are teens who could easily trade barbs and double entendres with the characters that fill John Green's novels.\"Funny, smart, and including everything from flash mobs to blanket forts to a poodle who just might be the reincarnation of Jay Gatsby, The Beginning of Everything is a refreshing contemporary twist on the classic coming-of-age novel—a heart-wrenching story about how difficult it is to play the part that people expect, and how new beginnings can stem from abrupt and tragic endings.</td>\n",
              "      <td>Robyn Schneider</td>\n",
              "    </tr>\n",
              "    <tr>\n",
              "      <th>1808</th>\n",
              "      <td>3115</td>\n",
              "      <td>A Hunger Like No Other</td>\n",
              "      <td>In New York Times and USA TODAY bestselling author Kresley Cole’s sizzling series, a fierce werewolf and a bewitching vampire become unlikely soul mates whose passion will test the boundaries of life and death.After enduring years of torture from the vampire horde, Lachlain MacRieve, leader of the Lykae Clan, is enraged to find the predestined mate he’s waited millennia for is a vampire. Or partly one. Emmaline Troy is a small, ethereal half Valkyrie/half vampire, who somehow begins to soothe the fury burning within him.Sheltered Emmaline finally sets out to uncover the truth about her deceased parents—until a powerful Lykae claims her as his mate and forces her back to his ancestral Scottish castle. There, her fear of the Lykae—and their notorious dark desires—ebbs as he begins a slow, wicked seduction to sate her own dark cravings.Yet when an ancient evil from her past resurfaces, will their desire deepen into a love that can bring a proud warrior to his knees and turn a gentle beauty into the fighter she was born to be?</td>\n",
              "      <td>Kresley Cole</td>\n",
              "    </tr>\n",
              "    <tr>\n",
              "      <th>1999</th>\n",
              "      <td>3510</td>\n",
              "      <td>Cerulean Sins (Anita Blake, Vampire Hunter, #11)</td>\n",
              "      <td>Cerulean Sins, the eleventh entry in the hugely-popular Anita Blake series, finds everyone’s favorite vampire hunter keeping house and kicking butt.Anita Blake is trying to get her life back to “normal” after a break-up with her werewolf lover. She has settled into a pattern of domesticity, which means that the new man in her life, the leopard shapeshifter Micah, has no problem sharing her with Jean-Claude, Master Vampire of the City. Things are as peaceful as they ever get for someone who raises the dead, when Jean-Claude receives an unexpected and unwelcome visitor: Musette, the very beautiful, very twisted representative of the European Council of Vampires. Anita soon finds herself caught up in a dangerous game of vampire power politics.To add to her troubles, she is asked to consult on a series of brutal killings, which seem to be the work of something un-human. The investigation leads her to Cerulean Sins, a vampire-run establishment that deals in erotic videos, videos that cater to very specific tastes. Anita knows one creature of the night who has such interests — Jean-Claude’s visitor. But if Anita brings Musette down, the repercussions could cost her everything she holds dear.Once a sworn enemy of all monsters, Anita is now the human consort of both Master Vampire Jean Claude and leopard shapeshifter Micah. When a centuries-old vampire hits St. Louis, Anita finds herself needing all the dark forces her passion can muster to save the ones she loves.Anita Blake returns to find hell hath no fury like a vampire scorned.</td>\n",
              "      <td>Laurell K. Hamilton</td>\n",
              "    </tr>\n",
              "    <tr>\n",
              "      <th>2903</th>\n",
              "      <td>5721</td>\n",
              "      <td>No Humans Involved</td>\n",
              "      <td>In her acclaimed Women of the Otherworld series, bestselling author Kelley Armstrong creates a present day in which humans unwittingly coexist with werewolves, witches, and other supernatural beings. Now, in this spellbinding new novel, a beautiful necromancer who can see ghosts must come to terms with her power—and with an evil she never thought possible.\\r\\r\\r\\r\\r\\r\\nIt’s the most anticipated reality television event of the season: three spiritualists gathered together in one house to raise the ghost of Marilyn Monroe. For celebrity medium Jaime Vegas, it is to be her swan song—one last publicity blast for a celebrity on the wrong side of forty. But unlike her colleagues, who are more show than substance, Jaime is the real thing. Reluctant to upstage her fellow spiritualists, Jaime tries to suppress her talents, as she has done her entire life. But there is something lurking in the maze of gardens behind the house: a spirit without a voice. And it won’t let go until somehow Jaime hears its terrible story. For the first time in her life, Jaime Vegas understands what humans mean when they say they are haunted. Distraught, Jaime looks to fellow supernatural Jeremy Danvers for help.As the touches and whispers from the garden grow more frantic, Jaime and Jeremy embark on an investigation into a Los Angeles underworld of black magic and ritual sacrifice. When events culminate in a psychic showdown, Jaime must use the darkest power she has to defeat a shocking enemy—one whose malicious force comes from the last realm she expected. . . .In a world whose surface resembles our own, Kelley Armstrong delivers a stunning alternate reality, one where beings of the imagination live, love, and fight a never-ending battle between good and evil.From the Hardcover edition.</td>\n",
              "      <td>Kelley Armstrong</td>\n",
              "    </tr>\n",
              "    <tr>\n",
              "      <th>3423</th>\n",
              "      <td>7235</td>\n",
              "      <td>Afterburn</td>\n",
              "      <td>#1 New York Times bestselling author Sylvia Day, America’s premier author of provocative fiction, delivers the debut novel from Cosmo Red-Hot Reads from Harlequin.The realization that Jax still affected me so strongly was a jagged pill to swallow. He’d only been part of my life for five short weeks two years ago. But now he was back. Walking into a deal I’d worked hard to close. And God, he was magnificent. His eyes were a brown so dark they were nearly black. Thickly lashed, they were relentless in their intensity. Had I really thought they were soft and warm? There was nothing soft about Jackson Rutledge. He was a hard and jaded man, cut from a ruthless cloth.In that moment I understood how badly I wanted to unravel the mystery of Jax. Bad enough that I didn’t mind how much it was going to cost me...</td>\n",
              "      <td>Sylvia Day</td>\n",
              "    </tr>\n",
              "    <tr>\n",
              "      <th>3459</th>\n",
              "      <td>7334</td>\n",
              "      <td>Graffiti Moon</td>\n",
              "      <td>Lucy is in love with Shadow, a mysterious graffiti artist.Ed thought he was in love with Lucy, until she broke his nose.Dylan loves Daisy, but throwing eggs at her probably wasn't the best way to show it.Jazz and Leo are slowly encircling each other.An intense and exhilarating 24 hours in the lives of four teenagers on the verge: of adulthood, of HSC, of finding out just who they are, and who they want to be.A lyrical new YA novel from the award-winning author of \\r\\r\\r\\r\\r\\r\\nChasing Charlie Duskin\\r\\r\\r\\r\\r\\r\\n and the Gracie Faltrain series.</td>\n",
              "      <td>Cath Crowley</td>\n",
              "    </tr>\n",
              "    <tr>\n",
              "      <th>4152</th>\n",
              "      <td>9552</td>\n",
              "      <td>The Last Werewolf</td>\n",
              "      <td>Here is a powerful, definitive new version of the werewolf legend—mesmerising and incredibly sexy. In Jake, Glen Duncan has given us a werewolf for the twenty-first century—a man whose deeds can only be described as monstrous but who is in some magical way deeply human.Meet Jake. A bit on the elderly side (he turns 201 in March), but otherwise in the pink of health. The nonstop sex and exercise he's still getting probably contribute to that, as does his diet: unusual amounts of flesh and blood (at least some from friends and relatives). Jake, of course, is a werewolf, and with the death of his colleague he has now become the only one of his kind. This depresses Jake to the point that he's been contemplating suicide. Yet there are powerful forces who for very different reasons want - and have the power - to keep Jake alive. Here is a powerful new version of the werewolf legend - mesmerizing and undeniably sexy, and with moments of violence so elegantly wrought they dazzle rather than repel. But perhaps its most remarkable achievement is to make the reader feel sympathy for a man who can only be described as a monster - and in doing so, remind us what it means to be human. One of the most original, audacious, and terrifying novels in years.</td>\n",
              "      <td>Glen Duncan</td>\n",
              "    </tr>\n",
              "    <tr>\n",
              "      <th>4198</th>\n",
              "      <td>9696</td>\n",
              "      <td>Perfect Shadow</td>\n",
              "      <td>Discover the origins of Durzo Blint in this original novella set in the world of Brent Weeks' New York Times bestselling Night Angel trilogy.\"I got a bit of prophecy,\" the old assassin said. \"Not enough to be useful, you know. Just glimpses. My wife dead, things like that to keep me up late at night. I had this vision that I was going to be killed by forty men, all at once. But now that you're here, I see they're all you. Durzo Blint.\"Durzo Blint? Gaelan had never even heard the name.***Gaelan Starfire is a farmer, happy to be a husband and a father; a careful, quiet, simple man. He's also an immortal, peerless in the arts of war. Over the centuries, he's worn many faces to hide his gift, but he is a man ill-fit for obscurity, and all too often he's become a hero, his very names passing into legend: Acaelus Thorne, Yric the Black, Hrothan Steelbender, Tal Drakkan, Rebus Nimble.But when Gaelan must take a job hunting down the world's finest assassins for the beautiful courtesan-and-crimelord Gwinvere Kirena, what he finds may destroy everything he's ever believed in.Word count: ~17,000</td>\n",
              "      <td>Brent Weeks</td>\n",
              "    </tr>\n",
              "  </tbody>\n",
              "</table>\n",
              "</div>\n",
              "      <button class=\"colab-df-convert\" onclick=\"convertToInteractive('df-3ec6f778-9c09-45b8-8950-655c0d46e072')\"\n",
              "              title=\"Convert this dataframe to an interactive table.\"\n",
              "              style=\"display:none;\">\n",
              "        \n",
              "  <svg xmlns=\"http://www.w3.org/2000/svg\" height=\"24px\"viewBox=\"0 0 24 24\"\n",
              "       width=\"24px\">\n",
              "    <path d=\"M0 0h24v24H0V0z\" fill=\"none\"/>\n",
              "    <path d=\"M18.56 5.44l.94 2.06.94-2.06 2.06-.94-2.06-.94-.94-2.06-.94 2.06-2.06.94zm-11 1L8.5 8.5l.94-2.06 2.06-.94-2.06-.94L8.5 2.5l-.94 2.06-2.06.94zm10 10l.94 2.06.94-2.06 2.06-.94-2.06-.94-.94-2.06-.94 2.06-2.06.94z\"/><path d=\"M17.41 7.96l-1.37-1.37c-.4-.4-.92-.59-1.43-.59-.52 0-1.04.2-1.43.59L10.3 9.45l-7.72 7.72c-.78.78-.78 2.05 0 2.83L4 21.41c.39.39.9.59 1.41.59.51 0 1.02-.2 1.41-.59l7.78-7.78 2.81-2.81c.8-.78.8-2.07 0-2.86zM5.41 20L4 18.59l7.72-7.72 1.47 1.35L5.41 20z\"/>\n",
              "  </svg>\n",
              "      </button>\n",
              "      \n",
              "  <style>\n",
              "    .colab-df-container {\n",
              "      display:flex;\n",
              "      flex-wrap:wrap;\n",
              "      gap: 12px;\n",
              "    }\n",
              "\n",
              "    .colab-df-convert {\n",
              "      background-color: #E8F0FE;\n",
              "      border: none;\n",
              "      border-radius: 50%;\n",
              "      cursor: pointer;\n",
              "      display: none;\n",
              "      fill: #1967D2;\n",
              "      height: 32px;\n",
              "      padding: 0 0 0 0;\n",
              "      width: 32px;\n",
              "    }\n",
              "\n",
              "    .colab-df-convert:hover {\n",
              "      background-color: #E2EBFA;\n",
              "      box-shadow: 0px 1px 2px rgba(60, 64, 67, 0.3), 0px 1px 3px 1px rgba(60, 64, 67, 0.15);\n",
              "      fill: #174EA6;\n",
              "    }\n",
              "\n",
              "    [theme=dark] .colab-df-convert {\n",
              "      background-color: #3B4455;\n",
              "      fill: #D2E3FC;\n",
              "    }\n",
              "\n",
              "    [theme=dark] .colab-df-convert:hover {\n",
              "      background-color: #434B5C;\n",
              "      box-shadow: 0px 1px 3px 1px rgba(0, 0, 0, 0.15);\n",
              "      filter: drop-shadow(0px 1px 2px rgba(0, 0, 0, 0.3));\n",
              "      fill: #FFFFFF;\n",
              "    }\n",
              "  </style>\n",
              "\n",
              "      <script>\n",
              "        const buttonEl =\n",
              "          document.querySelector('#df-3ec6f778-9c09-45b8-8950-655c0d46e072 button.colab-df-convert');\n",
              "        buttonEl.style.display =\n",
              "          google.colab.kernel.accessAllowed ? 'block' : 'none';\n",
              "\n",
              "        async function convertToInteractive(key) {\n",
              "          const element = document.querySelector('#df-3ec6f778-9c09-45b8-8950-655c0d46e072');\n",
              "          const dataTable =\n",
              "            await google.colab.kernel.invokeFunction('convertToInteractive',\n",
              "                                                     [key], {});\n",
              "          if (!dataTable) return;\n",
              "\n",
              "          const docLinkHtml = 'Like what you see? Visit the ' +\n",
              "            '<a target=\"_blank\" href=https://colab.research.google.com/notebooks/data_table.ipynb>data table notebook</a>'\n",
              "            + ' to learn more about interactive tables.';\n",
              "          element.innerHTML = '';\n",
              "          dataTable['output_type'] = 'display_data';\n",
              "          await google.colab.output.renderOutput(dataTable, element);\n",
              "          const docLink = document.createElement('div');\n",
              "          docLink.innerHTML = docLinkHtml;\n",
              "          element.appendChild(docLink);\n",
              "        }\n",
              "      </script>\n",
              "    </div>\n",
              "  </div>\n",
              "  "
            ]
          },
          "metadata": {},
          "execution_count": 16
        }
      ],
      "source": [
        "df_books[df_books.book_id.isin(similar_books)][['book_id', 'original_title', 'book_desc', 'authors']]"
      ]
    },
    {
      "cell_type": "markdown",
      "metadata": {
        "id": "huFoq1AuLy1X"
      },
      "source": [
        "## Usando BERT reducidos con PCA "
      ]
    },
    {
      "cell_type": "code",
      "execution_count": 17,
      "metadata": {
        "ExecuteTime": {
          "end_time": "2020-09-05T11:36:54.729372Z",
          "start_time": "2020-09-05T11:36:54.711530Z"
        },
        "colab": {
          "base_uri": "https://localhost:8080/"
        },
        "id": "fUMrLGAcLy1Y",
        "outputId": "ad0a4cba-ec5d-4896-8f9b-799225588687"
      },
      "outputs": [
        {
          "output_type": "execute_result",
          "data": {
            "text/plain": [
              "[3, 1354, 2908, 1886, 476, 2041, 7235, 9552, 4754, 6011]"
            ]
          },
          "metadata": {},
          "execution_count": 17
        }
      ],
      "source": [
        "# libros similares al libro de id 41865 (Twilight) utilizando distancia euclideana. se puede cambiar a \"cosine\" \n",
        "similar_books = find_similar_books(pca20_bert_featmat, query_id = 3, metric = 'euclidean', topk=10 )\n",
        "similar_books"
      ]
    },
    {
      "cell_type": "code",
      "execution_count": 18,
      "metadata": {
        "ExecuteTime": {
          "end_time": "2020-09-05T11:36:56.144766Z",
          "start_time": "2020-09-05T11:36:56.133793Z"
        },
        "colab": {
          "base_uri": "https://localhost:8080/",
          "height": 1000
        },
        "id": "1-F1PEPvLy1a",
        "outputId": "d0360a4d-1af2-4e65-b0ea-6a6b6d347013"
      },
      "outputs": [
        {
          "output_type": "execute_result",
          "data": {
            "text/plain": [
              "      book_id  \\\n",
              "2     3         \n",
              "354   476       \n",
              "919   1354      \n",
              "1201  1886      \n",
              "1289  2041      \n",
              "1708  2908      \n",
              "2524  4754      \n",
              "3009  6011      \n",
              "3423  7235      \n",
              "4152  9552      \n",
              "\n",
              "                                                                           original_title  \\\n",
              "2     Twilight                                                                              \n",
              "354   The World According to Garp                                                           \n",
              "919   The Strange Case of Dr. Jekyll and Mr. Hyde and Other Tales of Terror                 \n",
              "1201  Preacher Vol. 1: Gone to Texas                                                        \n",
              "1289  Lisey's Story                                                                         \n",
              "1708  Severed Heads, Broken Hearts                                                          \n",
              "2524  Midnight Bayou                                                                        \n",
              "3009  What Do You Care What Other People Think? Further Adventures of a Curious Character   \n",
              "3423  Afterburn                                                                             \n",
              "4152  The Last Werewolf                                                                     \n",
              "\n",
              "                                                                                                                                                                                                                                                                                                                                                                                                                                                                                                                                                                                                                                                                                                                                                                                                                                                                                                                                                                                                                                                                                                                                                                                                                                                                                                                                               book_desc  \\\n",
              "2     About three things I was absolutely positive.First, Edward was a vampire.Second, there was a part of him—and I didn't know how dominant that part might be—that thirsted for my blood.And third, I was unconditionally and irrevocably in love with him.In the first book of the Twilight Saga, internationally bestselling author Stephenie Meyer introduces Bella Swan and Edward Cullen, a pair of star-crossed lovers whose forbidden relationship ripens against the backdrop of small-town suspicion and a mysterious coven of vampires. This is a love story with bite.                                                                                                                                                                                                                                                                                                                                                                                                                                                                                                                                                                                                                                                                                                                                                                       \n",
              "354   This is the life and times of T. S. Garp, the bastard son of Jenny Fields--a feminist leader ahead of her times. This is the life and death of a famous mother and her almost-famous son; theirs is a world of sexual extremes--even of sexual assassinations. It is a novel rich with \"lunacy and sorrow\"; yet the dark, violent events of the story do not undermine a comedy both ribald and robust. In more than thirty languages, in more than forty countries--with more than ten million copies in print--this novel provides almost cheerful, even hilarious evidence of its famous last line: \"In the world according to Garp, we are all terminal cases.\"The World According to Garp is a comic and compassionate coming-of-age novel that established John Irving as one of the most imaginative writers of his generation. A worldwide bestseller since its publication in 1978, Irving's classic is filled with stories inside stories about the life and times of T. S. Garp, novelist and bastard son of Jenny Fields--a feminist leader ahead of her time. Beyond that, The World According to Garp virtually defies synopsis.(From author's website: http://www.john-irving.com)                                                                                                                                                    \n",
              "919   \\r\\r\\r\\r\\r\\r\\n'He put the glass to his lips and drank at one gulp... his face became suddenly black and the features seemed to melt and alter'\\r\\r\\r\\r\\r\\r\\nPublished as a 'shilling shocker', Robert Louis Stevenson's dark psychological fantasy gave birth to the idea of the split personality. The story of respectable Dr Jekyll's strange association with 'damnable young man' Edward Hyde; the hunt through fog-bound London for a killer; and the final revelation of Hyde's true identity is a chilling exploration of humanity's basest capacity for evil. The other stories in this volume also testify to Stevenson's inventiveness within the Gothic tradition: \"Olalla', a tale of vampirism and tainted family blood, and 'The Body Snatcher', a gruesome fictionalisation of the exploits of the notorious Burke and Hare.This edition contains a critical introduction by Robert Mighall, which discusses class, criminality and the significance of the story's London setting. It also includes an essay on the scientific contexts of the novel and the development of the idea of the Jekyll-and-Hyde personality.                                                                                                                                                                                                            \n",
              "1201  One of the most celebrated comics titles of the late 1990s, PREACHER is a modern American epic of life, death, love and redemption also packed with sex, booze, blood and bullets - not to mention angels, demons, God, vampires and deviants of all stripes.At first glance, the Reverend Jesse Custer doesn't look like anyone special-just another small-town minister slowly losing his flock and his faith. But he's about to come face-to-face with proof that God does indeed exist. Merging with a bizarre spiritual force called Genesis, Jesse now possesses the power of \"the Word,\" an ability to make people do whatever he utters. He begins a violent and riotous journey across the country in search of answers from the elusive deity.                                                                                                                                                                                                                                                                                                                                                                                                                                                                                                                                                                                             \n",
              "1289  Lisey Landon lost her husband Scott two years ago, after a twenty-five-year marriage of profound, sometimes frightening intimacy. Scott was a celebrated, award-winning, novelist. And a complex man. Lisey knew there was a dark place where her husband ventured to face his demons. Boo'ya Moon is what Scott called it; a realm that both terrified and healed him, that could eat him alive or give him the ideas he needed to write and live. Now, it's Lisey's turn to face her husband's demons. And what begins as a widow's effort to sort through her husband's effects, becomes a perilous journey into the heart of darkness                                                                                                                                                                                                                                                                                                                                                                                                                                                                                                                                                                                                                                                                                                            \n",
              "1708  Robyn Schneider's The Beginning of Everything is a witty and heart-wrenching teen novel that will appeal to fans of books by John Green and Ned Vizzini, novels such as The Perks of Being a Wallflower, and classics like The Great Gatsby and The Catcher in the Rye.Varsity tennis captain Ezra Faulkner was supposed to be homecoming king, but that was before—before his girlfriend cheated on him, before a car accident shattered his leg, and before he fell in love with unpredictable new girl Cassidy Thorpe.As Kirkus Reviews said in a starred review, \"Schneider takes familiar stereotypes and infuses them with plenty of depth. Here are teens who could easily trade barbs and double entendres with the characters that fill John Green's novels.\"Funny, smart, and including everything from flash mobs to blanket forts to a poodle who just might be the reincarnation of Jay Gatsby, The Beginning of Everything is a refreshing contemporary twist on the classic coming-of-age novel—a heart-wrenching story about how difficult it is to play the part that people expect, and how new beginnings can stem from abrupt and tragic endings.                                                                                                                                                                                \n",
              "2524  #1 New York Times bestselling author Nora Roberts presents a novel set deep in the bayou of Louisiana—where the only witness to a long-ago tragedy is a once-grand house… Declan Fitzgerald had always been the family maverick, but even he couldn't understand his impulse to buy a dilapidated mansion on the outskirts of New Orleans. All he knew was that ever since he first saw Manet Hall, he'd been enchanted-and obsessed-with it. So when the opportunity to buy the house comes up, Declan jumps at the chance to live out a dream.Determined to restore Manet Hall to its former splendor, Declan begins the daunting renovation room by room, relying on his own labor and skills. But the days spent in total isolation in the empty house take a toll. He is seeing visions of days from a century past, and experiencing sensations of terror and nearly unbearable grief-sensations not his own, but those of a stranger. Local legend has it that the house is haunted, and with every passing day Declan's belief in the ghostly presence grows.Only the companionship of alluring Angelina Simone can distract him from the mysterious happenings in the house, but Angelina too has her own surprising connection to Manet Hall-a connection that will help Declan uncover a secret that's been buried for a hundred years.   \n",
              "3009  One of the greatest physicists of the twentieth century, Richard Feynman possessed an unquenchable thirst for adventure and an unparalleled ability to tell the stories of his life. \"What Do You Care What Other People Think?\" is Feynman’s last literary legacy, prepared with his friend and fellow drummer, Ralph Leighton. Among its many tales—some funny, others intensely moving—we meet Feynman’s first wife, Arlene, who taught him of love’s irreducible mystery as she lay dying in a hospital bed while he worked nearby on the atomic bomb at Los Alamos. We are also given a fascinating narrative of the investigation of the space shuttle Challenger’s explosion in 1986, and we relive the moment when Feynman revealed the disaster’s cause by an elegant experiment: dropping a ring of rubber into a glass of cold water and pulling it out, misshapen.                                                                                                                                                                                                                                                                                                                                                                                                                                                                       \n",
              "3423  #1 New York Times bestselling author Sylvia Day, America’s premier author of provocative fiction, delivers the debut novel from Cosmo Red-Hot Reads from Harlequin.The realization that Jax still affected me so strongly was a jagged pill to swallow. He’d only been part of my life for five short weeks two years ago. But now he was back. Walking into a deal I’d worked hard to close. And God, he was magnificent. His eyes were a brown so dark they were nearly black. Thickly lashed, they were relentless in their intensity. Had I really thought they were soft and warm? There was nothing soft about Jackson Rutledge. He was a hard and jaded man, cut from a ruthless cloth.In that moment I understood how badly I wanted to unravel the mystery of Jax. Bad enough that I didn’t mind how much it was going to cost me...                                                                                                                                                                                                                                                                                                                                                                                                                                                                                                        \n",
              "4152  Here is a powerful, definitive new version of the werewolf legend—mesmerising and incredibly sexy. In Jake, Glen Duncan has given us a werewolf for the twenty-first century—a man whose deeds can only be described as monstrous but who is in some magical way deeply human.Meet Jake. A bit on the elderly side (he turns 201 in March), but otherwise in the pink of health. The nonstop sex and exercise he's still getting probably contribute to that, as does his diet: unusual amounts of flesh and blood (at least some from friends and relatives). Jake, of course, is a werewolf, and with the death of his colleague he has now become the only one of his kind. This depresses Jake to the point that he's been contemplating suicide. Yet there are powerful forces who for very different reasons want - and have the power - to keep Jake alive. Here is a powerful new version of the werewolf legend - mesmerizing and undeniably sexy, and with moments of violence so elegantly wrought they dazzle rather than repel. But perhaps its most remarkable achievement is to make the reader feel sympathy for a man who can only be described as a monster - and in doing so, remind us what it means to be human. One of the most original, audacious, and terrifying novels in years.                                           \n",
              "\n",
              "                                         authors  \n",
              "2     Stephenie Meyer                             \n",
              "354   John Irving                                 \n",
              "919   Robert Louis Stevenson, Robert Mighall      \n",
              "1201  Garth Ennis, Steve Dillon, Joe R. Lansdale  \n",
              "1289  Stephen King                                \n",
              "1708  Robyn Schneider                             \n",
              "2524  Nora Roberts                                \n",
              "3009  Richard Feynman                             \n",
              "3423  Sylvia Day                                  \n",
              "4152  Glen Duncan                                 "
            ],
            "text/html": [
              "\n",
              "  <div id=\"df-f81bac0b-0c50-40da-a50c-44525c8052a7\">\n",
              "    <div class=\"colab-df-container\">\n",
              "      <div>\n",
              "<style scoped>\n",
              "    .dataframe tbody tr th:only-of-type {\n",
              "        vertical-align: middle;\n",
              "    }\n",
              "\n",
              "    .dataframe tbody tr th {\n",
              "        vertical-align: top;\n",
              "    }\n",
              "\n",
              "    .dataframe thead th {\n",
              "        text-align: right;\n",
              "    }\n",
              "</style>\n",
              "<table border=\"1\" class=\"dataframe\">\n",
              "  <thead>\n",
              "    <tr style=\"text-align: right;\">\n",
              "      <th></th>\n",
              "      <th>book_id</th>\n",
              "      <th>original_title</th>\n",
              "      <th>book_desc</th>\n",
              "      <th>authors</th>\n",
              "    </tr>\n",
              "  </thead>\n",
              "  <tbody>\n",
              "    <tr>\n",
              "      <th>2</th>\n",
              "      <td>3</td>\n",
              "      <td>Twilight</td>\n",
              "      <td>About three things I was absolutely positive.First, Edward was a vampire.Second, there was a part of him—and I didn't know how dominant that part might be—that thirsted for my blood.And third, I was unconditionally and irrevocably in love with him.In the first book of the Twilight Saga, internationally bestselling author Stephenie Meyer introduces Bella Swan and Edward Cullen, a pair of star-crossed lovers whose forbidden relationship ripens against the backdrop of small-town suspicion and a mysterious coven of vampires. This is a love story with bite.</td>\n",
              "      <td>Stephenie Meyer</td>\n",
              "    </tr>\n",
              "    <tr>\n",
              "      <th>354</th>\n",
              "      <td>476</td>\n",
              "      <td>The World According to Garp</td>\n",
              "      <td>This is the life and times of T. S. Garp, the bastard son of Jenny Fields--a feminist leader ahead of her times. This is the life and death of a famous mother and her almost-famous son; theirs is a world of sexual extremes--even of sexual assassinations. It is a novel rich with \"lunacy and sorrow\"; yet the dark, violent events of the story do not undermine a comedy both ribald and robust. In more than thirty languages, in more than forty countries--with more than ten million copies in print--this novel provides almost cheerful, even hilarious evidence of its famous last line: \"In the world according to Garp, we are all terminal cases.\"The World According to Garp is a comic and compassionate coming-of-age novel that established John Irving as one of the most imaginative writers of his generation. A worldwide bestseller since its publication in 1978, Irving's classic is filled with stories inside stories about the life and times of T. S. Garp, novelist and bastard son of Jenny Fields--a feminist leader ahead of her time. Beyond that, The World According to Garp virtually defies synopsis.(From author's website: http://www.john-irving.com)</td>\n",
              "      <td>John Irving</td>\n",
              "    </tr>\n",
              "    <tr>\n",
              "      <th>919</th>\n",
              "      <td>1354</td>\n",
              "      <td>The Strange Case of Dr. Jekyll and Mr. Hyde and Other Tales of Terror</td>\n",
              "      <td>\\r\\r\\r\\r\\r\\r\\n'He put the glass to his lips and drank at one gulp... his face became suddenly black and the features seemed to melt and alter'\\r\\r\\r\\r\\r\\r\\nPublished as a 'shilling shocker', Robert Louis Stevenson's dark psychological fantasy gave birth to the idea of the split personality. The story of respectable Dr Jekyll's strange association with 'damnable young man' Edward Hyde; the hunt through fog-bound London for a killer; and the final revelation of Hyde's true identity is a chilling exploration of humanity's basest capacity for evil. The other stories in this volume also testify to Stevenson's inventiveness within the Gothic tradition: \"Olalla', a tale of vampirism and tainted family blood, and 'The Body Snatcher', a gruesome fictionalisation of the exploits of the notorious Burke and Hare.This edition contains a critical introduction by Robert Mighall, which discusses class, criminality and the significance of the story's London setting. It also includes an essay on the scientific contexts of the novel and the development of the idea of the Jekyll-and-Hyde personality.</td>\n",
              "      <td>Robert Louis Stevenson, Robert Mighall</td>\n",
              "    </tr>\n",
              "    <tr>\n",
              "      <th>1201</th>\n",
              "      <td>1886</td>\n",
              "      <td>Preacher Vol. 1: Gone to Texas</td>\n",
              "      <td>One of the most celebrated comics titles of the late 1990s, PREACHER is a modern American epic of life, death, love and redemption also packed with sex, booze, blood and bullets - not to mention angels, demons, God, vampires and deviants of all stripes.At first glance, the Reverend Jesse Custer doesn't look like anyone special-just another small-town minister slowly losing his flock and his faith. But he's about to come face-to-face with proof that God does indeed exist. Merging with a bizarre spiritual force called Genesis, Jesse now possesses the power of \"the Word,\" an ability to make people do whatever he utters. He begins a violent and riotous journey across the country in search of answers from the elusive deity.</td>\n",
              "      <td>Garth Ennis, Steve Dillon, Joe R. Lansdale</td>\n",
              "    </tr>\n",
              "    <tr>\n",
              "      <th>1289</th>\n",
              "      <td>2041</td>\n",
              "      <td>Lisey's Story</td>\n",
              "      <td>Lisey Landon lost her husband Scott two years ago, after a twenty-five-year marriage of profound, sometimes frightening intimacy. Scott was a celebrated, award-winning, novelist. And a complex man. Lisey knew there was a dark place where her husband ventured to face his demons. Boo'ya Moon is what Scott called it; a realm that both terrified and healed him, that could eat him alive or give him the ideas he needed to write and live. Now, it's Lisey's turn to face her husband's demons. And what begins as a widow's effort to sort through her husband's effects, becomes a perilous journey into the heart of darkness</td>\n",
              "      <td>Stephen King</td>\n",
              "    </tr>\n",
              "    <tr>\n",
              "      <th>1708</th>\n",
              "      <td>2908</td>\n",
              "      <td>Severed Heads, Broken Hearts</td>\n",
              "      <td>Robyn Schneider's The Beginning of Everything is a witty and heart-wrenching teen novel that will appeal to fans of books by John Green and Ned Vizzini, novels such as The Perks of Being a Wallflower, and classics like The Great Gatsby and The Catcher in the Rye.Varsity tennis captain Ezra Faulkner was supposed to be homecoming king, but that was before—before his girlfriend cheated on him, before a car accident shattered his leg, and before he fell in love with unpredictable new girl Cassidy Thorpe.As Kirkus Reviews said in a starred review, \"Schneider takes familiar stereotypes and infuses them with plenty of depth. Here are teens who could easily trade barbs and double entendres with the characters that fill John Green's novels.\"Funny, smart, and including everything from flash mobs to blanket forts to a poodle who just might be the reincarnation of Jay Gatsby, The Beginning of Everything is a refreshing contemporary twist on the classic coming-of-age novel—a heart-wrenching story about how difficult it is to play the part that people expect, and how new beginnings can stem from abrupt and tragic endings.</td>\n",
              "      <td>Robyn Schneider</td>\n",
              "    </tr>\n",
              "    <tr>\n",
              "      <th>2524</th>\n",
              "      <td>4754</td>\n",
              "      <td>Midnight Bayou</td>\n",
              "      <td>#1 New York Times bestselling author Nora Roberts presents a novel set deep in the bayou of Louisiana—where the only witness to a long-ago tragedy is a once-grand house… Declan Fitzgerald had always been the family maverick, but even he couldn't understand his impulse to buy a dilapidated mansion on the outskirts of New Orleans. All he knew was that ever since he first saw Manet Hall, he'd been enchanted-and obsessed-with it. So when the opportunity to buy the house comes up, Declan jumps at the chance to live out a dream.Determined to restore Manet Hall to its former splendor, Declan begins the daunting renovation room by room, relying on his own labor and skills. But the days spent in total isolation in the empty house take a toll. He is seeing visions of days from a century past, and experiencing sensations of terror and nearly unbearable grief-sensations not his own, but those of a stranger. Local legend has it that the house is haunted, and with every passing day Declan's belief in the ghostly presence grows.Only the companionship of alluring Angelina Simone can distract him from the mysterious happenings in the house, but Angelina too has her own surprising connection to Manet Hall-a connection that will help Declan uncover a secret that's been buried for a hundred years.</td>\n",
              "      <td>Nora Roberts</td>\n",
              "    </tr>\n",
              "    <tr>\n",
              "      <th>3009</th>\n",
              "      <td>6011</td>\n",
              "      <td>What Do You Care What Other People Think? Further Adventures of a Curious Character</td>\n",
              "      <td>One of the greatest physicists of the twentieth century, Richard Feynman possessed an unquenchable thirst for adventure and an unparalleled ability to tell the stories of his life. \"What Do You Care What Other People Think?\" is Feynman’s last literary legacy, prepared with his friend and fellow drummer, Ralph Leighton. Among its many tales—some funny, others intensely moving—we meet Feynman’s first wife, Arlene, who taught him of love’s irreducible mystery as she lay dying in a hospital bed while he worked nearby on the atomic bomb at Los Alamos. We are also given a fascinating narrative of the investigation of the space shuttle Challenger’s explosion in 1986, and we relive the moment when Feynman revealed the disaster’s cause by an elegant experiment: dropping a ring of rubber into a glass of cold water and pulling it out, misshapen.</td>\n",
              "      <td>Richard Feynman</td>\n",
              "    </tr>\n",
              "    <tr>\n",
              "      <th>3423</th>\n",
              "      <td>7235</td>\n",
              "      <td>Afterburn</td>\n",
              "      <td>#1 New York Times bestselling author Sylvia Day, America’s premier author of provocative fiction, delivers the debut novel from Cosmo Red-Hot Reads from Harlequin.The realization that Jax still affected me so strongly was a jagged pill to swallow. He’d only been part of my life for five short weeks two years ago. But now he was back. Walking into a deal I’d worked hard to close. And God, he was magnificent. His eyes were a brown so dark they were nearly black. Thickly lashed, they were relentless in their intensity. Had I really thought they were soft and warm? There was nothing soft about Jackson Rutledge. He was a hard and jaded man, cut from a ruthless cloth.In that moment I understood how badly I wanted to unravel the mystery of Jax. Bad enough that I didn’t mind how much it was going to cost me...</td>\n",
              "      <td>Sylvia Day</td>\n",
              "    </tr>\n",
              "    <tr>\n",
              "      <th>4152</th>\n",
              "      <td>9552</td>\n",
              "      <td>The Last Werewolf</td>\n",
              "      <td>Here is a powerful, definitive new version of the werewolf legend—mesmerising and incredibly sexy. In Jake, Glen Duncan has given us a werewolf for the twenty-first century—a man whose deeds can only be described as monstrous but who is in some magical way deeply human.Meet Jake. A bit on the elderly side (he turns 201 in March), but otherwise in the pink of health. The nonstop sex and exercise he's still getting probably contribute to that, as does his diet: unusual amounts of flesh and blood (at least some from friends and relatives). Jake, of course, is a werewolf, and with the death of his colleague he has now become the only one of his kind. This depresses Jake to the point that he's been contemplating suicide. Yet there are powerful forces who for very different reasons want - and have the power - to keep Jake alive. Here is a powerful new version of the werewolf legend - mesmerizing and undeniably sexy, and with moments of violence so elegantly wrought they dazzle rather than repel. But perhaps its most remarkable achievement is to make the reader feel sympathy for a man who can only be described as a monster - and in doing so, remind us what it means to be human. One of the most original, audacious, and terrifying novels in years.</td>\n",
              "      <td>Glen Duncan</td>\n",
              "    </tr>\n",
              "  </tbody>\n",
              "</table>\n",
              "</div>\n",
              "      <button class=\"colab-df-convert\" onclick=\"convertToInteractive('df-f81bac0b-0c50-40da-a50c-44525c8052a7')\"\n",
              "              title=\"Convert this dataframe to an interactive table.\"\n",
              "              style=\"display:none;\">\n",
              "        \n",
              "  <svg xmlns=\"http://www.w3.org/2000/svg\" height=\"24px\"viewBox=\"0 0 24 24\"\n",
              "       width=\"24px\">\n",
              "    <path d=\"M0 0h24v24H0V0z\" fill=\"none\"/>\n",
              "    <path d=\"M18.56 5.44l.94 2.06.94-2.06 2.06-.94-2.06-.94-.94-2.06-.94 2.06-2.06.94zm-11 1L8.5 8.5l.94-2.06 2.06-.94-2.06-.94L8.5 2.5l-.94 2.06-2.06.94zm10 10l.94 2.06.94-2.06 2.06-.94-2.06-.94-.94-2.06-.94 2.06-2.06.94z\"/><path d=\"M17.41 7.96l-1.37-1.37c-.4-.4-.92-.59-1.43-.59-.52 0-1.04.2-1.43.59L10.3 9.45l-7.72 7.72c-.78.78-.78 2.05 0 2.83L4 21.41c.39.39.9.59 1.41.59.51 0 1.02-.2 1.41-.59l7.78-7.78 2.81-2.81c.8-.78.8-2.07 0-2.86zM5.41 20L4 18.59l7.72-7.72 1.47 1.35L5.41 20z\"/>\n",
              "  </svg>\n",
              "      </button>\n",
              "      \n",
              "  <style>\n",
              "    .colab-df-container {\n",
              "      display:flex;\n",
              "      flex-wrap:wrap;\n",
              "      gap: 12px;\n",
              "    }\n",
              "\n",
              "    .colab-df-convert {\n",
              "      background-color: #E8F0FE;\n",
              "      border: none;\n",
              "      border-radius: 50%;\n",
              "      cursor: pointer;\n",
              "      display: none;\n",
              "      fill: #1967D2;\n",
              "      height: 32px;\n",
              "      padding: 0 0 0 0;\n",
              "      width: 32px;\n",
              "    }\n",
              "\n",
              "    .colab-df-convert:hover {\n",
              "      background-color: #E2EBFA;\n",
              "      box-shadow: 0px 1px 2px rgba(60, 64, 67, 0.3), 0px 1px 3px 1px rgba(60, 64, 67, 0.15);\n",
              "      fill: #174EA6;\n",
              "    }\n",
              "\n",
              "    [theme=dark] .colab-df-convert {\n",
              "      background-color: #3B4455;\n",
              "      fill: #D2E3FC;\n",
              "    }\n",
              "\n",
              "    [theme=dark] .colab-df-convert:hover {\n",
              "      background-color: #434B5C;\n",
              "      box-shadow: 0px 1px 3px 1px rgba(0, 0, 0, 0.15);\n",
              "      filter: drop-shadow(0px 1px 2px rgba(0, 0, 0, 0.3));\n",
              "      fill: #FFFFFF;\n",
              "    }\n",
              "  </style>\n",
              "\n",
              "      <script>\n",
              "        const buttonEl =\n",
              "          document.querySelector('#df-f81bac0b-0c50-40da-a50c-44525c8052a7 button.colab-df-convert');\n",
              "        buttonEl.style.display =\n",
              "          google.colab.kernel.accessAllowed ? 'block' : 'none';\n",
              "\n",
              "        async function convertToInteractive(key) {\n",
              "          const element = document.querySelector('#df-f81bac0b-0c50-40da-a50c-44525c8052a7');\n",
              "          const dataTable =\n",
              "            await google.colab.kernel.invokeFunction('convertToInteractive',\n",
              "                                                     [key], {});\n",
              "          if (!dataTable) return;\n",
              "\n",
              "          const docLinkHtml = 'Like what you see? Visit the ' +\n",
              "            '<a target=\"_blank\" href=https://colab.research.google.com/notebooks/data_table.ipynb>data table notebook</a>'\n",
              "            + ' to learn more about interactive tables.';\n",
              "          element.innerHTML = '';\n",
              "          dataTable['output_type'] = 'display_data';\n",
              "          await google.colab.output.renderOutput(dataTable, element);\n",
              "          const docLink = document.createElement('div');\n",
              "          docLink.innerHTML = docLinkHtml;\n",
              "          element.appendChild(docLink);\n",
              "        }\n",
              "      </script>\n",
              "    </div>\n",
              "  </div>\n",
              "  "
            ]
          },
          "metadata": {},
          "execution_count": 18
        }
      ],
      "source": [
        "df_books[df_books.book_id.isin(similar_books)][['book_id', 'original_title', 'book_desc', 'authors']]"
      ]
    },
    {
      "cell_type": "markdown",
      "metadata": {
        "id": "VW8iuwo8Ly1c"
      },
      "source": [
        "## Usando BERT-large"
      ]
    },
    {
      "cell_type": "code",
      "execution_count": 19,
      "metadata": {
        "ExecuteTime": {
          "end_time": "2020-09-05T11:37:00.366878Z",
          "start_time": "2020-09-05T11:37:00.344896Z"
        },
        "colab": {
          "base_uri": "https://localhost:8080/"
        },
        "id": "Owe0gMlcLy1c",
        "outputId": "81a810dc-47fd-48c5-9c36-26187a276885"
      },
      "outputs": [
        {
          "output_type": "execute_result",
          "data": {
            "text/plain": [
              "[3, 7818, 712, 5118, 1818, 7221, 2112, 7101, 8266, 7552]"
            ]
          },
          "metadata": {},
          "execution_count": 19
        }
      ],
      "source": [
        "# libros similares al libro de id 41865 (Twilight) utilizando distancia euclideana. se puede cambiar a \"cosine\" \n",
        "similar_books = find_similar_books(bert_large_featmat, query_id = 3, metric = 'euclidean', topk=10 )\n",
        "similar_books"
      ]
    },
    {
      "cell_type": "code",
      "execution_count": 20,
      "metadata": {
        "ExecuteTime": {
          "end_time": "2020-09-05T11:37:01.359277Z",
          "start_time": "2020-09-05T11:37:01.346504Z"
        },
        "colab": {
          "base_uri": "https://localhost:8080/",
          "height": 1000
        },
        "id": "5icRMPVMLy1e",
        "outputId": "76c472cb-a37c-4d41-eb02-08181c32676a"
      },
      "outputs": [
        {
          "output_type": "execute_result",
          "data": {
            "text/plain": [
              "      book_id                              original_title  \\\n",
              "2     3        Twilight                                     \n",
              "527   712      Drums of Autumn (Outlander, #4)              \n",
              "1160  1818     One Foot in the Grave                        \n",
              "1321  2112     P.S. I Still Love You                        \n",
              "2672  5118     Stars Above                                  \n",
              "3380  7101     Magic Shifts                                 \n",
              "3421  7221     Eeny Meeny                                   \n",
              "3532  7552     The Dirty Life: On Farming, Food, and Love   \n",
              "3630  7818     Frostbitten                                  \n",
              "3764  8266     Bloodlust                                    \n",
              "\n",
              "                                                                                                                                                                                                                                                                                                                                                                                                                                                                                                                                                                                                                                                                                                                                                                                                                                                                                                                                                                                                                                                                                                                                                                                                                                                                                                                                                                                                                                                                                                                                                                                                                                                                                                                                                                                                                                                                                                                                                                                                                                                                                           book_desc  \\\n",
              "2     About three things I was absolutely positive.First, Edward was a vampire.Second, there was a part of him—and I didn't know how dominant that part might be—that thirsted for my blood.And third, I was unconditionally and irrevocably in love with him.In the first book of the Twilight Saga, internationally bestselling author Stephenie Meyer introduces Bella Swan and Edward Cullen, a pair of star-crossed lovers whose forbidden relationship ripens against the backdrop of small-town suspicion and a mysterious coven of vampires. This is a love story with bite.                                                                                                                                                                                                                                                                                                                                                                                                                                                                                                                                                                                                                                                                                                                                                                                                                                                                                                                                                                                                                                                                                                                                                                                                                                                                                                                                                                                                                                                                                                                   \n",
              "527   In this breathtaking novel—rich in history and adventure—The New York Times bestselling author Diana Gabaldon continues the story of Claire Randall and Jamie Fraser that began with the now-classic novel Outlander and continued in Dragonfly in Amber and Voyager. Once again spanning continents and centuries, Diana Gabaldon has created a work of sheer passion and brilliance.... It began at an ancient Scottish stone circle. There, a doorway, open to a select few, leads into the past—or the grave. Dr. Claire Randall survived the extraordinary passage, not once but twice.Her first trip swept her into the arms of Jamie Fraser, an eighteenth-century Scot whose love for her became a legend—a tale of tragic passion that ended with her return to the present to bear his child. Her second journey, two decades later, brought them together again in the American colonies. But Claire had left someone behind in the twentieth century—their daughter, Brianna....Now Brianna has made a disturbing discovery that sends her to the circle of stones and a terrifying leap into the unknown. In search of her mother and the father she has never met, she is risking her own future to try to change history ... and to save their lives. But as Brianna plunges into an uncharted wilderness, a heartbreaking encounter may strand her forever in the past ... or root her in the place she should be, where her heart and soul belong....                                                                                                                                                                                                                                                                                                                                                                                                                                                                                                                                                                                                                           \n",
              "1160  You can run from the grave, but you can’t hide…Half-vampire Cat Crawfield is now Special Agent Cat Crawfield, working for the government to rid the world of the rogue undead. She’s still using everything Bones, her sexy and dangerous ex, taught her, but when Cat is targeted for assassination, the only man who can help her is the vampire she left behind.Being around Bones awakens all her emotions, from the adrenaline rush of slaying vamps side by side to the reckless passion that consumed them. But a price on her head—wanted: dead or half-alive—means her survival depends on teaming up with Bones. And no matter how hard Cat tries to keep things professional between them, she’ll find that desire lasts forever…and Bones won’t let her get away again.                                                                                                                                                                                                                                                                                                                                                                                                                                                                                                                                                                                                                                                                                                                                                                                                                                                                                                                                                                                                                                                                                                                                                                                                                                                                                                              \n",
              "1321  Lara Jean didn’t expect to really fall for Peter.She and Peter were just pretending. Except suddenly they weren’t. Now Lara Jean is more confused than ever.When another boy from her past returns to her life, Lara Jean’s feelings for him return too. Can a girl be in love with two boys at once?In this charming and heartfelt sequel to the New York Times bestseller To All the Boys I've Loved Before, we see first love through the eyes of the unforgettable Lara Jean. Love is never easy, but maybe that’s part of what makes it so amazing.                                                                                                                                                                                                                                                                                                                                                                                                                                                                                                                                                                                                                                                                                                                                                                                                                                                                                                                                                                                                                                                                                                                                                                                                                                                                                                                                                                                                                                                                                                                                         \n",
              "2672  The enchantment continues....The universe of the Lunar Chronicles holds stories—and secrets—that are wondrous, vicious, and romantic. How did Cinder first arrive in New Beijing? How did the brooding soldier Wolf transform from young man to killer? When did Princess Winter and the palace guard Jacin realize their destinies?With nine stories—five of which have never before been published—and an exclusive never-before-seen excerpt from Marissa Meyer’s upcoming novel, Heartless, about the Queen of Hearts from Alice in Wonderland, Stars Above is essential for fans of the bestselling and beloved Lunar Chronicles.--The Little Android: A retelling of Hans Christian Andersen’s “The Little Mermaid,” set in the world of The Lunar Chronicles.Glitches: In this prequel to Cinder, we see the results of the plague play out, and the emotional toll it takes on Cinder. Something that may, or may not, be a glitch….The Queen’s Army: In this prequel to Scarlet, we’re introduced to the army Queen Levana is building, and one soldier in particular who will do anything to keep from becoming the monster they want him to be.Carswell’s Guide to Being Lucky: Thirteen-year-old Carswell Thorne has big plans involving a Rampion spaceship and a no-return trip out of Los Angeles.The Keeper: A prequel to the Lunar Chronicles, showing a young Scarlet and how Princess Selene came into the care of Michelle Benoit.After Sunshine Passes By: In this prequel to Cress, we see how a nine-year-old Cress ended up alone on a satellite, spying on Earth for Luna.The Princess and the Guard: In this prequel to Winter, we see a game called The PrincessThe Mechanic: In this prequel to Cinder, we see Kai and Cinder’s first meeting from Kai’s perspective.Something Old, Something New: In this epilogue to Winter, friends gather for the wedding of the century...                                                                                                                                                                                      \n",
              "3380  In the latest Kate Daniels novel from #1 New York Times bestselling author Ilona Andrews, magic is coming and going in waves in post-Shift Atlanta—and each crest leaves danger in its wake… After breaking from life with the Pack, mercenary Kate Daniels and her mate—former Beast Lord Curran Lennart—are adjusting to a very different pace. While they’re thrilled to escape all the infighting, Curran misses the constant challenges of leading the shapeshifters. So when the Pack offers him its stake in the Mercenary Guild, Curran seizes the opportunity—too bad the Guild wants nothing to do with him and Kate. Luckily, as a veteran merc, Kate can take over any of the Guild’s unfinished jobs in order to bring in money and build their reputation. But what Kate and Curran don’t realize is that the odd jobs they’ve been working are all connected. An ancient enemy has arisen, and Kate and Curran are the only ones who can stop it—before it takes their city apart piece by piece…                                                                                                                                                                                                                                                                                                                                                                                                                                                                                                                                                                                                                                                                                                                                                                                                                                                                                                                                                                                                                                                                                 \n",
              "3421  The \"dark, twisted, thought-provoking\" (#1 New York Times bestseller Tami Hoag) international bestseller—first in the new series featuring Detective Helen Grace.Two people are abducted, imprisoned, and left with a gun. As hunger and thirst set in, only one walks away alive.It’s a game more twisted than any Detective Helen Grace has ever seen. If she hadn’t spoken with the shattered survivors herself, she almost wouldn’t believe them.Helen is familiar with the dark sides of human nature, including her own, but this case—with its seemingly random victims—has her baffled. But as more people go missing, nothing will be more terrifying than when it all starts making sense....                                                                                                                                                                                                                                                                                                                                                                                                                                                                                                                                                                                                                                                                                                                                                                                                                                                                                                                                                                                                                                                                                                                                                                                                                                                                                                                                                                                          \n",
              "3532  \"This book is the story of the two love affairs that interrupted the trajectory of my life: one with farming—that dirty, concupiscent art—and the other with a complicated and exasperating farmer.\"Single, thirtysomething, working as a writer in New York City, Kristin Kimball was living life as an adventure. But she was beginning to feel a sense of longing for a family and for home. When she interviewed a dynamic young farmer, her world changed. Kristin knew nothing about growing vegetables, let alone raising pigs and cattle and driving horses. But on an impulse, smitten, if not yet in love, she shed her city self and moved to five hundred acres near Lake Champlain to start a new farm with him. The Dirty Life is the captivating chronicle of their first year on Essex Farm, from the cold North Country winter through the following harvest season—complete with their wedding in the loft of the barn. Kimball and her husband had a plan: to grow everything needed to feed a community. It was an ambitious idea, a bit romantic, and it worked. Every Friday evening, all year round, a hundred people travel to Essex Farm to pick up their weekly share of the \"whole diet\"—beef, pork, chicken, milk, eggs, maple syrup, grains, flours, dried beans, herbs, fruits, and forty different vegetables—produced by the farm. The work is done by draft horses instead of tractors, and the fertility comes from compost. Kimball’s vivid descriptions of landscape, food, cooking—and marriage—are irresistible. \"As much as you transform the land by farming,\" she writes, \"farming transforms you.\" In her old life, Kimball would stay out until four a.m., wear heels, and carry a handbag. Now she wakes up at four, wears Carhartts, and carries a pocket knife. At Essex Farm, she discovers the wrenching pleasures of physical work, learns that good food is at the center of a good life, falls deeply in love, and finally finds the engagement and commitment she craved in the form of a man, a small town, and a beautiful piece of land   \n",
              "3630  Smart, sexy, supernatural—the men and women of the Otherworld live and love, fight and die, among us. Unseen and unsuspected, this realm of witches, ghosts, and werewolves is now threatened with exposure by a brutal series of bizarre murders that has left even the supernatural world baffled—and cold with terror....Being the world’s only female werewolf has its advantages, such as having her pick of the Otherworld’s most desirable males. And Elena Michaels couldn't have picked a more dangerously sexy and undyingly loyal mate than Clayton Danvers. Now their bond will be put to the ultimate test as they follow a bloody trail of gruesome slayings deep into Alaska’s frozen wilderness.There’s nothing the werewolf community dislikes more than calling attention to itself. So when a pair of rogue man-eaters begins hunting humans, it’s up to Elena and Clayton to track down the predators. But any illusions their task would be simple are quickly dispelled. For even in werewolf terms, there’s something very disturbing taking place in the dark Alaskan forests. A werewolf more wolf than human and more unnatural than supernatural is on the hunt—a creature whose origins seem to spring from ancient legends of the shape-shifting Wendigo.And if that wasn't bad enough, Clayton and Elena find themselves confronting painful ghosts from their pasts — and an issue neither of them is eager to discuss. For one of them has been chosen to become the new Pack leader, and as every wolf knows, there can be only one Alpha. They've always been equals in everything. Now, when their survival depends more than ever on perfect teamwork, will instinct allow one of them to lead...and the other to follow?                                                                                                                                                                                                                                                                                                                                    \n",
              "3764  \\r\\r\\r\\r\\r\\r\\nA new beginning...\\r\\r\\r\\r\\r\\r\\nWhen Stefan Salvatore's first love turned him into a vampire, his world—and his soul—were destroyed. Now he and his brother, Damon, must flee their hometown, where they risk being discovered...and killed.The brothers head to New Orleans, looking for safe haven. But the city is more dangerous than they ever imagined, full of other vampires—and vampire hunters. Will Stefan's eternal life be forever damned?Based on the popular CW TV show inspired by the bestselling novels, Stefan's Diaries reveals the truth about what really happened between Stefan, Damon, and Katherine - and how the Vampire Diaries love triangle began.(Note: This book is written by a ghostwriter)                                                                                                                                                                                                                                                                                                                                                                                                                                                                                                                                                                                                                                                                                                                                                                                                                                                                                                                                                                                                                                                                                                                                                                                                                                                                                                                                                      \n",
              "\n",
              "                                       authors  \n",
              "2     Stephenie Meyer                           \n",
              "527   Diana Gabaldon                            \n",
              "1160  Jeaniene Frost                            \n",
              "1321  Jenny Han                                 \n",
              "2672  Marissa Meyer                             \n",
              "3380  Ilona Andrews                             \n",
              "3421  M.J. Arlidge                              \n",
              "3532  Kristin Kimball                           \n",
              "3630  Kelley Armstrong                          \n",
              "3764  L.J. Smith, Kevin Williamson, Julie Plec  "
            ],
            "text/html": [
              "\n",
              "  <div id=\"df-b60285a1-bd71-4e18-8d96-44e9d5029f1f\">\n",
              "    <div class=\"colab-df-container\">\n",
              "      <div>\n",
              "<style scoped>\n",
              "    .dataframe tbody tr th:only-of-type {\n",
              "        vertical-align: middle;\n",
              "    }\n",
              "\n",
              "    .dataframe tbody tr th {\n",
              "        vertical-align: top;\n",
              "    }\n",
              "\n",
              "    .dataframe thead th {\n",
              "        text-align: right;\n",
              "    }\n",
              "</style>\n",
              "<table border=\"1\" class=\"dataframe\">\n",
              "  <thead>\n",
              "    <tr style=\"text-align: right;\">\n",
              "      <th></th>\n",
              "      <th>book_id</th>\n",
              "      <th>original_title</th>\n",
              "      <th>book_desc</th>\n",
              "      <th>authors</th>\n",
              "    </tr>\n",
              "  </thead>\n",
              "  <tbody>\n",
              "    <tr>\n",
              "      <th>2</th>\n",
              "      <td>3</td>\n",
              "      <td>Twilight</td>\n",
              "      <td>About three things I was absolutely positive.First, Edward was a vampire.Second, there was a part of him—and I didn't know how dominant that part might be—that thirsted for my blood.And third, I was unconditionally and irrevocably in love with him.In the first book of the Twilight Saga, internationally bestselling author Stephenie Meyer introduces Bella Swan and Edward Cullen, a pair of star-crossed lovers whose forbidden relationship ripens against the backdrop of small-town suspicion and a mysterious coven of vampires. This is a love story with bite.</td>\n",
              "      <td>Stephenie Meyer</td>\n",
              "    </tr>\n",
              "    <tr>\n",
              "      <th>527</th>\n",
              "      <td>712</td>\n",
              "      <td>Drums of Autumn (Outlander, #4)</td>\n",
              "      <td>In this breathtaking novel—rich in history and adventure—The New York Times bestselling author Diana Gabaldon continues the story of Claire Randall and Jamie Fraser that began with the now-classic novel Outlander and continued in Dragonfly in Amber and Voyager. Once again spanning continents and centuries, Diana Gabaldon has created a work of sheer passion and brilliance.... It began at an ancient Scottish stone circle. There, a doorway, open to a select few, leads into the past—or the grave. Dr. Claire Randall survived the extraordinary passage, not once but twice.Her first trip swept her into the arms of Jamie Fraser, an eighteenth-century Scot whose love for her became a legend—a tale of tragic passion that ended with her return to the present to bear his child. Her second journey, two decades later, brought them together again in the American colonies. But Claire had left someone behind in the twentieth century—their daughter, Brianna....Now Brianna has made a disturbing discovery that sends her to the circle of stones and a terrifying leap into the unknown. In search of her mother and the father she has never met, she is risking her own future to try to change history ... and to save their lives. But as Brianna plunges into an uncharted wilderness, a heartbreaking encounter may strand her forever in the past ... or root her in the place she should be, where her heart and soul belong....</td>\n",
              "      <td>Diana Gabaldon</td>\n",
              "    </tr>\n",
              "    <tr>\n",
              "      <th>1160</th>\n",
              "      <td>1818</td>\n",
              "      <td>One Foot in the Grave</td>\n",
              "      <td>You can run from the grave, but you can’t hide…Half-vampire Cat Crawfield is now Special Agent Cat Crawfield, working for the government to rid the world of the rogue undead. She’s still using everything Bones, her sexy and dangerous ex, taught her, but when Cat is targeted for assassination, the only man who can help her is the vampire she left behind.Being around Bones awakens all her emotions, from the adrenaline rush of slaying vamps side by side to the reckless passion that consumed them. But a price on her head—wanted: dead or half-alive—means her survival depends on teaming up with Bones. And no matter how hard Cat tries to keep things professional between them, she’ll find that desire lasts forever…and Bones won’t let her get away again.</td>\n",
              "      <td>Jeaniene Frost</td>\n",
              "    </tr>\n",
              "    <tr>\n",
              "      <th>1321</th>\n",
              "      <td>2112</td>\n",
              "      <td>P.S. I Still Love You</td>\n",
              "      <td>Lara Jean didn’t expect to really fall for Peter.She and Peter were just pretending. Except suddenly they weren’t. Now Lara Jean is more confused than ever.When another boy from her past returns to her life, Lara Jean’s feelings for him return too. Can a girl be in love with two boys at once?In this charming and heartfelt sequel to the New York Times bestseller To All the Boys I've Loved Before, we see first love through the eyes of the unforgettable Lara Jean. Love is never easy, but maybe that’s part of what makes it so amazing.</td>\n",
              "      <td>Jenny Han</td>\n",
              "    </tr>\n",
              "    <tr>\n",
              "      <th>2672</th>\n",
              "      <td>5118</td>\n",
              "      <td>Stars Above</td>\n",
              "      <td>The enchantment continues....The universe of the Lunar Chronicles holds stories—and secrets—that are wondrous, vicious, and romantic. How did Cinder first arrive in New Beijing? How did the brooding soldier Wolf transform from young man to killer? When did Princess Winter and the palace guard Jacin realize their destinies?With nine stories—five of which have never before been published—and an exclusive never-before-seen excerpt from Marissa Meyer’s upcoming novel, Heartless, about the Queen of Hearts from Alice in Wonderland, Stars Above is essential for fans of the bestselling and beloved Lunar Chronicles.--The Little Android: A retelling of Hans Christian Andersen’s “The Little Mermaid,” set in the world of The Lunar Chronicles.Glitches: In this prequel to Cinder, we see the results of the plague play out, and the emotional toll it takes on Cinder. Something that may, or may not, be a glitch….The Queen’s Army: In this prequel to Scarlet, we’re introduced to the army Queen Levana is building, and one soldier in particular who will do anything to keep from becoming the monster they want him to be.Carswell’s Guide to Being Lucky: Thirteen-year-old Carswell Thorne has big plans involving a Rampion spaceship and a no-return trip out of Los Angeles.The Keeper: A prequel to the Lunar Chronicles, showing a young Scarlet and how Princess Selene came into the care of Michelle Benoit.After Sunshine Passes By: In this prequel to Cress, we see how a nine-year-old Cress ended up alone on a satellite, spying on Earth for Luna.The Princess and the Guard: In this prequel to Winter, we see a game called The PrincessThe Mechanic: In this prequel to Cinder, we see Kai and Cinder’s first meeting from Kai’s perspective.Something Old, Something New: In this epilogue to Winter, friends gather for the wedding of the century...</td>\n",
              "      <td>Marissa Meyer</td>\n",
              "    </tr>\n",
              "    <tr>\n",
              "      <th>3380</th>\n",
              "      <td>7101</td>\n",
              "      <td>Magic Shifts</td>\n",
              "      <td>In the latest Kate Daniels novel from #1 New York Times bestselling author Ilona Andrews, magic is coming and going in waves in post-Shift Atlanta—and each crest leaves danger in its wake… After breaking from life with the Pack, mercenary Kate Daniels and her mate—former Beast Lord Curran Lennart—are adjusting to a very different pace. While they’re thrilled to escape all the infighting, Curran misses the constant challenges of leading the shapeshifters. So when the Pack offers him its stake in the Mercenary Guild, Curran seizes the opportunity—too bad the Guild wants nothing to do with him and Kate. Luckily, as a veteran merc, Kate can take over any of the Guild’s unfinished jobs in order to bring in money and build their reputation. But what Kate and Curran don’t realize is that the odd jobs they’ve been working are all connected. An ancient enemy has arisen, and Kate and Curran are the only ones who can stop it—before it takes their city apart piece by piece…</td>\n",
              "      <td>Ilona Andrews</td>\n",
              "    </tr>\n",
              "    <tr>\n",
              "      <th>3421</th>\n",
              "      <td>7221</td>\n",
              "      <td>Eeny Meeny</td>\n",
              "      <td>The \"dark, twisted, thought-provoking\" (#1 New York Times bestseller Tami Hoag) international bestseller—first in the new series featuring Detective Helen Grace.Two people are abducted, imprisoned, and left with a gun. As hunger and thirst set in, only one walks away alive.It’s a game more twisted than any Detective Helen Grace has ever seen. If she hadn’t spoken with the shattered survivors herself, she almost wouldn’t believe them.Helen is familiar with the dark sides of human nature, including her own, but this case—with its seemingly random victims—has her baffled. But as more people go missing, nothing will be more terrifying than when it all starts making sense....</td>\n",
              "      <td>M.J. Arlidge</td>\n",
              "    </tr>\n",
              "    <tr>\n",
              "      <th>3532</th>\n",
              "      <td>7552</td>\n",
              "      <td>The Dirty Life: On Farming, Food, and Love</td>\n",
              "      <td>\"This book is the story of the two love affairs that interrupted the trajectory of my life: one with farming—that dirty, concupiscent art—and the other with a complicated and exasperating farmer.\"Single, thirtysomething, working as a writer in New York City, Kristin Kimball was living life as an adventure. But she was beginning to feel a sense of longing for a family and for home. When she interviewed a dynamic young farmer, her world changed. Kristin knew nothing about growing vegetables, let alone raising pigs and cattle and driving horses. But on an impulse, smitten, if not yet in love, she shed her city self and moved to five hundred acres near Lake Champlain to start a new farm with him. The Dirty Life is the captivating chronicle of their first year on Essex Farm, from the cold North Country winter through the following harvest season—complete with their wedding in the loft of the barn. Kimball and her husband had a plan: to grow everything needed to feed a community. It was an ambitious idea, a bit romantic, and it worked. Every Friday evening, all year round, a hundred people travel to Essex Farm to pick up their weekly share of the \"whole diet\"—beef, pork, chicken, milk, eggs, maple syrup, grains, flours, dried beans, herbs, fruits, and forty different vegetables—produced by the farm. The work is done by draft horses instead of tractors, and the fertility comes from compost. Kimball’s vivid descriptions of landscape, food, cooking—and marriage—are irresistible. \"As much as you transform the land by farming,\" she writes, \"farming transforms you.\" In her old life, Kimball would stay out until four a.m., wear heels, and carry a handbag. Now she wakes up at four, wears Carhartts, and carries a pocket knife. At Essex Farm, she discovers the wrenching pleasures of physical work, learns that good food is at the center of a good life, falls deeply in love, and finally finds the engagement and commitment she craved in the form of a man, a small town, and a beautiful piece of land</td>\n",
              "      <td>Kristin Kimball</td>\n",
              "    </tr>\n",
              "    <tr>\n",
              "      <th>3630</th>\n",
              "      <td>7818</td>\n",
              "      <td>Frostbitten</td>\n",
              "      <td>Smart, sexy, supernatural—the men and women of the Otherworld live and love, fight and die, among us. Unseen and unsuspected, this realm of witches, ghosts, and werewolves is now threatened with exposure by a brutal series of bizarre murders that has left even the supernatural world baffled—and cold with terror....Being the world’s only female werewolf has its advantages, such as having her pick of the Otherworld’s most desirable males. And Elena Michaels couldn't have picked a more dangerously sexy and undyingly loyal mate than Clayton Danvers. Now their bond will be put to the ultimate test as they follow a bloody trail of gruesome slayings deep into Alaska’s frozen wilderness.There’s nothing the werewolf community dislikes more than calling attention to itself. So when a pair of rogue man-eaters begins hunting humans, it’s up to Elena and Clayton to track down the predators. But any illusions their task would be simple are quickly dispelled. For even in werewolf terms, there’s something very disturbing taking place in the dark Alaskan forests. A werewolf more wolf than human and more unnatural than supernatural is on the hunt—a creature whose origins seem to spring from ancient legends of the shape-shifting Wendigo.And if that wasn't bad enough, Clayton and Elena find themselves confronting painful ghosts from their pasts — and an issue neither of them is eager to discuss. For one of them has been chosen to become the new Pack leader, and as every wolf knows, there can be only one Alpha. They've always been equals in everything. Now, when their survival depends more than ever on perfect teamwork, will instinct allow one of them to lead...and the other to follow?</td>\n",
              "      <td>Kelley Armstrong</td>\n",
              "    </tr>\n",
              "    <tr>\n",
              "      <th>3764</th>\n",
              "      <td>8266</td>\n",
              "      <td>Bloodlust</td>\n",
              "      <td>\\r\\r\\r\\r\\r\\r\\nA new beginning...\\r\\r\\r\\r\\r\\r\\nWhen Stefan Salvatore's first love turned him into a vampire, his world—and his soul—were destroyed. Now he and his brother, Damon, must flee their hometown, where they risk being discovered...and killed.The brothers head to New Orleans, looking for safe haven. But the city is more dangerous than they ever imagined, full of other vampires—and vampire hunters. Will Stefan's eternal life be forever damned?Based on the popular CW TV show inspired by the bestselling novels, Stefan's Diaries reveals the truth about what really happened between Stefan, Damon, and Katherine - and how the Vampire Diaries love triangle began.(Note: This book is written by a ghostwriter)</td>\n",
              "      <td>L.J. Smith, Kevin Williamson, Julie Plec</td>\n",
              "    </tr>\n",
              "  </tbody>\n",
              "</table>\n",
              "</div>\n",
              "      <button class=\"colab-df-convert\" onclick=\"convertToInteractive('df-b60285a1-bd71-4e18-8d96-44e9d5029f1f')\"\n",
              "              title=\"Convert this dataframe to an interactive table.\"\n",
              "              style=\"display:none;\">\n",
              "        \n",
              "  <svg xmlns=\"http://www.w3.org/2000/svg\" height=\"24px\"viewBox=\"0 0 24 24\"\n",
              "       width=\"24px\">\n",
              "    <path d=\"M0 0h24v24H0V0z\" fill=\"none\"/>\n",
              "    <path d=\"M18.56 5.44l.94 2.06.94-2.06 2.06-.94-2.06-.94-.94-2.06-.94 2.06-2.06.94zm-11 1L8.5 8.5l.94-2.06 2.06-.94-2.06-.94L8.5 2.5l-.94 2.06-2.06.94zm10 10l.94 2.06.94-2.06 2.06-.94-2.06-.94-.94-2.06-.94 2.06-2.06.94z\"/><path d=\"M17.41 7.96l-1.37-1.37c-.4-.4-.92-.59-1.43-.59-.52 0-1.04.2-1.43.59L10.3 9.45l-7.72 7.72c-.78.78-.78 2.05 0 2.83L4 21.41c.39.39.9.59 1.41.59.51 0 1.02-.2 1.41-.59l7.78-7.78 2.81-2.81c.8-.78.8-2.07 0-2.86zM5.41 20L4 18.59l7.72-7.72 1.47 1.35L5.41 20z\"/>\n",
              "  </svg>\n",
              "      </button>\n",
              "      \n",
              "  <style>\n",
              "    .colab-df-container {\n",
              "      display:flex;\n",
              "      flex-wrap:wrap;\n",
              "      gap: 12px;\n",
              "    }\n",
              "\n",
              "    .colab-df-convert {\n",
              "      background-color: #E8F0FE;\n",
              "      border: none;\n",
              "      border-radius: 50%;\n",
              "      cursor: pointer;\n",
              "      display: none;\n",
              "      fill: #1967D2;\n",
              "      height: 32px;\n",
              "      padding: 0 0 0 0;\n",
              "      width: 32px;\n",
              "    }\n",
              "\n",
              "    .colab-df-convert:hover {\n",
              "      background-color: #E2EBFA;\n",
              "      box-shadow: 0px 1px 2px rgba(60, 64, 67, 0.3), 0px 1px 3px 1px rgba(60, 64, 67, 0.15);\n",
              "      fill: #174EA6;\n",
              "    }\n",
              "\n",
              "    [theme=dark] .colab-df-convert {\n",
              "      background-color: #3B4455;\n",
              "      fill: #D2E3FC;\n",
              "    }\n",
              "\n",
              "    [theme=dark] .colab-df-convert:hover {\n",
              "      background-color: #434B5C;\n",
              "      box-shadow: 0px 1px 3px 1px rgba(0, 0, 0, 0.15);\n",
              "      filter: drop-shadow(0px 1px 2px rgba(0, 0, 0, 0.3));\n",
              "      fill: #FFFFFF;\n",
              "    }\n",
              "  </style>\n",
              "\n",
              "      <script>\n",
              "        const buttonEl =\n",
              "          document.querySelector('#df-b60285a1-bd71-4e18-8d96-44e9d5029f1f button.colab-df-convert');\n",
              "        buttonEl.style.display =\n",
              "          google.colab.kernel.accessAllowed ? 'block' : 'none';\n",
              "\n",
              "        async function convertToInteractive(key) {\n",
              "          const element = document.querySelector('#df-b60285a1-bd71-4e18-8d96-44e9d5029f1f');\n",
              "          const dataTable =\n",
              "            await google.colab.kernel.invokeFunction('convertToInteractive',\n",
              "                                                     [key], {});\n",
              "          if (!dataTable) return;\n",
              "\n",
              "          const docLinkHtml = 'Like what you see? Visit the ' +\n",
              "            '<a target=\"_blank\" href=https://colab.research.google.com/notebooks/data_table.ipynb>data table notebook</a>'\n",
              "            + ' to learn more about interactive tables.';\n",
              "          element.innerHTML = '';\n",
              "          dataTable['output_type'] = 'display_data';\n",
              "          await google.colab.output.renderOutput(dataTable, element);\n",
              "          const docLink = document.createElement('div');\n",
              "          docLink.innerHTML = docLinkHtml;\n",
              "          element.appendChild(docLink);\n",
              "        }\n",
              "      </script>\n",
              "    </div>\n",
              "  </div>\n",
              "  "
            ]
          },
          "metadata": {},
          "execution_count": 20
        }
      ],
      "source": [
        "df_books[df_books.book_id.isin(similar_books)][['book_id', 'original_title', 'book_desc', 'authors']]"
      ]
    },
    {
      "cell_type": "markdown",
      "metadata": {
        "id": "GhcdSuO8Ly1h"
      },
      "source": [
        "## Usando BERT-large reducidos con PCA "
      ]
    },
    {
      "cell_type": "code",
      "execution_count": 21,
      "metadata": {
        "ExecuteTime": {
          "end_time": "2020-09-05T11:37:06.242137Z",
          "start_time": "2020-09-05T11:37:06.227193Z"
        },
        "colab": {
          "base_uri": "https://localhost:8080/"
        },
        "id": "xj6IXe1qLy1i",
        "outputId": "d1a159bf-0078-4c4f-cddb-793c08ab5528"
      },
      "outputs": [
        {
          "output_type": "execute_result",
          "data": {
            "text/plain": [
              "[3, 1818, 6977, 3549, 3984, 7818, 7221, 2476, 2483, 3408]"
            ]
          },
          "metadata": {},
          "execution_count": 21
        }
      ],
      "source": [
        "# libros similares al libro de id 41865 (Twilight) utilizando distancia euclideana. se puede cambiar a \"cosine\" \n",
        "similar_books = find_similar_books(pca20_bert_large_featmat, query_id = 3, metric = 'euclidean', topk=10 )\n",
        "similar_books"
      ]
    },
    {
      "cell_type": "code",
      "execution_count": 22,
      "metadata": {
        "ExecuteTime": {
          "end_time": "2020-09-05T11:37:08.218656Z",
          "start_time": "2020-09-05T11:37:08.206096Z"
        },
        "colab": {
          "base_uri": "https://localhost:8080/",
          "height": 1000
        },
        "id": "aD5dtU16Ly1k",
        "outputId": "5501fd51-cdab-49e9-87cb-9ba5b89dfa52"
      },
      "outputs": [
        {
          "output_type": "execute_result",
          "data": {
            "text/plain": [
              "      book_id  \\\n",
              "2     3         \n",
              "1160  1818      \n",
              "1492  2476      \n",
              "1496  2483      \n",
              "1944  3408      \n",
              "2019  3549      \n",
              "2199  3984      \n",
              "3344  6977      \n",
              "3421  7221      \n",
              "3630  7818      \n",
              "\n",
              "                                                                                           original_title  \\\n",
              "2     Twilight                                                                                              \n",
              "1160  One Foot in the Grave                                                                                 \n",
              "1492  The Winter Sea                                                                                        \n",
              "1496  Rush                                                                                                  \n",
              "1944  Hunting Ground                                                                                        \n",
              "2019  Fever                                                                                                 \n",
              "2199  The Darkest Whisper                                                                                   \n",
              "3344  The Mortal Instrument Series: City of Bones / City of Ashes / City of Glass / City of Fallen Angels   \n",
              "3421  Eeny Meeny                                                                                            \n",
              "3630  Frostbitten                                                                                           \n",
              "\n",
              "                                                                                                                                                                                                                                                                                                                                                                                                                                                                                                                                                                                                                                                                                                                                                                                                                                                                                                                                                                                                                                                                                                                                                                                                                                                                                                                                                                                                                                                                                                                                                                                                                                                                                                                                                                                                                                                                                                                                                                                                                                                                                                                                                                                                                                                                                                                                                                                                                                                                                                                                                                                                                                                                                                                                                                                                                                                                                                                                                                                                                                                                                                                                                                                                                                                                                                                                                                                                                                                                                                                                                                                                  book_desc  \\\n",
              "2     About three things I was absolutely positive.First, Edward was a vampire.Second, there was a part of him—and I didn't know how dominant that part might be—that thirsted for my blood.And third, I was unconditionally and irrevocably in love with him.In the first book of the Twilight Saga, internationally bestselling author Stephenie Meyer introduces Bella Swan and Edward Cullen, a pair of star-crossed lovers whose forbidden relationship ripens against the backdrop of small-town suspicion and a mysterious coven of vampires. This is a love story with bite.                                                                                                                                                                                                                                                                                                                                                                                                                                                                                                                                                                                                                                                                                                                                                                                                                                                                                                                                                                                                                                                                                                                                                                                                                                                                                                                                                                                                                                                                                                                                                                                                                                                                                                                                                                                                                                                                                                                                                                                                                                                                                                                                                                                                                                                                                                                                                                                                                                                                                                                                                                                                                                                                                                                                                                                                                                                                                                                                                                                                                          \n",
              "1160  You can run from the grave, but you can’t hide…Half-vampire Cat Crawfield is now Special Agent Cat Crawfield, working for the government to rid the world of the rogue undead. She’s still using everything Bones, her sexy and dangerous ex, taught her, but when Cat is targeted for assassination, the only man who can help her is the vampire she left behind.Being around Bones awakens all her emotions, from the adrenaline rush of slaying vamps side by side to the reckless passion that consumed them. But a price on her head—wanted: dead or half-alive—means her survival depends on teaming up with Bones. And no matter how hard Cat tries to keep things professional between them, she’ll find that desire lasts forever…and Bones won’t let her get away again.                                                                                                                                                                                                                                                                                                                                                                                                                                                                                                                                                                                                                                                                                                                                                                                                                                                                                                                                                                                                                                                                                                                                                                                                                                                                                                                                                                                                                                                                                                                                                                                                                                                                                                                                                                                                                                                                                                                                                                                                                                                                                                                                                                                                                                                                                                                                                                                                                                                                                                                                                                                                                                                                                                                                                                                                                     \n",
              "1492  In the spring of 1708, an invading Jacobite fleet of French and Scottish soldiers nearly succeeded in landing the exiled James Stewart in Scotland to reclaim his crown.Now, Carrie McClelland hopes to turn that story into her next bestselling novel. Settling herself in the shadow of Slains Castle, she creates a heroine named for one of her own ancestors and starts to write.But when she discovers her novel is more fact than fiction, Carrie wonders if she might be dealing with ancestral memory, making her the only living person who knows the truth—the ultimate betrayal—that happened all those years ago, and that knowledge comes very close to destroying her.…                                                                                                                                                                                                                                                                                                                                                                                                                                                                                                                                                                                                                                                                                                                                                                                                                                                                                                                                                                                                                                                                                                                                                                                                                                                                                                                                                                                                                                                                                                                                                                                                                                                                                                                                                                                                                                                                                                                                                                                                                                                                                                                                                                                                                                                                                                                                                                                                                                                                                                                                                                                                                                                                                                                                                                                                                                                                                                                 \n",
              "1496  Gabe, Jace, and Ash: three of the wealthiest, most powerful men in the country. They’re accustomed to getting anything they want. Anything at all. For Gabe, it’s making one particular fantasy come true with a woman who was forbidden fruit. Now she’s ripe for the picking...When Gabe Hamilton saw Mia Crestwell walk into the ballroom for his hotel’s grand opening, he knew he was going to hell for what he had planned. After all, Mia is his best friend’s little sister. Except she’s not so little anymore. And Gabe has waited a long time to act on his desires.Gabe has starred in Mia’s fantasies more than once, ever since she was a teenager with a huge crush on her brother’s best friend. So what if Gabe’s fourteen years older? Mia knows he’s way out of her league, but her attraction has only grown stronger with time. She’s an adult now, and there’s no reason not to act on her most secret desires.As Gabe pulls her into his provocative world, she realizes there’s a lot she doesn’t know about him or how exacting his demands can be. Their relationship is intense and obsessive, but as they cross the line from secret sexual odyssey to something deeper, their affair runs the risk of being exposed—and vulnerable to a betrayal far more intimate than either expected.                                                                                                                                                                                                                                                                                                                                                                                                                                                                                                                                                                                                                                                                                                                                                                                                                                                                                                                                                                                                                                                                                                                                                                                                                                                                                                                                                                                                                                                                                                                                                                                                                                                                                                                                                                                                                                                                                                                                                                                                                                                                                                                                                                                                                                                                                   \n",
              "1944  Anna Latham didn’t know how complicated life could be until she became a werewolf. And until she was mated to Charles Cornick, the son — and enforcer — of Bran, the leader of the North American werewolves, she didn’t know how dangerous it could be either...Anna and Charles have just been enlisted to attend a summit to present Bran’s controversial proposition: that the wolves should finally reveal themselves to humans. But the most feared Alpha in Europe is dead set against the plan — and it seems like someone else might be too. When Anna is attacked by vampires using pack magic, the kind of power only werewolves should be able to draw on, Charles and Anna must combine their talents to hunt down whoever is behind it all — or risk losing everything...                                                                                                                                                                                                                                                                                                                                                                                                                                                                                                                                                                                                                                                                                                                                                                                                                                                                                                                                                                                                                                                                                                                                                                                                                                                                                                                                                                                                                                                                                                                                                                                                                                                                                                                                                                                                                                                                                                                                                                                                                                                                                                                                                                                                                                                                                                                                                                                                                                                                                                                                                                                                                                                                                                                                                                                                                 \n",
              "2019  Jace, Ash, and Gabe: three of the wealthiest, most powerful men in the country. They’re accustomed to getting anything they want. Anything at all. For Jace, it’s a woman whose allure takes him completely by surprise...Jace Crestwell, Ash McIntyre, and Gabe Hamilton have been best friends and successful business partners for years. They’re powerful, they’re imposing, they’re irresistibly sexy, and Jace and Ash share everything—including their women.When they meet Bethany, Jace begins to feel things he’s never experienced before: jealousy, and a powerful obsession that threatens him, overwhelms him—and excites him beyond control.Jace isn’t sharing Bethany—with anyone. He’s determined to be the only man in her life, and it’s jeopardizing a lifelong friendship with Ash. Bethany will be his and his alone. Even if it means turning his back on his best friend.                                                                                                                                                                                                                                                                                                                                                                                                                                                                                                                                                                                                                                                                                                                                                                                                                                                                                                                                                                                                                                                                                                                                                                                                                                                                                                                                                                                                                                                                                                                                                                                                                                                                                                                                                                                                                                                                                                                                                                                                                                                                                                                                                                                                                                                                                                                                                                                                                                                                                                                                                                                                                                                                                                       \n",
              "2199  New York Times bestselling sensation Gena Showalter returns with her long-awaited next installment of the Lords of the Underworld series…He is the keeper of Doubt and his entire world’s about to be rocked.Bound by the demon of Doubt, Sabin unintentionally destroys even the most confident of lovers. So the immortal warrior spends his time on the battlefield instead of the bedroom, victory his only concern…until he meets Gwendolyn the Timid. One taste of the beautiful redhead, and he craves more.Gwen, an immortal herself, always thought she’d fall for a kind human who wouldn’t rouse her darker side. But when Sabin frees her from prison, battling their enemies for the claim to Pandora’s box turns out to be nothing compared to the battle Sabin and Gwen will wage against love…                                                                                                                                                                                                                                                                                                                                                                                                                                                                                                                                                                                                                                                                                                                                                                                                                                                                                                                                                                                                                                                                                                                                                                                                                                                                                                                                                                                                                                                                                                                                                                                                                                                                                                                                                                                                                                                                                                                                                                                                                                                                                                                                                                                                                                                                                                                                                                                                                                                                                                                                                                                                                                                                                                                                                                                          \n",
              "3344  The Shadowhunters—touched by angels and charged with protecting innocents—battle demons and other evil in the bestselling Mortal Instruments series. \\r\\r\\r\\r\\r\\r\\n\\r\\r\\r\\r\\r\\r\\nCity of Bones \\r\\r\\r\\r\\r\\r\\n\\r\\r\\r\\r\\r\\r\\nWhen Clary Fray heads out to the Pandemonium Club in New York City, she hardly expects to witness a murder. Much less a murder committed by three teenagers covered with odd markings. This is Clary’s first meeting with the Shadowhunters, warriors dedicated to ridding the earth of demons—and keeping the odd werewolves and vampires in line. It’s also her first meeting with gorgeous, golden-haired Jace. Within twenty-four hours Clary is pulled into Jace’s world with a vengeance, when her mother disappears and Clary herself is attacked by a demon. But why would demons be interested in an ordinary mundane like Clary? And how did she suddenly get the Sight? The Shadowhunters would like to know. . . . \\r\\r\\r\\r\\r\\r\\n\\r\\r\\r\\r\\r\\r\\nCity of Ashes \\r\\r\\r\\r\\r\\r\\n\\r\\r\\r\\r\\r\\r\\nClary Fray just wishes that her life would go back to normal. But what’s normal when you’re a demon-slaying Shadowhunter, your mother is in a magically induced coma, and you can suddenly see Downworlders like werewolves, vampires, and faeries? Clary would love to spend more time with her best friend, Simon. But the Shadowhunters won’t let her go—especially handsome, infuriating Jace. Clary’s only chance to help her mother is to track down rogue Shadowhunter Valentine, who is probably insane, certainly evil—and also Jace’s father. When the second of the Mortal Instruments is stolen, the terrifying Inquisitor suspects Jace. Could Jace really be willing to betray everything he believes in to help his father? \\r\\r\\r\\r\\r\\r\\n\\r\\r\\r\\r\\r\\r\\nCity of Glass \\r\\r\\r\\r\\r\\r\\n\\r\\r\\r\\r\\r\\r\\nTo save her mother’s life, Clary travels to the City of Glass, the ancestral home of the Shadowhunters—never mind that by doing so she is breaking the Law, which could mean death. Even worse, Jace does not want her there, and Simon has been thrown in prison by Shadowhunters who are deeply suspicious of a vampire who can withstand sunlight. Luckily, Clary finds an ally in the mysterious Sebastian, who holds a strange attraction for her. As Valentine musters a demon army, can Downworlders and Shadowhunters put aside their ancient hatred and work together? And can Clary harness her newfound powers to help save them all—whatever the cost? \\r\\r\\r\\r\\r\\r\\n\\r\\r\\r\\r\\r\\r\\nCity of Fallen Angels \\r\\r\\r\\r\\r\\r\\n\\r\\r\\r\\r\\r\\r\\nThe Mortal War is over, and Clary is back in New York, excited about all the possibilities before her. She's training to become a Shadowhunter and to use her unique power. Downworlders and Shadowhunters are at peace at last. And—most importantly of all—she can finally call Jace her boyfriend. But nothing comes without a price. Someone is murdering Shadowhunters, provoking tensions that could lead to a second, bloody war. Clary's best friend, Simon, can't help her. Everywhere he turns, someone wants him on their side—along with the power of the curse that's wrecking his life. Not to mention that he's dating two beautiful, dangerous girls—neither of whom knows about the other. When Jace begins to pull away from her without explaining why, Clary is forced to delve into the heart of a mystery whose solution reveals her worst nightmare: She herself has set in motion a terrible chain of events that could lead to her losing everything she loves. Even Jace.   \n",
              "3421  The \"dark, twisted, thought-provoking\" (#1 New York Times bestseller Tami Hoag) international bestseller—first in the new series featuring Detective Helen Grace.Two people are abducted, imprisoned, and left with a gun. As hunger and thirst set in, only one walks away alive.It’s a game more twisted than any Detective Helen Grace has ever seen. If she hadn’t spoken with the shattered survivors herself, she almost wouldn’t believe them.Helen is familiar with the dark sides of human nature, including her own, but this case—with its seemingly random victims—has her baffled. But as more people go missing, nothing will be more terrifying than when it all starts making sense....                                                                                                                                                                                                                                                                                                                                                                                                                                                                                                                                                                                                                                                                                                                                                                                                                                                                                                                                                                                                                                                                                                                                                                                                                                                                                                                                                                                                                                                                                                                                                                                                                                                                                                                                                                                                                                                                                                                                                                                                                                                                                                                                                                                                                                                                                                                                                                                                                                                                                                                                                                                                                                                                                                                                                                                                                                                                                                 \n",
              "3630  Smart, sexy, supernatural—the men and women of the Otherworld live and love, fight and die, among us. Unseen and unsuspected, this realm of witches, ghosts, and werewolves is now threatened with exposure by a brutal series of bizarre murders that has left even the supernatural world baffled—and cold with terror....Being the world’s only female werewolf has its advantages, such as having her pick of the Otherworld’s most desirable males. And Elena Michaels couldn't have picked a more dangerously sexy and undyingly loyal mate than Clayton Danvers. Now their bond will be put to the ultimate test as they follow a bloody trail of gruesome slayings deep into Alaska’s frozen wilderness.There’s nothing the werewolf community dislikes more than calling attention to itself. So when a pair of rogue man-eaters begins hunting humans, it’s up to Elena and Clayton to track down the predators. But any illusions their task would be simple are quickly dispelled. For even in werewolf terms, there’s something very disturbing taking place in the dark Alaskan forests. A werewolf more wolf than human and more unnatural than supernatural is on the hunt—a creature whose origins seem to spring from ancient legends of the shape-shifting Wendigo.And if that wasn't bad enough, Clayton and Elena find themselves confronting painful ghosts from their pasts — and an issue neither of them is eager to discuss. For one of them has been chosen to become the new Pack leader, and as every wolf knows, there can be only one Alpha. They've always been equals in everything. Now, when their survival depends more than ever on perfect teamwork, will instinct allow one of them to lead...and the other to follow?                                                                                                                                                                                                                                                                                                                                                                                                                                                                                                                                                                                                                                                                                                                                                                                                                                                                                                                                                                                                                                                                                                                                                                                                                                                                                                                                                                                                                                                                                                                                                                                                                                                                                                                                                                                                                                           \n",
              "\n",
              "                               authors  \n",
              "2     Stephenie Meyer                   \n",
              "1160  Jeaniene Frost                    \n",
              "1492  Susanna Kearsley, Rosalyn Landor  \n",
              "1496  Maya Banks                        \n",
              "1944  Patricia Briggs                   \n",
              "2019  Maya Banks                        \n",
              "2199  Gena Showalter                    \n",
              "3344  Cassandra Clare                   \n",
              "3421  M.J. Arlidge                      \n",
              "3630  Kelley Armstrong                  "
            ],
            "text/html": [
              "\n",
              "  <div id=\"df-ec93b620-bc1d-430f-bae4-135220867e29\">\n",
              "    <div class=\"colab-df-container\">\n",
              "      <div>\n",
              "<style scoped>\n",
              "    .dataframe tbody tr th:only-of-type {\n",
              "        vertical-align: middle;\n",
              "    }\n",
              "\n",
              "    .dataframe tbody tr th {\n",
              "        vertical-align: top;\n",
              "    }\n",
              "\n",
              "    .dataframe thead th {\n",
              "        text-align: right;\n",
              "    }\n",
              "</style>\n",
              "<table border=\"1\" class=\"dataframe\">\n",
              "  <thead>\n",
              "    <tr style=\"text-align: right;\">\n",
              "      <th></th>\n",
              "      <th>book_id</th>\n",
              "      <th>original_title</th>\n",
              "      <th>book_desc</th>\n",
              "      <th>authors</th>\n",
              "    </tr>\n",
              "  </thead>\n",
              "  <tbody>\n",
              "    <tr>\n",
              "      <th>2</th>\n",
              "      <td>3</td>\n",
              "      <td>Twilight</td>\n",
              "      <td>About three things I was absolutely positive.First, Edward was a vampire.Second, there was a part of him—and I didn't know how dominant that part might be—that thirsted for my blood.And third, I was unconditionally and irrevocably in love with him.In the first book of the Twilight Saga, internationally bestselling author Stephenie Meyer introduces Bella Swan and Edward Cullen, a pair of star-crossed lovers whose forbidden relationship ripens against the backdrop of small-town suspicion and a mysterious coven of vampires. This is a love story with bite.</td>\n",
              "      <td>Stephenie Meyer</td>\n",
              "    </tr>\n",
              "    <tr>\n",
              "      <th>1160</th>\n",
              "      <td>1818</td>\n",
              "      <td>One Foot in the Grave</td>\n",
              "      <td>You can run from the grave, but you can’t hide…Half-vampire Cat Crawfield is now Special Agent Cat Crawfield, working for the government to rid the world of the rogue undead. She’s still using everything Bones, her sexy and dangerous ex, taught her, but when Cat is targeted for assassination, the only man who can help her is the vampire she left behind.Being around Bones awakens all her emotions, from the adrenaline rush of slaying vamps side by side to the reckless passion that consumed them. But a price on her head—wanted: dead or half-alive—means her survival depends on teaming up with Bones. And no matter how hard Cat tries to keep things professional between them, she’ll find that desire lasts forever…and Bones won’t let her get away again.</td>\n",
              "      <td>Jeaniene Frost</td>\n",
              "    </tr>\n",
              "    <tr>\n",
              "      <th>1492</th>\n",
              "      <td>2476</td>\n",
              "      <td>The Winter Sea</td>\n",
              "      <td>In the spring of 1708, an invading Jacobite fleet of French and Scottish soldiers nearly succeeded in landing the exiled James Stewart in Scotland to reclaim his crown.Now, Carrie McClelland hopes to turn that story into her next bestselling novel. Settling herself in the shadow of Slains Castle, she creates a heroine named for one of her own ancestors and starts to write.But when she discovers her novel is more fact than fiction, Carrie wonders if she might be dealing with ancestral memory, making her the only living person who knows the truth—the ultimate betrayal—that happened all those years ago, and that knowledge comes very close to destroying her.…</td>\n",
              "      <td>Susanna Kearsley, Rosalyn Landor</td>\n",
              "    </tr>\n",
              "    <tr>\n",
              "      <th>1496</th>\n",
              "      <td>2483</td>\n",
              "      <td>Rush</td>\n",
              "      <td>Gabe, Jace, and Ash: three of the wealthiest, most powerful men in the country. They’re accustomed to getting anything they want. Anything at all. For Gabe, it’s making one particular fantasy come true with a woman who was forbidden fruit. Now she’s ripe for the picking...When Gabe Hamilton saw Mia Crestwell walk into the ballroom for his hotel’s grand opening, he knew he was going to hell for what he had planned. After all, Mia is his best friend’s little sister. Except she’s not so little anymore. And Gabe has waited a long time to act on his desires.Gabe has starred in Mia’s fantasies more than once, ever since she was a teenager with a huge crush on her brother’s best friend. So what if Gabe’s fourteen years older? Mia knows he’s way out of her league, but her attraction has only grown stronger with time. She’s an adult now, and there’s no reason not to act on her most secret desires.As Gabe pulls her into his provocative world, she realizes there’s a lot she doesn’t know about him or how exacting his demands can be. Their relationship is intense and obsessive, but as they cross the line from secret sexual odyssey to something deeper, their affair runs the risk of being exposed—and vulnerable to a betrayal far more intimate than either expected.</td>\n",
              "      <td>Maya Banks</td>\n",
              "    </tr>\n",
              "    <tr>\n",
              "      <th>1944</th>\n",
              "      <td>3408</td>\n",
              "      <td>Hunting Ground</td>\n",
              "      <td>Anna Latham didn’t know how complicated life could be until she became a werewolf. And until she was mated to Charles Cornick, the son — and enforcer — of Bran, the leader of the North American werewolves, she didn’t know how dangerous it could be either...Anna and Charles have just been enlisted to attend a summit to present Bran’s controversial proposition: that the wolves should finally reveal themselves to humans. But the most feared Alpha in Europe is dead set against the plan — and it seems like someone else might be too. When Anna is attacked by vampires using pack magic, the kind of power only werewolves should be able to draw on, Charles and Anna must combine their talents to hunt down whoever is behind it all — or risk losing everything...</td>\n",
              "      <td>Patricia Briggs</td>\n",
              "    </tr>\n",
              "    <tr>\n",
              "      <th>2019</th>\n",
              "      <td>3549</td>\n",
              "      <td>Fever</td>\n",
              "      <td>Jace, Ash, and Gabe: three of the wealthiest, most powerful men in the country. They’re accustomed to getting anything they want. Anything at all. For Jace, it’s a woman whose allure takes him completely by surprise...Jace Crestwell, Ash McIntyre, and Gabe Hamilton have been best friends and successful business partners for years. They’re powerful, they’re imposing, they’re irresistibly sexy, and Jace and Ash share everything—including their women.When they meet Bethany, Jace begins to feel things he’s never experienced before: jealousy, and a powerful obsession that threatens him, overwhelms him—and excites him beyond control.Jace isn’t sharing Bethany—with anyone. He’s determined to be the only man in her life, and it’s jeopardizing a lifelong friendship with Ash. Bethany will be his and his alone. Even if it means turning his back on his best friend.</td>\n",
              "      <td>Maya Banks</td>\n",
              "    </tr>\n",
              "    <tr>\n",
              "      <th>2199</th>\n",
              "      <td>3984</td>\n",
              "      <td>The Darkest Whisper</td>\n",
              "      <td>New York Times bestselling sensation Gena Showalter returns with her long-awaited next installment of the Lords of the Underworld series…He is the keeper of Doubt and his entire world’s about to be rocked.Bound by the demon of Doubt, Sabin unintentionally destroys even the most confident of lovers. So the immortal warrior spends his time on the battlefield instead of the bedroom, victory his only concern…until he meets Gwendolyn the Timid. One taste of the beautiful redhead, and he craves more.Gwen, an immortal herself, always thought she’d fall for a kind human who wouldn’t rouse her darker side. But when Sabin frees her from prison, battling their enemies for the claim to Pandora’s box turns out to be nothing compared to the battle Sabin and Gwen will wage against love…</td>\n",
              "      <td>Gena Showalter</td>\n",
              "    </tr>\n",
              "    <tr>\n",
              "      <th>3344</th>\n",
              "      <td>6977</td>\n",
              "      <td>The Mortal Instrument Series: City of Bones / City of Ashes / City of Glass / City of Fallen Angels</td>\n",
              "      <td>The Shadowhunters—touched by angels and charged with protecting innocents—battle demons and other evil in the bestselling Mortal Instruments series. \\r\\r\\r\\r\\r\\r\\n\\r\\r\\r\\r\\r\\r\\nCity of Bones \\r\\r\\r\\r\\r\\r\\n\\r\\r\\r\\r\\r\\r\\nWhen Clary Fray heads out to the Pandemonium Club in New York City, she hardly expects to witness a murder. Much less a murder committed by three teenagers covered with odd markings. This is Clary’s first meeting with the Shadowhunters, warriors dedicated to ridding the earth of demons—and keeping the odd werewolves and vampires in line. It’s also her first meeting with gorgeous, golden-haired Jace. Within twenty-four hours Clary is pulled into Jace’s world with a vengeance, when her mother disappears and Clary herself is attacked by a demon. But why would demons be interested in an ordinary mundane like Clary? And how did she suddenly get the Sight? The Shadowhunters would like to know. . . . \\r\\r\\r\\r\\r\\r\\n\\r\\r\\r\\r\\r\\r\\nCity of Ashes \\r\\r\\r\\r\\r\\r\\n\\r\\r\\r\\r\\r\\r\\nClary Fray just wishes that her life would go back to normal. But what’s normal when you’re a demon-slaying Shadowhunter, your mother is in a magically induced coma, and you can suddenly see Downworlders like werewolves, vampires, and faeries? Clary would love to spend more time with her best friend, Simon. But the Shadowhunters won’t let her go—especially handsome, infuriating Jace. Clary’s only chance to help her mother is to track down rogue Shadowhunter Valentine, who is probably insane, certainly evil—and also Jace’s father. When the second of the Mortal Instruments is stolen, the terrifying Inquisitor suspects Jace. Could Jace really be willing to betray everything he believes in to help his father? \\r\\r\\r\\r\\r\\r\\n\\r\\r\\r\\r\\r\\r\\nCity of Glass \\r\\r\\r\\r\\r\\r\\n\\r\\r\\r\\r\\r\\r\\nTo save her mother’s life, Clary travels to the City of Glass, the ancestral home of the Shadowhunters—never mind that by doing so she is breaking the Law, which could mean death. Even worse, Jace does not want her there, and Simon has been thrown in prison by Shadowhunters who are deeply suspicious of a vampire who can withstand sunlight. Luckily, Clary finds an ally in the mysterious Sebastian, who holds a strange attraction for her. As Valentine musters a demon army, can Downworlders and Shadowhunters put aside their ancient hatred and work together? And can Clary harness her newfound powers to help save them all—whatever the cost? \\r\\r\\r\\r\\r\\r\\n\\r\\r\\r\\r\\r\\r\\nCity of Fallen Angels \\r\\r\\r\\r\\r\\r\\n\\r\\r\\r\\r\\r\\r\\nThe Mortal War is over, and Clary is back in New York, excited about all the possibilities before her. She's training to become a Shadowhunter and to use her unique power. Downworlders and Shadowhunters are at peace at last. And—most importantly of all—she can finally call Jace her boyfriend. But nothing comes without a price. Someone is murdering Shadowhunters, provoking tensions that could lead to a second, bloody war. Clary's best friend, Simon, can't help her. Everywhere he turns, someone wants him on their side—along with the power of the curse that's wrecking his life. Not to mention that he's dating two beautiful, dangerous girls—neither of whom knows about the other. When Jace begins to pull away from her without explaining why, Clary is forced to delve into the heart of a mystery whose solution reveals her worst nightmare: She herself has set in motion a terrible chain of events that could lead to her losing everything she loves. Even Jace.</td>\n",
              "      <td>Cassandra Clare</td>\n",
              "    </tr>\n",
              "    <tr>\n",
              "      <th>3421</th>\n",
              "      <td>7221</td>\n",
              "      <td>Eeny Meeny</td>\n",
              "      <td>The \"dark, twisted, thought-provoking\" (#1 New York Times bestseller Tami Hoag) international bestseller—first in the new series featuring Detective Helen Grace.Two people are abducted, imprisoned, and left with a gun. As hunger and thirst set in, only one walks away alive.It’s a game more twisted than any Detective Helen Grace has ever seen. If she hadn’t spoken with the shattered survivors herself, she almost wouldn’t believe them.Helen is familiar with the dark sides of human nature, including her own, but this case—with its seemingly random victims—has her baffled. But as more people go missing, nothing will be more terrifying than when it all starts making sense....</td>\n",
              "      <td>M.J. Arlidge</td>\n",
              "    </tr>\n",
              "    <tr>\n",
              "      <th>3630</th>\n",
              "      <td>7818</td>\n",
              "      <td>Frostbitten</td>\n",
              "      <td>Smart, sexy, supernatural—the men and women of the Otherworld live and love, fight and die, among us. Unseen and unsuspected, this realm of witches, ghosts, and werewolves is now threatened with exposure by a brutal series of bizarre murders that has left even the supernatural world baffled—and cold with terror....Being the world’s only female werewolf has its advantages, such as having her pick of the Otherworld’s most desirable males. And Elena Michaels couldn't have picked a more dangerously sexy and undyingly loyal mate than Clayton Danvers. Now their bond will be put to the ultimate test as they follow a bloody trail of gruesome slayings deep into Alaska’s frozen wilderness.There’s nothing the werewolf community dislikes more than calling attention to itself. So when a pair of rogue man-eaters begins hunting humans, it’s up to Elena and Clayton to track down the predators. But any illusions their task would be simple are quickly dispelled. For even in werewolf terms, there’s something very disturbing taking place in the dark Alaskan forests. A werewolf more wolf than human and more unnatural than supernatural is on the hunt—a creature whose origins seem to spring from ancient legends of the shape-shifting Wendigo.And if that wasn't bad enough, Clayton and Elena find themselves confronting painful ghosts from their pasts — and an issue neither of them is eager to discuss. For one of them has been chosen to become the new Pack leader, and as every wolf knows, there can be only one Alpha. They've always been equals in everything. Now, when their survival depends more than ever on perfect teamwork, will instinct allow one of them to lead...and the other to follow?</td>\n",
              "      <td>Kelley Armstrong</td>\n",
              "    </tr>\n",
              "  </tbody>\n",
              "</table>\n",
              "</div>\n",
              "      <button class=\"colab-df-convert\" onclick=\"convertToInteractive('df-ec93b620-bc1d-430f-bae4-135220867e29')\"\n",
              "              title=\"Convert this dataframe to an interactive table.\"\n",
              "              style=\"display:none;\">\n",
              "        \n",
              "  <svg xmlns=\"http://www.w3.org/2000/svg\" height=\"24px\"viewBox=\"0 0 24 24\"\n",
              "       width=\"24px\">\n",
              "    <path d=\"M0 0h24v24H0V0z\" fill=\"none\"/>\n",
              "    <path d=\"M18.56 5.44l.94 2.06.94-2.06 2.06-.94-2.06-.94-.94-2.06-.94 2.06-2.06.94zm-11 1L8.5 8.5l.94-2.06 2.06-.94-2.06-.94L8.5 2.5l-.94 2.06-2.06.94zm10 10l.94 2.06.94-2.06 2.06-.94-2.06-.94-.94-2.06-.94 2.06-2.06.94z\"/><path d=\"M17.41 7.96l-1.37-1.37c-.4-.4-.92-.59-1.43-.59-.52 0-1.04.2-1.43.59L10.3 9.45l-7.72 7.72c-.78.78-.78 2.05 0 2.83L4 21.41c.39.39.9.59 1.41.59.51 0 1.02-.2 1.41-.59l7.78-7.78 2.81-2.81c.8-.78.8-2.07 0-2.86zM5.41 20L4 18.59l7.72-7.72 1.47 1.35L5.41 20z\"/>\n",
              "  </svg>\n",
              "      </button>\n",
              "      \n",
              "  <style>\n",
              "    .colab-df-container {\n",
              "      display:flex;\n",
              "      flex-wrap:wrap;\n",
              "      gap: 12px;\n",
              "    }\n",
              "\n",
              "    .colab-df-convert {\n",
              "      background-color: #E8F0FE;\n",
              "      border: none;\n",
              "      border-radius: 50%;\n",
              "      cursor: pointer;\n",
              "      display: none;\n",
              "      fill: #1967D2;\n",
              "      height: 32px;\n",
              "      padding: 0 0 0 0;\n",
              "      width: 32px;\n",
              "    }\n",
              "\n",
              "    .colab-df-convert:hover {\n",
              "      background-color: #E2EBFA;\n",
              "      box-shadow: 0px 1px 2px rgba(60, 64, 67, 0.3), 0px 1px 3px 1px rgba(60, 64, 67, 0.15);\n",
              "      fill: #174EA6;\n",
              "    }\n",
              "\n",
              "    [theme=dark] .colab-df-convert {\n",
              "      background-color: #3B4455;\n",
              "      fill: #D2E3FC;\n",
              "    }\n",
              "\n",
              "    [theme=dark] .colab-df-convert:hover {\n",
              "      background-color: #434B5C;\n",
              "      box-shadow: 0px 1px 3px 1px rgba(0, 0, 0, 0.15);\n",
              "      filter: drop-shadow(0px 1px 2px rgba(0, 0, 0, 0.3));\n",
              "      fill: #FFFFFF;\n",
              "    }\n",
              "  </style>\n",
              "\n",
              "      <script>\n",
              "        const buttonEl =\n",
              "          document.querySelector('#df-ec93b620-bc1d-430f-bae4-135220867e29 button.colab-df-convert');\n",
              "        buttonEl.style.display =\n",
              "          google.colab.kernel.accessAllowed ? 'block' : 'none';\n",
              "\n",
              "        async function convertToInteractive(key) {\n",
              "          const element = document.querySelector('#df-ec93b620-bc1d-430f-bae4-135220867e29');\n",
              "          const dataTable =\n",
              "            await google.colab.kernel.invokeFunction('convertToInteractive',\n",
              "                                                     [key], {});\n",
              "          if (!dataTable) return;\n",
              "\n",
              "          const docLinkHtml = 'Like what you see? Visit the ' +\n",
              "            '<a target=\"_blank\" href=https://colab.research.google.com/notebooks/data_table.ipynb>data table notebook</a>'\n",
              "            + ' to learn more about interactive tables.';\n",
              "          element.innerHTML = '';\n",
              "          dataTable['output_type'] = 'display_data';\n",
              "          await google.colab.output.renderOutput(dataTable, element);\n",
              "          const docLink = document.createElement('div');\n",
              "          docLink.innerHTML = docLinkHtml;\n",
              "          element.appendChild(docLink);\n",
              "        }\n",
              "      </script>\n",
              "    </div>\n",
              "  </div>\n",
              "  "
            ]
          },
          "metadata": {},
          "execution_count": 22
        }
      ],
      "source": [
        "df_books[df_books.book_id.isin(similar_books)][['book_id', 'original_title', 'book_desc', 'authors']]"
      ]
    },
    {
      "cell_type": "markdown",
      "metadata": {
        "id": "zaL2FqeJLy1m"
      },
      "source": [
        "### Pregunta 3: \n",
        "Comente los resultados obtenidos, en cuanto a modelo de lenguaje, reduccion de dimensionalidad y métrica de distancia utilizada. \n"
      ]
    },
    {
      "cell_type": "markdown",
      "metadata": {
        "id": "QmWOYk78Ly1n"
      },
      "source": [
        "### Respuesta 3: "
      ]
    },
    {
      "cell_type": "markdown",
      "metadata": {
        "id": "9DCWpJ15Ly1n"
      },
      "source": [
        "# Recomendaciones "
      ]
    },
    {
      "cell_type": "code",
      "execution_count": 23,
      "metadata": {
        "ExecuteTime": {
          "end_time": "2020-09-05T11:37:43.885802Z",
          "start_time": "2020-09-05T11:37:43.881309Z"
        },
        "colab": {
          "base_uri": "https://localhost:8080/"
        },
        "id": "A4RyjVZrLy1o",
        "outputId": "44c1dc73-0822-4da1-cc7d-7c4ef1691530"
      },
      "outputs": [
        {
          "output_type": "stream",
          "name": "stderr",
          "text": [
            "/usr/local/lib/python3.7/dist-packages/ipykernel_launcher.py:3: FutureWarning: Passing a negative integer is deprecated in version 1.0 and will not be supported in future version. Instead, use None to not limit the column width.\n",
            "  This is separate from the ipykernel package so we can avoid doing imports until\n"
          ]
        }
      ],
      "source": [
        "# format results \n",
        "pd.options.display.max_colwidth = 50\n",
        "pd.set_option('display.max_colwidth', -1)"
      ]
    },
    {
      "cell_type": "markdown",
      "metadata": {
        "id": "X8sMoG8cLy1q"
      },
      "source": [
        "## Función para obtener recomendacion para cada usuario "
      ]
    },
    {
      "cell_type": "code",
      "execution_count": 24,
      "metadata": {
        "ExecuteTime": {
          "end_time": "2020-09-05T11:37:45.370939Z",
          "start_time": "2020-09-05T11:37:45.366450Z"
        },
        "id": "HtY3EYYFLy1q"
      },
      "outputs": [],
      "source": [
        "def recommend(embedding, user_id=None, topk=10, metric='cosine'):\n",
        "    \n",
        "    #print(\"user_id = \", user_id)\n",
        "    \n",
        "    user_id = str(user_id)\n",
        "    \n",
        "    #Calculate distance metrics\n",
        "    trx = user_interactions[user_id]\n",
        "    n = embedding.shape[0]\n",
        "    distances = 1e9\n",
        "    \n",
        "    # recorremos transacciones pasadas del usuario \n",
        "    for t in trx:\n",
        "        query_i = bookid2idx[t]\n",
        "        \n",
        "        # recomendamos items más cercanos a items con los que interactuó el usuario\n",
        "        distances = np.minimum(distances, pairwise_distances(\n",
        "                embedding[query_i].reshape(1,-1), embedding, metric=metric).reshape(-1))\n",
        "\n",
        "    #Rank items de menor a mayor distancia (nos quedamos con los topk)\n",
        "    trx_set = set(trx)\n",
        "    heap = []\n",
        "    for i in range(n):\n",
        "        if idx2bookid[i] in trx_set:\n",
        "            continue\n",
        "        if len(heap) < topk:\n",
        "            heapq.heappush(heap, (-distances[i], i))\n",
        "        else:\n",
        "            heapq.heappushpop(heap, (-distances[i], i))\n",
        "    heap.sort(reverse=True)\n",
        "    \n",
        "    # utilizamos un heap para extraer los items ordenados de menor a mayor distancia \n",
        "    recommended_ids = [idx2bookid[i] for _,i in heap]\n",
        "    \n",
        "    # retornar los que el usuario no haya consumido \n",
        "    filtered_recommended_ids = []\n",
        "    \n",
        "    return recommended_ids"
      ]
    },
    {
      "cell_type": "markdown",
      "metadata": {
        "id": "POjgLB2tLy1s"
      },
      "source": [
        "## generar recomendaciones para un usuario en particular"
      ]
    },
    {
      "cell_type": "code",
      "execution_count": 25,
      "metadata": {
        "ExecuteTime": {
          "end_time": "2020-09-05T11:37:47.616219Z",
          "start_time": "2020-09-05T11:37:47.599838Z"
        },
        "colab": {
          "base_uri": "https://localhost:8080/"
        },
        "id": "ThGkxIXzLy1s",
        "outputId": "8dbf95fe-46c0-4842-cf0c-754712412f8a"
      },
      "outputs": [
        {
          "output_type": "execute_result",
          "data": {
            "text/plain": [
              "[4509,\n",
              " 5002,\n",
              " 4376,\n",
              " 964,\n",
              " 2292,\n",
              " 7937,\n",
              " 5126,\n",
              " 9473,\n",
              " 5244,\n",
              " 390,\n",
              " 6219,\n",
              " 7602,\n",
              " 7913,\n",
              " 6865,\n",
              " 2796]"
            ]
          },
          "metadata": {},
          "execution_count": 25
        }
      ],
      "source": [
        "# recomendación para el usuario id = 49299 , utilizando bert con reduccion de dimensionalidad a 20 \n",
        "user_id = '50101'\n",
        "rec = recommend(pca20_bert_featmat, user_id=user_id, topk=15)\n",
        "rec "
      ]
    },
    {
      "cell_type": "markdown",
      "metadata": {
        "id": "Ly9T0cQ7Ly1u"
      },
      "source": [
        "## transacciones pasadas del usuario "
      ]
    },
    {
      "cell_type": "code",
      "execution_count": 26,
      "metadata": {
        "ExecuteTime": {
          "end_time": "2020-09-05T11:38:28.373698Z",
          "start_time": "2020-09-05T11:38:28.362478Z"
        },
        "colab": {
          "base_uri": "https://localhost:8080/",
          "height": 1000
        },
        "id": "-ReUvp9MLy1v",
        "outputId": "19d10efb-4509-4609-d5a4-74af38e37977"
      },
      "outputs": [
        {
          "output_type": "execute_result",
          "data": {
            "text/plain": [
              "      book_id          original_title  \\\n",
              "2     3        Twilight                 \n",
              "5     6        The Fault in Our Stars   \n",
              "7     8        The Catcher in the Rye   \n",
              "8     10       Pride and Prejudice      \n",
              "9     11       The Kite Runner          \n",
              "...   ..                    ...         \n",
              "2344  4323     El Deafo                 \n",
              "2804  5476     The Crossover            \n",
              "3004  5992     Ball Four                \n",
              "3703  8057     Absent in the Spring     \n",
              "4170  9611     All Fall Down            \n",
              "\n",
              "                                                                                                                                                                                                                                                                                                                                                                                                                                                                                                                                                                                                                                                                                                                                                                                                                                                                                                                                                                                                                                                                                                                                                                                                                                                                                                                                                                                                                                                                                                                                                                                                                              book_desc  \\\n",
              "2     About three things I was absolutely positive.First, Edward was a vampire.Second, there was a part of him—and I didn't know how dominant that part might be—that thirsted for my blood.And third, I was unconditionally and irrevocably in love with him.In the first book of the Twilight Saga, internationally bestselling author Stephenie Meyer introduces Bella Swan and Edward Cullen, a pair of star-crossed lovers whose forbidden relationship ripens against the backdrop of small-town suspicion and a mysterious coven of vampires. This is a love story with bite.                                                                                                                                                                                                                                                                                                                                                                                                                                                                                                                                                                                                                                                                                                                                                                                                                                                                                                                                                                                                                                                      \n",
              "5     Despite the tumor-shrinking medical miracle that has bought her a few years, Hazel has never been anything but terminal, her final chapter inscribed upon diagnosis. But when a gorgeous plot twist named Augustus Waters suddenly appears at Cancer Kid Support Group, Hazel's story is about to be completely rewritten.Insightful, bold, irreverent, and raw, The Fault in Our Stars is award-winning author John Green's most ambitious and heartbreaking work yet, brilliantly exploring the funny, thrilling, and tragic business of being alive and in love.                                                                                                                                                                                                                                                                                                                                                                                                                                                                                                                                                                                                                                                                                                                                                                                                                                                                                                                                                                                                                                                                 \n",
              "7     The hero-narrator of The Catcher in the Rye is an ancient child of sixteen, a native New Yorker named Holden Caulfield. Through circumstances that tend to preclude adult, secondhand description, he leaves his prep school in Pennsylvania and goes underground in New York City for three days. The boy himself is at once too simple and too complex for us to make any final comment about him or his story. Perhaps the safest thing we can say about Holden is that he was born in the world not just strongly attracted to beauty but, almost, hopelessly impaled on it. There are many voices in this novel: children's voices, adult voices, underground voices-but Holden's voice is the most eloquent of all. Transcending his own vernacular, yet remaining marvelously faithful to it, he issues a perfectly articulated cry of mixed pain and pleasure. However, like most lovers and clowns and poets of the higher orders, he keeps most of the pain to, and for, himself. The pleasure he gives away, or sets aside, with all his heart. It is there for the reader who can handle it to keep. J.D. Salinger's classic novel of teenage angst and rebellion was first published in 1951. The novel was included on Time's 2005 list of the 100 best English-language novels written since 1923. It was named by Modern Library and its readers as one of the 100 best English-language novels of the 20th century. It has been frequently challenged in the court for its liberal use of profanity and portrayal of sexuality and in the 1950's and 60's it was the novel that every teenage boy wants to read.   \n",
              "8     «È cosa ormai risaputa che a uno scapolo in possesso di un'ingente fortuna manchi soltanto una moglie. Questa verità è cosí radicata nella mente delle famiglie del luoho che, nel momento in cui un simile personaggio viene a far parte del vicinato, prima ancora di conoscere anche lontanamente i suoi desiderî in proposito, viene immediatamente considerato come proprietà legittima di una o l'altra delle loro figlie.»Orgoglio e pregiudizio è uno dei primi romanzi di Jane Austen. La scrittrice lo iniziò a ventun anni; il libro, rifiutato da un editore londinese, rimase in un cassetto fino alla sua pubblicazione anonima nel 1813, e da allora è considerato tra i piú importanti romanzi della letteratura inglese. È la storia delle cinque sorelle Bennet e dei loro corteggiatori, con al centro il romantico contrasto tra l'adorabile e capricciosa Elizabeth e l'altezzoso Darcy; lo spirito di osservazione implacabile e quasi cinico, lo studio arguto dei caratteri, la satira delle vanità e delle debolezze della vita domestica, fanno di questo romanzo una delle piú efficaci e indimenticabili commedie di costume del periodo Regency inglese.                                                                                                                                                                                                                                                                                                                                                                                                                                               \n",
              "9      “It may be unfair, but what happens in a few days, sometimes even a single day, can change the course of a whole lifetime.\" Amir is the son of a wealthy Kabul merchant, a member of the ruling caste of Pashtuns. Hassan, his servant and constant companion, is a Hazara, a despised and impoverished caste. Their uncommon bond is torn by Amir's choice to abandon his friend amidst the increasing ethnic, religious, and political tensions of the dying years of the Afghan monarchy, wrenching them far apart. But so strong is the bond between the two boys that Amir journeys back to a distant world, to try to right past wrongs against the only true friend he ever had.The unforgettable, heartbreaking story of the unlikely friendship between a wealthy boy and the son of his father’s servant, The Kite Runner is a beautifully crafted novel set in a country that is in the process of being destroyed. It is about the power of reading, the price of betrayal, and the possibility of redemption; and an exploration of the power of fathers over sons—their love, their sacrifices, their lies.A sweeping story of family, love, and friendship told against the devastating backdrop of the history of Afghanistan over the last thirty years, The Kite Runner is an unusual and powerful novel that has become a beloved, one-of-a-kind classic.                                                                                                                                                                                                                                                       \n",
              "...                                                                                                                                                                                                                                                                                                                                                                                                                                                                                                                                                                                                                                                                                                                                                                                                                                                                                                                                                                                                                                                                                                                                                                                                                                                                                                                                                                             ...                                                                                                                                                                                                                                                       \n",
              "2344  Starting at a new school is scary, even more so with a giant hearing aid strapped to your chest! At her old school, everyone in Cece's class was deaf. Here she is different. She is sure the kids are staring at the Phonic Ear, the powerful aid that will help her hear her teacher. Too bad it also seems certain to repel potential friends. Then Cece makes a startling discovery. With the Phonic Ear she can hear her teacher not just in the classroom, but anywhere her teacher is in school--in the hallway...in the teacher's lounge...in the bathroom! This is power. Maybe even superpower! Cece is on her way to becoming El Deafo, Listener for All. But the funny thing about being a superhero is that it's just another way of feeling different... and lonely. Can Cece channel her powers into finding the thing she wants most, a true friend?This funny perceptive graphic novel memoir about growing up hearing impaired is also an unforgettable book about growing up, and all the super and super embarrassing moments along the way.                                                                                                                                                                                                                                                                                                                                                                                                                                                                                                                                                                    \n",
              "2804  \"With a bolt of lightning on my kicks . . .The court is SIZZLING. My sweat is DRIZZLING. Stop all that quivering. Cuz tonight I'm delivering,\" announces dread-locked, 12-year old Josh Bell. He and his twin brother Jordan are awesome on the court. But Josh has more than basketball in his blood, he's got mad beats, too, that tell his family's story in verse, in this fast and furious middle grade novel of family and brotherhood. Josh and Jordan must come to grips with growing up on and off the court to realize breaking the rules comes at a terrible price, as their story's heart-stopping climax proves a game-changer for the entire family.                                                                                                                                                                                                                                                                                                                                                                                                                                                                                                                                                                                                                                                                                                                                                                                                                                                                                                                                                                  \n",
              "3004  Twentieth-anniversary edition of a baseball classic, with a new epilogue by Jim Bouton.When first published in 1970, Ball Four stunned the sports world. The commissioner, executives, and players were shocked. Sportswriters called author Jim Bouton a traitor and \"social leper.\" Baseball commissioner Bowie Kuhn tried to force him to declare the book untrue. Fans, however, loved the book. And serious critics called it an important social document. Today, Jim Bouton is still not invited to Oldtimer's Days at Yankee Stadium. But his landmark book is still being read by people who don't ordinarily follow baseball.                                                                                                                                                                                                                                                                                                                                                                                                                                                                                                                                                                                                                                                                                                                                                                                                                                                                                                                                                                                             \n",
              "3703  Returning from a visit to her daughter in Iraq, Joan Scudamore finds herself unexpectedly alone and stranded in an isolated rest house by flooding of the railway tracks. This sudden solitude compels Joan to assess her life for the first time ever and face up to many of the truths about herself. Looking back over the years, Joan painfully re-examines her attitudes, relationships and actions and becomes increasingly uneasy about the person who is revealed to her.                                                                                                                                                                                                                                                                                                                                                                                                                                                                                                                                                                                                                                                                                                                                                                                                                                                                                                                                                                                                                                                                                                                                                   \n",
              "4170  A new series of global proportions -- from master of intrigue, NEW YORK TIMES bestselling author Ally Carter.Grace Blakely is absolutely certain of three things:1. She is not crazy.2. Her mother was murdered.3. Someday she is going to find the killer and make him pay.As certain as Grace is about these facts, nobody else believes her -- so there's no one she can completely trust. Not her grandfather, a powerful ambassador. Not her new friends, who all live on Embassy Row. Not Alexei, the Russian boy next door, who is keeping his eye on Grace for reasons she neither likes nor understands.Everybody wants Grace to put on a pretty dress and a pretty smile, blocking out all her unpretty thoughts. But they can't control Grace -- no more than Grace can control what she knows or what she needs to do. Her past has come back to hunt her . . . and if she doesn't stop it, Grace isn't the only one who will get hurt. Because on Embassy Row, the countries of the world stand like dominoes, and one wrong move can make them all fall down.                                                                                                                                                                                                                                                                                                                                                                                                                                                                                                                                                         \n",
              "\n",
              "                               authors  \n",
              "2     Stephenie Meyer                   \n",
              "5     John Green                        \n",
              "7     J.D. Salinger                     \n",
              "8     Jane Austen                       \n",
              "9     Khaled Hosseini                   \n",
              "...               ...                   \n",
              "2344  Cece Bell, David Lasky            \n",
              "2804  Kwame Alexander                   \n",
              "3004  Jim Bouton                        \n",
              "3703  Mary Westmacott, Agatha Christie  \n",
              "4170  Ally Carter                       \n",
              "\n",
              "[109 rows x 4 columns]"
            ],
            "text/html": [
              "\n",
              "  <div id=\"df-170ec44d-f2ac-477e-86c9-3d73fe29437a\">\n",
              "    <div class=\"colab-df-container\">\n",
              "      <div>\n",
              "<style scoped>\n",
              "    .dataframe tbody tr th:only-of-type {\n",
              "        vertical-align: middle;\n",
              "    }\n",
              "\n",
              "    .dataframe tbody tr th {\n",
              "        vertical-align: top;\n",
              "    }\n",
              "\n",
              "    .dataframe thead th {\n",
              "        text-align: right;\n",
              "    }\n",
              "</style>\n",
              "<table border=\"1\" class=\"dataframe\">\n",
              "  <thead>\n",
              "    <tr style=\"text-align: right;\">\n",
              "      <th></th>\n",
              "      <th>book_id</th>\n",
              "      <th>original_title</th>\n",
              "      <th>book_desc</th>\n",
              "      <th>authors</th>\n",
              "    </tr>\n",
              "  </thead>\n",
              "  <tbody>\n",
              "    <tr>\n",
              "      <th>2</th>\n",
              "      <td>3</td>\n",
              "      <td>Twilight</td>\n",
              "      <td>About three things I was absolutely positive.First, Edward was a vampire.Second, there was a part of him—and I didn't know how dominant that part might be—that thirsted for my blood.And third, I was unconditionally and irrevocably in love with him.In the first book of the Twilight Saga, internationally bestselling author Stephenie Meyer introduces Bella Swan and Edward Cullen, a pair of star-crossed lovers whose forbidden relationship ripens against the backdrop of small-town suspicion and a mysterious coven of vampires. This is a love story with bite.</td>\n",
              "      <td>Stephenie Meyer</td>\n",
              "    </tr>\n",
              "    <tr>\n",
              "      <th>5</th>\n",
              "      <td>6</td>\n",
              "      <td>The Fault in Our Stars</td>\n",
              "      <td>Despite the tumor-shrinking medical miracle that has bought her a few years, Hazel has never been anything but terminal, her final chapter inscribed upon diagnosis. But when a gorgeous plot twist named Augustus Waters suddenly appears at Cancer Kid Support Group, Hazel's story is about to be completely rewritten.Insightful, bold, irreverent, and raw, The Fault in Our Stars is award-winning author John Green's most ambitious and heartbreaking work yet, brilliantly exploring the funny, thrilling, and tragic business of being alive and in love.</td>\n",
              "      <td>John Green</td>\n",
              "    </tr>\n",
              "    <tr>\n",
              "      <th>7</th>\n",
              "      <td>8</td>\n",
              "      <td>The Catcher in the Rye</td>\n",
              "      <td>The hero-narrator of The Catcher in the Rye is an ancient child of sixteen, a native New Yorker named Holden Caulfield. Through circumstances that tend to preclude adult, secondhand description, he leaves his prep school in Pennsylvania and goes underground in New York City for three days. The boy himself is at once too simple and too complex for us to make any final comment about him or his story. Perhaps the safest thing we can say about Holden is that he was born in the world not just strongly attracted to beauty but, almost, hopelessly impaled on it. There are many voices in this novel: children's voices, adult voices, underground voices-but Holden's voice is the most eloquent of all. Transcending his own vernacular, yet remaining marvelously faithful to it, he issues a perfectly articulated cry of mixed pain and pleasure. However, like most lovers and clowns and poets of the higher orders, he keeps most of the pain to, and for, himself. The pleasure he gives away, or sets aside, with all his heart. It is there for the reader who can handle it to keep. J.D. Salinger's classic novel of teenage angst and rebellion was first published in 1951. The novel was included on Time's 2005 list of the 100 best English-language novels written since 1923. It was named by Modern Library and its readers as one of the 100 best English-language novels of the 20th century. It has been frequently challenged in the court for its liberal use of profanity and portrayal of sexuality and in the 1950's and 60's it was the novel that every teenage boy wants to read.</td>\n",
              "      <td>J.D. Salinger</td>\n",
              "    </tr>\n",
              "    <tr>\n",
              "      <th>8</th>\n",
              "      <td>10</td>\n",
              "      <td>Pride and Prejudice</td>\n",
              "      <td>«È cosa ormai risaputa che a uno scapolo in possesso di un'ingente fortuna manchi soltanto una moglie. Questa verità è cosí radicata nella mente delle famiglie del luoho che, nel momento in cui un simile personaggio viene a far parte del vicinato, prima ancora di conoscere anche lontanamente i suoi desiderî in proposito, viene immediatamente considerato come proprietà legittima di una o l'altra delle loro figlie.»Orgoglio e pregiudizio è uno dei primi romanzi di Jane Austen. La scrittrice lo iniziò a ventun anni; il libro, rifiutato da un editore londinese, rimase in un cassetto fino alla sua pubblicazione anonima nel 1813, e da allora è considerato tra i piú importanti romanzi della letteratura inglese. È la storia delle cinque sorelle Bennet e dei loro corteggiatori, con al centro il romantico contrasto tra l'adorabile e capricciosa Elizabeth e l'altezzoso Darcy; lo spirito di osservazione implacabile e quasi cinico, lo studio arguto dei caratteri, la satira delle vanità e delle debolezze della vita domestica, fanno di questo romanzo una delle piú efficaci e indimenticabili commedie di costume del periodo Regency inglese.</td>\n",
              "      <td>Jane Austen</td>\n",
              "    </tr>\n",
              "    <tr>\n",
              "      <th>9</th>\n",
              "      <td>11</td>\n",
              "      <td>The Kite Runner</td>\n",
              "      <td>“It may be unfair, but what happens in a few days, sometimes even a single day, can change the course of a whole lifetime.\" Amir is the son of a wealthy Kabul merchant, a member of the ruling caste of Pashtuns. Hassan, his servant and constant companion, is a Hazara, a despised and impoverished caste. Their uncommon bond is torn by Amir's choice to abandon his friend amidst the increasing ethnic, religious, and political tensions of the dying years of the Afghan monarchy, wrenching them far apart. But so strong is the bond between the two boys that Amir journeys back to a distant world, to try to right past wrongs against the only true friend he ever had.The unforgettable, heartbreaking story of the unlikely friendship between a wealthy boy and the son of his father’s servant, The Kite Runner is a beautifully crafted novel set in a country that is in the process of being destroyed. It is about the power of reading, the price of betrayal, and the possibility of redemption; and an exploration of the power of fathers over sons—their love, their sacrifices, their lies.A sweeping story of family, love, and friendship told against the devastating backdrop of the history of Afghanistan over the last thirty years, The Kite Runner is an unusual and powerful novel that has become a beloved, one-of-a-kind classic.</td>\n",
              "      <td>Khaled Hosseini</td>\n",
              "    </tr>\n",
              "    <tr>\n",
              "      <th>...</th>\n",
              "      <td>...</td>\n",
              "      <td>...</td>\n",
              "      <td>...</td>\n",
              "      <td>...</td>\n",
              "    </tr>\n",
              "    <tr>\n",
              "      <th>2344</th>\n",
              "      <td>4323</td>\n",
              "      <td>El Deafo</td>\n",
              "      <td>Starting at a new school is scary, even more so with a giant hearing aid strapped to your chest! At her old school, everyone in Cece's class was deaf. Here she is different. She is sure the kids are staring at the Phonic Ear, the powerful aid that will help her hear her teacher. Too bad it also seems certain to repel potential friends. Then Cece makes a startling discovery. With the Phonic Ear she can hear her teacher not just in the classroom, but anywhere her teacher is in school--in the hallway...in the teacher's lounge...in the bathroom! This is power. Maybe even superpower! Cece is on her way to becoming El Deafo, Listener for All. But the funny thing about being a superhero is that it's just another way of feeling different... and lonely. Can Cece channel her powers into finding the thing she wants most, a true friend?This funny perceptive graphic novel memoir about growing up hearing impaired is also an unforgettable book about growing up, and all the super and super embarrassing moments along the way.</td>\n",
              "      <td>Cece Bell, David Lasky</td>\n",
              "    </tr>\n",
              "    <tr>\n",
              "      <th>2804</th>\n",
              "      <td>5476</td>\n",
              "      <td>The Crossover</td>\n",
              "      <td>\"With a bolt of lightning on my kicks . . .The court is SIZZLING. My sweat is DRIZZLING. Stop all that quivering. Cuz tonight I'm delivering,\" announces dread-locked, 12-year old Josh Bell. He and his twin brother Jordan are awesome on the court. But Josh has more than basketball in his blood, he's got mad beats, too, that tell his family's story in verse, in this fast and furious middle grade novel of family and brotherhood. Josh and Jordan must come to grips with growing up on and off the court to realize breaking the rules comes at a terrible price, as their story's heart-stopping climax proves a game-changer for the entire family.</td>\n",
              "      <td>Kwame Alexander</td>\n",
              "    </tr>\n",
              "    <tr>\n",
              "      <th>3004</th>\n",
              "      <td>5992</td>\n",
              "      <td>Ball Four</td>\n",
              "      <td>Twentieth-anniversary edition of a baseball classic, with a new epilogue by Jim Bouton.When first published in 1970, Ball Four stunned the sports world. The commissioner, executives, and players were shocked. Sportswriters called author Jim Bouton a traitor and \"social leper.\" Baseball commissioner Bowie Kuhn tried to force him to declare the book untrue. Fans, however, loved the book. And serious critics called it an important social document. Today, Jim Bouton is still not invited to Oldtimer's Days at Yankee Stadium. But his landmark book is still being read by people who don't ordinarily follow baseball.</td>\n",
              "      <td>Jim Bouton</td>\n",
              "    </tr>\n",
              "    <tr>\n",
              "      <th>3703</th>\n",
              "      <td>8057</td>\n",
              "      <td>Absent in the Spring</td>\n",
              "      <td>Returning from a visit to her daughter in Iraq, Joan Scudamore finds herself unexpectedly alone and stranded in an isolated rest house by flooding of the railway tracks. This sudden solitude compels Joan to assess her life for the first time ever and face up to many of the truths about herself. Looking back over the years, Joan painfully re-examines her attitudes, relationships and actions and becomes increasingly uneasy about the person who is revealed to her.</td>\n",
              "      <td>Mary Westmacott, Agatha Christie</td>\n",
              "    </tr>\n",
              "    <tr>\n",
              "      <th>4170</th>\n",
              "      <td>9611</td>\n",
              "      <td>All Fall Down</td>\n",
              "      <td>A new series of global proportions -- from master of intrigue, NEW YORK TIMES bestselling author Ally Carter.Grace Blakely is absolutely certain of three things:1. She is not crazy.2. Her mother was murdered.3. Someday she is going to find the killer and make him pay.As certain as Grace is about these facts, nobody else believes her -- so there's no one she can completely trust. Not her grandfather, a powerful ambassador. Not her new friends, who all live on Embassy Row. Not Alexei, the Russian boy next door, who is keeping his eye on Grace for reasons she neither likes nor understands.Everybody wants Grace to put on a pretty dress and a pretty smile, blocking out all her unpretty thoughts. But they can't control Grace -- no more than Grace can control what she knows or what she needs to do. Her past has come back to hunt her . . . and if she doesn't stop it, Grace isn't the only one who will get hurt. Because on Embassy Row, the countries of the world stand like dominoes, and one wrong move can make them all fall down.</td>\n",
              "      <td>Ally Carter</td>\n",
              "    </tr>\n",
              "  </tbody>\n",
              "</table>\n",
              "<p>109 rows × 4 columns</p>\n",
              "</div>\n",
              "      <button class=\"colab-df-convert\" onclick=\"convertToInteractive('df-170ec44d-f2ac-477e-86c9-3d73fe29437a')\"\n",
              "              title=\"Convert this dataframe to an interactive table.\"\n",
              "              style=\"display:none;\">\n",
              "        \n",
              "  <svg xmlns=\"http://www.w3.org/2000/svg\" height=\"24px\"viewBox=\"0 0 24 24\"\n",
              "       width=\"24px\">\n",
              "    <path d=\"M0 0h24v24H0V0z\" fill=\"none\"/>\n",
              "    <path d=\"M18.56 5.44l.94 2.06.94-2.06 2.06-.94-2.06-.94-.94-2.06-.94 2.06-2.06.94zm-11 1L8.5 8.5l.94-2.06 2.06-.94-2.06-.94L8.5 2.5l-.94 2.06-2.06.94zm10 10l.94 2.06.94-2.06 2.06-.94-2.06-.94-.94-2.06-.94 2.06-2.06.94z\"/><path d=\"M17.41 7.96l-1.37-1.37c-.4-.4-.92-.59-1.43-.59-.52 0-1.04.2-1.43.59L10.3 9.45l-7.72 7.72c-.78.78-.78 2.05 0 2.83L4 21.41c.39.39.9.59 1.41.59.51 0 1.02-.2 1.41-.59l7.78-7.78 2.81-2.81c.8-.78.8-2.07 0-2.86zM5.41 20L4 18.59l7.72-7.72 1.47 1.35L5.41 20z\"/>\n",
              "  </svg>\n",
              "      </button>\n",
              "      \n",
              "  <style>\n",
              "    .colab-df-container {\n",
              "      display:flex;\n",
              "      flex-wrap:wrap;\n",
              "      gap: 12px;\n",
              "    }\n",
              "\n",
              "    .colab-df-convert {\n",
              "      background-color: #E8F0FE;\n",
              "      border: none;\n",
              "      border-radius: 50%;\n",
              "      cursor: pointer;\n",
              "      display: none;\n",
              "      fill: #1967D2;\n",
              "      height: 32px;\n",
              "      padding: 0 0 0 0;\n",
              "      width: 32px;\n",
              "    }\n",
              "\n",
              "    .colab-df-convert:hover {\n",
              "      background-color: #E2EBFA;\n",
              "      box-shadow: 0px 1px 2px rgba(60, 64, 67, 0.3), 0px 1px 3px 1px rgba(60, 64, 67, 0.15);\n",
              "      fill: #174EA6;\n",
              "    }\n",
              "\n",
              "    [theme=dark] .colab-df-convert {\n",
              "      background-color: #3B4455;\n",
              "      fill: #D2E3FC;\n",
              "    }\n",
              "\n",
              "    [theme=dark] .colab-df-convert:hover {\n",
              "      background-color: #434B5C;\n",
              "      box-shadow: 0px 1px 3px 1px rgba(0, 0, 0, 0.15);\n",
              "      filter: drop-shadow(0px 1px 2px rgba(0, 0, 0, 0.3));\n",
              "      fill: #FFFFFF;\n",
              "    }\n",
              "  </style>\n",
              "\n",
              "      <script>\n",
              "        const buttonEl =\n",
              "          document.querySelector('#df-170ec44d-f2ac-477e-86c9-3d73fe29437a button.colab-df-convert');\n",
              "        buttonEl.style.display =\n",
              "          google.colab.kernel.accessAllowed ? 'block' : 'none';\n",
              "\n",
              "        async function convertToInteractive(key) {\n",
              "          const element = document.querySelector('#df-170ec44d-f2ac-477e-86c9-3d73fe29437a');\n",
              "          const dataTable =\n",
              "            await google.colab.kernel.invokeFunction('convertToInteractive',\n",
              "                                                     [key], {});\n",
              "          if (!dataTable) return;\n",
              "\n",
              "          const docLinkHtml = 'Like what you see? Visit the ' +\n",
              "            '<a target=\"_blank\" href=https://colab.research.google.com/notebooks/data_table.ipynb>data table notebook</a>'\n",
              "            + ' to learn more about interactive tables.';\n",
              "          element.innerHTML = '';\n",
              "          dataTable['output_type'] = 'display_data';\n",
              "          await google.colab.output.renderOutput(dataTable, element);\n",
              "          const docLink = document.createElement('div');\n",
              "          docLink.innerHTML = docLinkHtml;\n",
              "          element.appendChild(docLink);\n",
              "        }\n",
              "      </script>\n",
              "    </div>\n",
              "  </div>\n",
              "  "
            ]
          },
          "metadata": {},
          "execution_count": 26
        }
      ],
      "source": [
        "past_interactions = user_interactions[str(user_id)]\n",
        "\n",
        "df_books[df_books['book_id'].isin(past_interactions)][['book_id', 'original_title', 'book_desc', 'authors']]\n"
      ]
    },
    {
      "cell_type": "markdown",
      "metadata": {
        "id": "9l-bFL66Ly1x"
      },
      "source": [
        "## información de recomendaciones "
      ]
    },
    {
      "cell_type": "code",
      "execution_count": 27,
      "metadata": {
        "ExecuteTime": {
          "end_time": "2020-09-05T11:38:40.965414Z",
          "start_time": "2020-09-05T11:38:40.953210Z"
        },
        "colab": {
          "base_uri": "https://localhost:8080/",
          "height": 1000
        },
        "id": "tEXlU8CFLy1y",
        "outputId": "ab246579-2617-41f1-b696-ec63d872c557"
      },
      "outputs": [
        {
          "output_type": "execute_result",
          "data": {
            "text/plain": [
              "      book_id  \\\n",
              "293   390       \n",
              "683   964       \n",
              "1417  2292      \n",
              "1643  2796      \n",
              "2363  4376      \n",
              "2418  4509      \n",
              "2629  5002      \n",
              "2676  5126      \n",
              "2718  5244      \n",
              "3092  6219      \n",
              "3307  6865      \n",
              "3550  7602      \n",
              "3658  7913      \n",
              "3664  7937      \n",
              "4127  9473      \n",
              "\n",
              "                                                                                        original_title  \\\n",
              "293   The Strange Case of Dr Jekyll and Mr Hyde                                                          \n",
              "683   The Hobbit and The Lord of the Rings                                                               \n",
              "1417  ساق البامبو [Saq al-Bambu]                                                                         \n",
              "1643  The Lost Wife                                                                                      \n",
              "2363  شيكاجو                                                                                             \n",
              "2418  2666                                                                                               \n",
              "2629  في ديسمبر تنتهي كل الأحلام                                                                         \n",
              "2676  Travesuras de la niña mala                                                                         \n",
              "2718  Il barone rampante                                                                                 \n",
              "3092  Hyperspace: A Scientific Odyssey Through Parallel Universes, Time Warps, and the Tenth Dimension   \n",
              "3307  The Gun Seller                                                                                     \n",
              "3550  Caim                                                                                               \n",
              "3658  La tregua                                                                                          \n",
              "3664  باب الخروج: رسالة علي المفعمة ببهجة غير متوقعة                                                     \n",
              "4127  Maktub                                                                                             \n",
              "\n",
              "                                                                                                                                                                                                                                                                                                                                                                                                                                                                                                                                                                                                                                                                                                                                                                                                                                                                                                                                                                                                                                                                                                                                                                                                                                                                                                                                                                                                                                                                                                                                                                                                                                                                                                  book_desc  \\\n",
              "293   Un abogado, Gabriel John Utterson, investiga la extraña relación entre su viejo amigo, el doctor. Henry Jekyll, y el misántropo Edward Hyde. En realidad, Jekyll es un científico que crea una poción o bebida que tiene la capacidad de separar la parte más humana del lado más maléfico de una persona. Cuando Jekyll bebe esta mezcla se convierte en Edward Hyde, un criminal capaz de cualquier atrocidad. Desesperado por la necesidad cada vez más frecuente e incontrolable de convertirse en ese ser malvado, el doctor Jekyll decide suicidarse.                                                                                                                                                                                                                                                                                                                                                                                                                                                                                                                                                                                                                                                                                                                                                                                                                                                                                                                                                                                                                                                                                                                                             \n",
              "683   لجزء الثالث من ملحمة جيه أر أر تولكين الرائعة سيد الخواتم دخل أفراد رفقة الخاتم فى مغامرات منفصلة أثناء إنجاز المهمة وسيرها فى طريق التنفيذ - اما أراجون الذى كشف أنه الوريث الخلفى لملوك الغرب القدامى فقد أنضم إلى خيالة روهان ضد قوى أيزنجارد وأشترك فى نصر هورنبرج الذى تحقق بصعوبة وبأس - أما ميرى وبيبين كانا قد تعرضا للإختطاف من جانب الأوركيين فقد هربا إلى غابة فانجون وهناك قابلا الأنتيين وعاد جاندالف فيما يشبة المعجزة وهزم الساحر الشرير سارومان وفى نفس الوقت فإن سام وفرودو راحا يتقدمان بإتجاه موردو لتدمير الخاتم وبرفقتهما سميجول - جولام وهو لا يزال مهووسا ب شيئة الثمين وبعد معركة مع أنثى العنكبوت العملاق شيلوب ترك سام سيده طنا منه أنه مات ولكن فرودو كان لا يزال على قيد الحياة فى أيدى الأوركيين وكانت جيوش سيد الظلام تتجمع بإستمرار                                                                                                                                                                                                                                                                                                                                                                                                                                                                                                                                                                                                                                                                                                                                                                                                                                                                                                                                      \n",
              "1417  لماذا كان جلوسي تحت الشجرة يزعج أمي؟ أتراها كانت تخشى أن تنبت لي جذور تضرب في عمق الأرض ما يجعل عودتي إلى بلاد أبي أمراً مستحيلاً؟..ربما، ولكن، حتى الجذور لا تعني شيئاً أحياناً. لو كنت مثل نبتة البامبو.. لا انتماء لها.. نقتطع جزءاً من ساقها.. نغرسه، بلا جذور، في أي أرض.. لا يلبث الساق طويلاً حتى تنبت له جذور جديدة.. تنمو من جديد.. في أرض جديدة.. بلا ماض.. بلا ذاكرة.. لا يلتفت إلى اختلاف الناس حول تسميته.. كاوايان في الفلبين.. خيزران في الكويت.. أو بامبو في أماكن أخرى.                                                                                                                                                                                                                                                                                                                                                                                                                                                                                                                                                                                                                                                                                                                                                                                                                                                                                                                                                                                                                                                                                                                                                                                                                \n",
              "1643  Praga, 1938. Lenka, una joven estudiante de arte, se enamora perdidamente de Josef. Se casan, pero a pesar de esperar un prometedor futuro juntos, sus sueños se hacen añicos ante la inminente invasión nazi y deciden huir a Estados Unidos. Sin embargo, en el último momento, Lenka decide quedarse, y los amantes se separan con la promesa de reunirse tan pronto como puedan.En Estados Unidos, Josef rehace su vida, aunque nunca olvidará a su primer amor, al que cree haber perdido para siempre. Mientras, en medio del horror de Tezerín y de Auschwitz, Lenka sobrevivirá gracias a la memoria de un marido al que cree que no volverá a ver y a su talento artístico, la única vía que da color al horror y forma a lo que no se puede describir con palabras.Separados por la guerra, pero unidos por el recuerdo, ahora, décadas más tarde, un inesperado encuentro en Nueva York les ofrece una segunda oportunidad...\".                                                                                                                                                                                                                                                                                                                                                                                                                                                                                                                                                                                                                                                                                                                                                              \n",
              "2363  يقول الأستاذ جلال أمين عن هذه الرواية المتميزة: ها هى رواية علاء الأسوانى الجديدة «شيكاجو» تستحق بدورها نجاحًا مماثلاً وبنفس القدر من الجدارة كالذى استحقته عمارة يعقوبيان. فرحت عند انتهائى من قراءتها لأكثر من سبب، فقد أكدت لى هذه القراءة أن لدينا بالفعل أديبًا كبيرًا وموهوبًا، وظهر أن عمارة يعقوبيان ليست ظاهرة منفردة لا تتكرر، بل إن من الممكن أن تتكرر المرة بعد المرة. فى الرواية الجديدة (شيكاجو) كل مزايا الرواية السابقة: التشويق الذى يبدأ من أول صفحة ويستمر إلى آخر صفحة، أسلوب الكتابة السلس والسريع الذى يصيب الهدف باستمرار بلا تثاقل أو تسكع، الرسم الواضح والمتسق للشخصيات، اللغة العربية الراقية دون تكلف أو تعمد الإغراب، وقبل كل شيء وفوق كل شيء، نُبل المعني، إذ لا جدوى فى رأيى من رواية مهما كانت درجة تشويقها وإتقانها إذا لم تكن نبيلة المقصد، وإذا كان المقصد تافهًا أو حقيرًا قضى على ما قد يكون للمهارة والشطارة من أثر فى نفس القارئhttp://www.titaniumstores.com/dp/9770...                                                                                                                                                                                                                                                                                                                                                                                                                                                                                                                                                                                                                                                                                                                                                                                         \n",
              "2418  A cuatro profesores de literatura, Pelletier, Morini, Espinoza y Norton, los une su fascinación por la obra de Beno von Archimboldi, un enigmático escritor alemán cuyo prestigio crece en todo el mundo. La complicidad se vuelve vodevil intelectual y desemboca en un peregrinaje a Santa Teresa (trasunto de Ciudad Juárez), donde hay quien dice que Archimboldi ha sido visto. Ya allí, Pelletier y Espinoza se enteran de que la ciudad es desde años atrás escenario de una larga cadena de crímenes: en los vertederos aparecen cadáveres de mujeres con señales de haber sido violadas y torturadas. Es el primer asomo de la novela a sus procelosos caudales, repletos de personajes memorables cuyas historias, a caballo entre la risa y el horror, abarcan dos continentes e incluyen un vertiginoso travelling por la historia europea del siglo XX. 2666 confirma el veredicto de Susan Sontag: \"el más influyente y admirado novelista en lengua española de su generación. Su muerte, a los cincuenta años, es una gran pérdida para la literatura\".                                                                                                                                                                                                                                                                                                                                                                                                                                                                                                                                                                                                                                 \n",
              "2629  أنا مُكتئب , مُكتئب جداً ! .. وعادة لا تُصيبني الكآبة أثناء كتابتي لأيِ عمل ,أنا رجُل لطالما أحب مرحلة الكتابة .. رجلُ يستمتع بكُلِ ما يُصاحب تلك الفترةِ المُرهقة من أرقِ وألمِ وتضارب في المشاعر , لكنني وما أن يرى كتابي النور حتى أُصاب باكتئابِ مابعد \" الكتابة \" , فأكره كتابي \" الوليد \" لدرجةِ أشعر معها بالرغبةِ في أن أوئده وأتلفَ كُل نسخه , لكن حالة الكآبة بدأت مُبكرة هذه المرة , .. استبقتْ كآبتي نوفمبر واستبقت أيضاً روايتي الجديدة .. ولا أدري أن كُنت قادراً على أن أصمدَ حتى يناير القادم أو حتى إصدار الرواية !                                                                                                                                                                                                                                                                                                                                                                                                                                                                                                                                                                                                                                                                                                                                                                                                                                                                                                                                                                                                                                                                                                                                                                    \n",
              "2676  ¿Cuál es el verdadero rostro del amor?Ricardo ve cumplido, a una edad muy temprana, el sueño que en su Lima natal alimentó desde que tenía uso de razón: vivir en París. Pero el rencuentro con un amor de adolescencia lo cambiará todo. La joven, inconformista, aventurera, pragmática e inquieta, lo arrastrará fuera del pequeño mundo de sus ambiciones.Testigos de épocas convulsas y florecientes en ciudades como Londres, París, Tokio o Madrid, que aquí son mucho más que escenarios, ambos personajes verán sus vidas entrelazarse sin llegar a coincidir del todo. Sin embargo, esta danza de encuentros y desencuentros hará crecer la intensidad del relato página a página hasta propiciar una verdadera fusión del lector con el universo emocional de los protagonistas.Creando una admirable tensión entre lo cómico y lo trágico, Mario Vargas Llosa juega en Travesuras de la niña mala (2006) con la realidad y la ficción para liberar una historia en la que el amor se nos muestra indefinible, dueño de mil caras, como la niña mala. Pasión y distancia, azar y destino, dolor y disfrute... ¿Cuál es el verdadero rostro del amor?                                                                                                                                                                                                                                                                                                                                                                                                                                                                                                                                         \n",
              "2718  Cuando tenía doce años, Cosimo Piovasco, barón de Rondo, en un gesto de rebelión contra la tiranía familiar, se encaramó a una encina del parque de la casa paterna. Ese mismo día, el 15 de junio de 1767, encontró a la hija de los marqueses de Ondarivia y le anunció su propósito de no bajar nunca de los árboles. Desde entonces y hasta el final de su vida, Cosimo permanece fiel a una disciplina que él mismo se ha impuesto. La acción fantástica transcurre en las postrimerias del siglo XVIII y en los albores del XIX. Cosimo participa tanto en la revolucion francesa como en las invasiones napoleónicas, pero sin abandonar nunca esa distancia necesaria que le permite estar dentro y fuera de las cosas al mismo tiempo. En esta espléndida obra, Calvino se enfrenta con el que, según él mismo declaró, es su verdadero tema narrativo: 'Una persona se fija voluntariamente una difícil regla y la sigue hasta sus últimas consecuencias, ya que sin ella no sería él mismo ni para sí ni para los otros'.                                                                                                                                                                                                                                                                                                                                                                                                                                                                                                                                                                                                                                                                    \n",
              "3092  ¿Hay otras dimensiones más allá de las de nuestra experiencia cotidiana? ¿Hay puertas de acceso a universos paralelos? Muchos físicos creen que existen otras dimensiones más allá de las cuatro de nuestro espacio-tiempo, y que puede alcanzarse una visión unificada de las diversas fuerzas de la naturaleza, si consideramos que todo lo que vemos a nuestro alrededor son vibraciones en el hiperespacio. La teoría del hiperespacio -y su derivación más reciente, la teoría de supercuerdas- es el ojo de esta revolución. Michio Kaku nos muestra un panorama fascinante, que cambia por completo nuestra visión del cosmos, y nos lleva a un deslumbrante viaje por nuevas dimensiones: agujeros de gusano que conectan universos paralelos, máquinas del tiempo y «universos bebé» van surgiendo en unas páginas en las que todo se explica con una elegante sencillez y donde la formulación matemática es reemplazada por imaginativas ilustraciones que permiten visualizar los problemas.Un libro ameno y sorprendente, que incluso deja atrás las mayores fantasías de los viejos autores de ciencia ficción.                                                                                                                                                                                                                                                                                                                                                                                                                                                                                                                                                                           \n",
              "3307  Thomas Lang es un ex policía y ahora pistolero a sueldo. Un día recibe la visita de un tal McClusky, quien le ofrece cien mil dólares por asesinar a Alexander Woolf, un empresario americano con negocios en Inglaterra y Escocia. Indignado, Lang rechaza el encargo y decide, en cambio, advertir a la víctima del peligro que corre: una buena acción que no quedará impune.                                                                                                                                                                                                                                                                                                                                                                                                                                                                                                                                                                                                                                                                                                                                                                                                                                                                                                                                                                                                                                                                                                                                                                                                                                                                                                                        \n",
              "3550  Neste novo romance, o vencedor do prêmio Nobel José Saramago reconta episódios bíblicos do Velho Testamento sob o ponto de vista de Caim, que, depois de assassinar seu irmão, trava um incomum acordo com deus e parte numa jornada que o levará do jardim do Éden aos mais recônditos confins da criação.Se, em O Evangelho segundo Jesus Cristo, José Saramago nos deu sua visão do Novo Testamento, neste Caim ele se volta aos primeiros livros da Bíblia, do Éden ao dilúvio, imprimindo ao Antigo Testamento a música e o humor refinado que marcam sua obra. Num itinerário heterodoxo, Saramago percorre cidades decadentes e estábulos, palácios de tiranos e campos de batalha, conforme o leitor acompanha uma guerra secular, e de certo modo involuntária, entre criador e criatura. No trajeto, o leitor revisitará episódios bíblicos conhecidos, mas sob uma perspectiva inteiramente diferente.Para atravessar esse caminho árido, um deus às turras com a própria administração colocará Caim, assassino do irmão Abel e primogênito de Adão e Eva, num altivo jegue, e caberá à dupla encontrar o rumo entre as armadilhas do tempo que insistem em atraí-los. A Caim, que leva a marca do senhor na testa e portanto está protegido das iniquidades do homem, resta aceitar o destino amargo e compactuar com o criador, a quem não reserva o melhor dos julgamentos. Tal como o diabo de O Evangelho, o deus que o leitor encontra aqui não é o habitual dos sermões: ao reinventar o Antigo Testamento, Saramago recria também seus principais protagonistas, dando a eles uma roupagem ao mesmo tempo complexa e irônica, cujo tom de farsa da narrativa só faz por acentuar.   \n",
              "3658  De las varias y buenas novelas de Mario Benedetti, LA TREGUA es la que ha alcanzado mayor favor del público. La cotidianidad gris y rutinaria marcada por la frustración y la ausencia de perspectivas de la clase media urbana impregna las páginas de esta novela, que, adoptando la forma de un diario personal, relata un breve periodo de la vida de un empleado viudo, próximo a la jubilación, cuya existencia se divide entre la oficina, la casa, el café y una precaria vida familiar dominada por una difícil relación con unos hijos ya adultos. Una inesperada relación amorosa, que parece ofrecer al protagonista un horizonte de liberación y felicidad personal, se abrirá como una tregua en su lucha cotidiana contra el tedio, la soledad y el paso del tiempo.                                                                                                                                                                                                                                                                                                                                                                                                                                                                                                                                                                                                                                                                                                                                                                                                                                                                                                                     \n",
              "3664  عزيزي يحيى: اليوم هو العشرين من أكتوبر 2020، وحين تصلك رسالتي هذه، بعد يومين بالضبط من الآن، سأكون سجيناً أو جثة. إما سيقولون لك أن أباك مات بطلاً، أو ستقراً في الجرائد نبأ خيانتي الكبرى والقبض علي. أنا، الذي شاهدت بأم عيني صنوف الخيانة كلها، سيرمونني بدائهم وينسلوا، كما فعلوا من قبل، عشرات المرات. لم أحاول منعهم من قبل، لكني لن أدعهم يفلتون بفعلتهم هذه المرة. لا، ليس هذه المرة. هذه غضبتي، غضبة عمر بأكمله. غضبة ربما تكون الأخيرة، لكني لن أضيعها سدى. أخذت احتياطاتي، وعزمت ألا ألعب دور الضحية. وهذه الرسالة، قد تكون طوق نجاتي الأخير إن فشلت كل الاحتياطات الأخرى. فاحرص عليها، فقد تكون هي الفارق بين الخيانة والبطولة.لا أحد يعلم بمحتوى شحنتنا هذه غير ستة أشخاص؛ رجل صيني واثنان من كوريا الشمالية، والرئيس القطان واللواء المنيسي وأنا. أو هكذا يفترض. لكن الحقيقة أن هذه السفينة الهادئة قليلة العمال والركاب ستجتاحها فرقة كاملة من البحرية الأمريكية في الرابعة صباح الغد: أي بعد أربع وعشرين ساعة بالضبط. الحقيقة أيضاً أني، أنا المترجم الصامت الذي لم يأخذ في عمره موقفاً حاداً، هو من أبلغهم.أنا الخائن.                                                                                                                                                                                                                                                                                                                                                                                                                                                                                                                                                                                                                                                                 \n",
              "4127  Maktub não é um livro de conselhos, mas uma troca de experiências. A maior parte dos textos se refere a ensinamentos que Paulo Coelho recebeu de seu mestre ao longo de 11 anos. Outros são relatos de amigos ou pessoas desconhecidas que de uma forma ou de outra lhe deixaram uma mensagem inesquecível. Finalmente, existem trechos de livros que ele leu e de histórias que pertencem à herança espiritual da raça humana. A proposta do autor é reunir um apanhado da sabedoria universal destacando um ponto comum a todas as histórias: a busca da felicidade. Embora o desejo de ser feliz seja relatado em contextos tão diversos, fica fácil concluir que, não importa o lugar ou a época, ele sempre se baseia nos mesmos pilares: amor, humildade, solidariedade e renúncia. Maktub oferece aos leitores uma oportunidade de refletir e se reencontrar. Se você está percorrendo o caminho de seus sonhos, comprometa-se com ele. Não deixe a porta de saída aberta através da desculpa: “Ainda não é bem isto que eu queria.” Assuma o seu caminho. Mesmo que precise dar passos incertos, mesmo que saiba que pode fazer melhor o que está fazendo. Se você aceitar suas possibilidades no presente, com toda certeza vai se sair melhor no futuro.                                                                                                                                                                                                                                                                                                                                                                                                                                      \n",
              "\n",
              "                                                                authors  \n",
              "293   Robert Louis Stevenson, Vladimir Nabokov, Mervyn Peake, Dan Chaon  \n",
              "683   J.R.R. Tolkien                                                     \n",
              "1417  سعود السنعوسي, Saud Alsanousi                                      \n",
              "1643  Alyson Richman                                                     \n",
              "2363  Alaa Al Aswany, علاء الأسواني                                      \n",
              "2418  Roberto Bolaño                                                     \n",
              "2629  أثير عبدالله النشمي                                                \n",
              "2676  Mario Vargas Llosa                                                 \n",
              "2718  Italo Calvino, Archibald Colquhoun                                 \n",
              "3092  Michio Kaku                                                        \n",
              "3307  Hugh Laurie                                                        \n",
              "3550  José Saramago                                                      \n",
              "3658  Mario Benedetti                                                    \n",
              "3664  عزالدين شكري فشير                                                  \n",
              "4127  Paulo Coelho                                                       "
            ],
            "text/html": [
              "\n",
              "  <div id=\"df-c6e6f454-f22e-420c-9428-9ad7bbb1deb1\">\n",
              "    <div class=\"colab-df-container\">\n",
              "      <div>\n",
              "<style scoped>\n",
              "    .dataframe tbody tr th:only-of-type {\n",
              "        vertical-align: middle;\n",
              "    }\n",
              "\n",
              "    .dataframe tbody tr th {\n",
              "        vertical-align: top;\n",
              "    }\n",
              "\n",
              "    .dataframe thead th {\n",
              "        text-align: right;\n",
              "    }\n",
              "</style>\n",
              "<table border=\"1\" class=\"dataframe\">\n",
              "  <thead>\n",
              "    <tr style=\"text-align: right;\">\n",
              "      <th></th>\n",
              "      <th>book_id</th>\n",
              "      <th>original_title</th>\n",
              "      <th>book_desc</th>\n",
              "      <th>authors</th>\n",
              "    </tr>\n",
              "  </thead>\n",
              "  <tbody>\n",
              "    <tr>\n",
              "      <th>293</th>\n",
              "      <td>390</td>\n",
              "      <td>The Strange Case of Dr Jekyll and Mr Hyde</td>\n",
              "      <td>Un abogado, Gabriel John Utterson, investiga la extraña relación entre su viejo amigo, el doctor. Henry Jekyll, y el misántropo Edward Hyde. En realidad, Jekyll es un científico que crea una poción o bebida que tiene la capacidad de separar la parte más humana del lado más maléfico de una persona. Cuando Jekyll bebe esta mezcla se convierte en Edward Hyde, un criminal capaz de cualquier atrocidad. Desesperado por la necesidad cada vez más frecuente e incontrolable de convertirse en ese ser malvado, el doctor Jekyll decide suicidarse.</td>\n",
              "      <td>Robert Louis Stevenson, Vladimir Nabokov, Mervyn Peake, Dan Chaon</td>\n",
              "    </tr>\n",
              "    <tr>\n",
              "      <th>683</th>\n",
              "      <td>964</td>\n",
              "      <td>The Hobbit and The Lord of the Rings</td>\n",
              "      <td>لجزء الثالث من ملحمة جيه أر أر تولكين الرائعة سيد الخواتم دخل أفراد رفقة الخاتم فى مغامرات منفصلة أثناء إنجاز المهمة وسيرها فى طريق التنفيذ - اما أراجون الذى كشف أنه الوريث الخلفى لملوك الغرب القدامى فقد أنضم إلى خيالة روهان ضد قوى أيزنجارد وأشترك فى نصر هورنبرج الذى تحقق بصعوبة وبأس - أما ميرى وبيبين كانا قد تعرضا للإختطاف من جانب الأوركيين فقد هربا إلى غابة فانجون وهناك قابلا الأنتيين وعاد جاندالف فيما يشبة المعجزة وهزم الساحر الشرير سارومان وفى نفس الوقت فإن سام وفرودو راحا يتقدمان بإتجاه موردو لتدمير الخاتم وبرفقتهما سميجول - جولام وهو لا يزال مهووسا ب شيئة الثمين وبعد معركة مع أنثى العنكبوت العملاق شيلوب ترك سام سيده طنا منه أنه مات ولكن فرودو كان لا يزال على قيد الحياة فى أيدى الأوركيين وكانت جيوش سيد الظلام تتجمع بإستمرار</td>\n",
              "      <td>J.R.R. Tolkien</td>\n",
              "    </tr>\n",
              "    <tr>\n",
              "      <th>1417</th>\n",
              "      <td>2292</td>\n",
              "      <td>ساق البامبو [Saq al-Bambu]</td>\n",
              "      <td>لماذا كان جلوسي تحت الشجرة يزعج أمي؟ أتراها كانت تخشى أن تنبت لي جذور تضرب في عمق الأرض ما يجعل عودتي إلى بلاد أبي أمراً مستحيلاً؟..ربما، ولكن، حتى الجذور لا تعني شيئاً أحياناً. لو كنت مثل نبتة البامبو.. لا انتماء لها.. نقتطع جزءاً من ساقها.. نغرسه، بلا جذور، في أي أرض.. لا يلبث الساق طويلاً حتى تنبت له جذور جديدة.. تنمو من جديد.. في أرض جديدة.. بلا ماض.. بلا ذاكرة.. لا يلتفت إلى اختلاف الناس حول تسميته.. كاوايان في الفلبين.. خيزران في الكويت.. أو بامبو في أماكن أخرى.</td>\n",
              "      <td>سعود السنعوسي, Saud Alsanousi</td>\n",
              "    </tr>\n",
              "    <tr>\n",
              "      <th>1643</th>\n",
              "      <td>2796</td>\n",
              "      <td>The Lost Wife</td>\n",
              "      <td>Praga, 1938. Lenka, una joven estudiante de arte, se enamora perdidamente de Josef. Se casan, pero a pesar de esperar un prometedor futuro juntos, sus sueños se hacen añicos ante la inminente invasión nazi y deciden huir a Estados Unidos. Sin embargo, en el último momento, Lenka decide quedarse, y los amantes se separan con la promesa de reunirse tan pronto como puedan.En Estados Unidos, Josef rehace su vida, aunque nunca olvidará a su primer amor, al que cree haber perdido para siempre. Mientras, en medio del horror de Tezerín y de Auschwitz, Lenka sobrevivirá gracias a la memoria de un marido al que cree que no volverá a ver y a su talento artístico, la única vía que da color al horror y forma a lo que no se puede describir con palabras.Separados por la guerra, pero unidos por el recuerdo, ahora, décadas más tarde, un inesperado encuentro en Nueva York les ofrece una segunda oportunidad...\".</td>\n",
              "      <td>Alyson Richman</td>\n",
              "    </tr>\n",
              "    <tr>\n",
              "      <th>2363</th>\n",
              "      <td>4376</td>\n",
              "      <td>شيكاجو</td>\n",
              "      <td>يقول الأستاذ جلال أمين عن هذه الرواية المتميزة: ها هى رواية علاء الأسوانى الجديدة «شيكاجو» تستحق بدورها نجاحًا مماثلاً وبنفس القدر من الجدارة كالذى استحقته عمارة يعقوبيان. فرحت عند انتهائى من قراءتها لأكثر من سبب، فقد أكدت لى هذه القراءة أن لدينا بالفعل أديبًا كبيرًا وموهوبًا، وظهر أن عمارة يعقوبيان ليست ظاهرة منفردة لا تتكرر، بل إن من الممكن أن تتكرر المرة بعد المرة. فى الرواية الجديدة (شيكاجو) كل مزايا الرواية السابقة: التشويق الذى يبدأ من أول صفحة ويستمر إلى آخر صفحة، أسلوب الكتابة السلس والسريع الذى يصيب الهدف باستمرار بلا تثاقل أو تسكع، الرسم الواضح والمتسق للشخصيات، اللغة العربية الراقية دون تكلف أو تعمد الإغراب، وقبل كل شيء وفوق كل شيء، نُبل المعني، إذ لا جدوى فى رأيى من رواية مهما كانت درجة تشويقها وإتقانها إذا لم تكن نبيلة المقصد، وإذا كان المقصد تافهًا أو حقيرًا قضى على ما قد يكون للمهارة والشطارة من أثر فى نفس القارئhttp://www.titaniumstores.com/dp/9770...</td>\n",
              "      <td>Alaa Al Aswany, علاء الأسواني</td>\n",
              "    </tr>\n",
              "    <tr>\n",
              "      <th>2418</th>\n",
              "      <td>4509</td>\n",
              "      <td>2666</td>\n",
              "      <td>A cuatro profesores de literatura, Pelletier, Morini, Espinoza y Norton, los une su fascinación por la obra de Beno von Archimboldi, un enigmático escritor alemán cuyo prestigio crece en todo el mundo. La complicidad se vuelve vodevil intelectual y desemboca en un peregrinaje a Santa Teresa (trasunto de Ciudad Juárez), donde hay quien dice que Archimboldi ha sido visto. Ya allí, Pelletier y Espinoza se enteran de que la ciudad es desde años atrás escenario de una larga cadena de crímenes: en los vertederos aparecen cadáveres de mujeres con señales de haber sido violadas y torturadas. Es el primer asomo de la novela a sus procelosos caudales, repletos de personajes memorables cuyas historias, a caballo entre la risa y el horror, abarcan dos continentes e incluyen un vertiginoso travelling por la historia europea del siglo XX. 2666 confirma el veredicto de Susan Sontag: \"el más influyente y admirado novelista en lengua española de su generación. Su muerte, a los cincuenta años, es una gran pérdida para la literatura\".</td>\n",
              "      <td>Roberto Bolaño</td>\n",
              "    </tr>\n",
              "    <tr>\n",
              "      <th>2629</th>\n",
              "      <td>5002</td>\n",
              "      <td>في ديسمبر تنتهي كل الأحلام</td>\n",
              "      <td>أنا مُكتئب , مُكتئب جداً ! .. وعادة لا تُصيبني الكآبة أثناء كتابتي لأيِ عمل ,أنا رجُل لطالما أحب مرحلة الكتابة .. رجلُ يستمتع بكُلِ ما يُصاحب تلك الفترةِ المُرهقة من أرقِ وألمِ وتضارب في المشاعر , لكنني وما أن يرى كتابي النور حتى أُصاب باكتئابِ مابعد \" الكتابة \" , فأكره كتابي \" الوليد \" لدرجةِ أشعر معها بالرغبةِ في أن أوئده وأتلفَ كُل نسخه , لكن حالة الكآبة بدأت مُبكرة هذه المرة , .. استبقتْ كآبتي نوفمبر واستبقت أيضاً روايتي الجديدة .. ولا أدري أن كُنت قادراً على أن أصمدَ حتى يناير القادم أو حتى إصدار الرواية !</td>\n",
              "      <td>أثير عبدالله النشمي</td>\n",
              "    </tr>\n",
              "    <tr>\n",
              "      <th>2676</th>\n",
              "      <td>5126</td>\n",
              "      <td>Travesuras de la niña mala</td>\n",
              "      <td>¿Cuál es el verdadero rostro del amor?Ricardo ve cumplido, a una edad muy temprana, el sueño que en su Lima natal alimentó desde que tenía uso de razón: vivir en París. Pero el rencuentro con un amor de adolescencia lo cambiará todo. La joven, inconformista, aventurera, pragmática e inquieta, lo arrastrará fuera del pequeño mundo de sus ambiciones.Testigos de épocas convulsas y florecientes en ciudades como Londres, París, Tokio o Madrid, que aquí son mucho más que escenarios, ambos personajes verán sus vidas entrelazarse sin llegar a coincidir del todo. Sin embargo, esta danza de encuentros y desencuentros hará crecer la intensidad del relato página a página hasta propiciar una verdadera fusión del lector con el universo emocional de los protagonistas.Creando una admirable tensión entre lo cómico y lo trágico, Mario Vargas Llosa juega en Travesuras de la niña mala (2006) con la realidad y la ficción para liberar una historia en la que el amor se nos muestra indefinible, dueño de mil caras, como la niña mala. Pasión y distancia, azar y destino, dolor y disfrute... ¿Cuál es el verdadero rostro del amor?</td>\n",
              "      <td>Mario Vargas Llosa</td>\n",
              "    </tr>\n",
              "    <tr>\n",
              "      <th>2718</th>\n",
              "      <td>5244</td>\n",
              "      <td>Il barone rampante</td>\n",
              "      <td>Cuando tenía doce años, Cosimo Piovasco, barón de Rondo, en un gesto de rebelión contra la tiranía familiar, se encaramó a una encina del parque de la casa paterna. Ese mismo día, el 15 de junio de 1767, encontró a la hija de los marqueses de Ondarivia y le anunció su propósito de no bajar nunca de los árboles. Desde entonces y hasta el final de su vida, Cosimo permanece fiel a una disciplina que él mismo se ha impuesto. La acción fantástica transcurre en las postrimerias del siglo XVIII y en los albores del XIX. Cosimo participa tanto en la revolucion francesa como en las invasiones napoleónicas, pero sin abandonar nunca esa distancia necesaria que le permite estar dentro y fuera de las cosas al mismo tiempo. En esta espléndida obra, Calvino se enfrenta con el que, según él mismo declaró, es su verdadero tema narrativo: 'Una persona se fija voluntariamente una difícil regla y la sigue hasta sus últimas consecuencias, ya que sin ella no sería él mismo ni para sí ni para los otros'.</td>\n",
              "      <td>Italo Calvino, Archibald Colquhoun</td>\n",
              "    </tr>\n",
              "    <tr>\n",
              "      <th>3092</th>\n",
              "      <td>6219</td>\n",
              "      <td>Hyperspace: A Scientific Odyssey Through Parallel Universes, Time Warps, and the Tenth Dimension</td>\n",
              "      <td>¿Hay otras dimensiones más allá de las de nuestra experiencia cotidiana? ¿Hay puertas de acceso a universos paralelos? Muchos físicos creen que existen otras dimensiones más allá de las cuatro de nuestro espacio-tiempo, y que puede alcanzarse una visión unificada de las diversas fuerzas de la naturaleza, si consideramos que todo lo que vemos a nuestro alrededor son vibraciones en el hiperespacio. La teoría del hiperespacio -y su derivación más reciente, la teoría de supercuerdas- es el ojo de esta revolución. Michio Kaku nos muestra un panorama fascinante, que cambia por completo nuestra visión del cosmos, y nos lleva a un deslumbrante viaje por nuevas dimensiones: agujeros de gusano que conectan universos paralelos, máquinas del tiempo y «universos bebé» van surgiendo en unas páginas en las que todo se explica con una elegante sencillez y donde la formulación matemática es reemplazada por imaginativas ilustraciones que permiten visualizar los problemas.Un libro ameno y sorprendente, que incluso deja atrás las mayores fantasías de los viejos autores de ciencia ficción.</td>\n",
              "      <td>Michio Kaku</td>\n",
              "    </tr>\n",
              "    <tr>\n",
              "      <th>3307</th>\n",
              "      <td>6865</td>\n",
              "      <td>The Gun Seller</td>\n",
              "      <td>Thomas Lang es un ex policía y ahora pistolero a sueldo. Un día recibe la visita de un tal McClusky, quien le ofrece cien mil dólares por asesinar a Alexander Woolf, un empresario americano con negocios en Inglaterra y Escocia. Indignado, Lang rechaza el encargo y decide, en cambio, advertir a la víctima del peligro que corre: una buena acción que no quedará impune.</td>\n",
              "      <td>Hugh Laurie</td>\n",
              "    </tr>\n",
              "    <tr>\n",
              "      <th>3550</th>\n",
              "      <td>7602</td>\n",
              "      <td>Caim</td>\n",
              "      <td>Neste novo romance, o vencedor do prêmio Nobel José Saramago reconta episódios bíblicos do Velho Testamento sob o ponto de vista de Caim, que, depois de assassinar seu irmão, trava um incomum acordo com deus e parte numa jornada que o levará do jardim do Éden aos mais recônditos confins da criação.Se, em O Evangelho segundo Jesus Cristo, José Saramago nos deu sua visão do Novo Testamento, neste Caim ele se volta aos primeiros livros da Bíblia, do Éden ao dilúvio, imprimindo ao Antigo Testamento a música e o humor refinado que marcam sua obra. Num itinerário heterodoxo, Saramago percorre cidades decadentes e estábulos, palácios de tiranos e campos de batalha, conforme o leitor acompanha uma guerra secular, e de certo modo involuntária, entre criador e criatura. No trajeto, o leitor revisitará episódios bíblicos conhecidos, mas sob uma perspectiva inteiramente diferente.Para atravessar esse caminho árido, um deus às turras com a própria administração colocará Caim, assassino do irmão Abel e primogênito de Adão e Eva, num altivo jegue, e caberá à dupla encontrar o rumo entre as armadilhas do tempo que insistem em atraí-los. A Caim, que leva a marca do senhor na testa e portanto está protegido das iniquidades do homem, resta aceitar o destino amargo e compactuar com o criador, a quem não reserva o melhor dos julgamentos. Tal como o diabo de O Evangelho, o deus que o leitor encontra aqui não é o habitual dos sermões: ao reinventar o Antigo Testamento, Saramago recria também seus principais protagonistas, dando a eles uma roupagem ao mesmo tempo complexa e irônica, cujo tom de farsa da narrativa só faz por acentuar.</td>\n",
              "      <td>José Saramago</td>\n",
              "    </tr>\n",
              "    <tr>\n",
              "      <th>3658</th>\n",
              "      <td>7913</td>\n",
              "      <td>La tregua</td>\n",
              "      <td>De las varias y buenas novelas de Mario Benedetti, LA TREGUA es la que ha alcanzado mayor favor del público. La cotidianidad gris y rutinaria marcada por la frustración y la ausencia de perspectivas de la clase media urbana impregna las páginas de esta novela, que, adoptando la forma de un diario personal, relata un breve periodo de la vida de un empleado viudo, próximo a la jubilación, cuya existencia se divide entre la oficina, la casa, el café y una precaria vida familiar dominada por una difícil relación con unos hijos ya adultos. Una inesperada relación amorosa, que parece ofrecer al protagonista un horizonte de liberación y felicidad personal, se abrirá como una tregua en su lucha cotidiana contra el tedio, la soledad y el paso del tiempo.</td>\n",
              "      <td>Mario Benedetti</td>\n",
              "    </tr>\n",
              "    <tr>\n",
              "      <th>3664</th>\n",
              "      <td>7937</td>\n",
              "      <td>باب الخروج: رسالة علي المفعمة ببهجة غير متوقعة</td>\n",
              "      <td>عزيزي يحيى: اليوم هو العشرين من أكتوبر 2020، وحين تصلك رسالتي هذه، بعد يومين بالضبط من الآن، سأكون سجيناً أو جثة. إما سيقولون لك أن أباك مات بطلاً، أو ستقراً في الجرائد نبأ خيانتي الكبرى والقبض علي. أنا، الذي شاهدت بأم عيني صنوف الخيانة كلها، سيرمونني بدائهم وينسلوا، كما فعلوا من قبل، عشرات المرات. لم أحاول منعهم من قبل، لكني لن أدعهم يفلتون بفعلتهم هذه المرة. لا، ليس هذه المرة. هذه غضبتي، غضبة عمر بأكمله. غضبة ربما تكون الأخيرة، لكني لن أضيعها سدى. أخذت احتياطاتي، وعزمت ألا ألعب دور الضحية. وهذه الرسالة، قد تكون طوق نجاتي الأخير إن فشلت كل الاحتياطات الأخرى. فاحرص عليها، فقد تكون هي الفارق بين الخيانة والبطولة.لا أحد يعلم بمحتوى شحنتنا هذه غير ستة أشخاص؛ رجل صيني واثنان من كوريا الشمالية، والرئيس القطان واللواء المنيسي وأنا. أو هكذا يفترض. لكن الحقيقة أن هذه السفينة الهادئة قليلة العمال والركاب ستجتاحها فرقة كاملة من البحرية الأمريكية في الرابعة صباح الغد: أي بعد أربع وعشرين ساعة بالضبط. الحقيقة أيضاً أني، أنا المترجم الصامت الذي لم يأخذ في عمره موقفاً حاداً، هو من أبلغهم.أنا الخائن.</td>\n",
              "      <td>عزالدين شكري فشير</td>\n",
              "    </tr>\n",
              "    <tr>\n",
              "      <th>4127</th>\n",
              "      <td>9473</td>\n",
              "      <td>Maktub</td>\n",
              "      <td>Maktub não é um livro de conselhos, mas uma troca de experiências. A maior parte dos textos se refere a ensinamentos que Paulo Coelho recebeu de seu mestre ao longo de 11 anos. Outros são relatos de amigos ou pessoas desconhecidas que de uma forma ou de outra lhe deixaram uma mensagem inesquecível. Finalmente, existem trechos de livros que ele leu e de histórias que pertencem à herança espiritual da raça humana. A proposta do autor é reunir um apanhado da sabedoria universal destacando um ponto comum a todas as histórias: a busca da felicidade. Embora o desejo de ser feliz seja relatado em contextos tão diversos, fica fácil concluir que, não importa o lugar ou a época, ele sempre se baseia nos mesmos pilares: amor, humildade, solidariedade e renúncia. Maktub oferece aos leitores uma oportunidade de refletir e se reencontrar. Se você está percorrendo o caminho de seus sonhos, comprometa-se com ele. Não deixe a porta de saída aberta através da desculpa: “Ainda não é bem isto que eu queria.” Assuma o seu caminho. Mesmo que precise dar passos incertos, mesmo que saiba que pode fazer melhor o que está fazendo. Se você aceitar suas possibilidades no presente, com toda certeza vai se sair melhor no futuro.</td>\n",
              "      <td>Paulo Coelho</td>\n",
              "    </tr>\n",
              "  </tbody>\n",
              "</table>\n",
              "</div>\n",
              "      <button class=\"colab-df-convert\" onclick=\"convertToInteractive('df-c6e6f454-f22e-420c-9428-9ad7bbb1deb1')\"\n",
              "              title=\"Convert this dataframe to an interactive table.\"\n",
              "              style=\"display:none;\">\n",
              "        \n",
              "  <svg xmlns=\"http://www.w3.org/2000/svg\" height=\"24px\"viewBox=\"0 0 24 24\"\n",
              "       width=\"24px\">\n",
              "    <path d=\"M0 0h24v24H0V0z\" fill=\"none\"/>\n",
              "    <path d=\"M18.56 5.44l.94 2.06.94-2.06 2.06-.94-2.06-.94-.94-2.06-.94 2.06-2.06.94zm-11 1L8.5 8.5l.94-2.06 2.06-.94-2.06-.94L8.5 2.5l-.94 2.06-2.06.94zm10 10l.94 2.06.94-2.06 2.06-.94-2.06-.94-.94-2.06-.94 2.06-2.06.94z\"/><path d=\"M17.41 7.96l-1.37-1.37c-.4-.4-.92-.59-1.43-.59-.52 0-1.04.2-1.43.59L10.3 9.45l-7.72 7.72c-.78.78-.78 2.05 0 2.83L4 21.41c.39.39.9.59 1.41.59.51 0 1.02-.2 1.41-.59l7.78-7.78 2.81-2.81c.8-.78.8-2.07 0-2.86zM5.41 20L4 18.59l7.72-7.72 1.47 1.35L5.41 20z\"/>\n",
              "  </svg>\n",
              "      </button>\n",
              "      \n",
              "  <style>\n",
              "    .colab-df-container {\n",
              "      display:flex;\n",
              "      flex-wrap:wrap;\n",
              "      gap: 12px;\n",
              "    }\n",
              "\n",
              "    .colab-df-convert {\n",
              "      background-color: #E8F0FE;\n",
              "      border: none;\n",
              "      border-radius: 50%;\n",
              "      cursor: pointer;\n",
              "      display: none;\n",
              "      fill: #1967D2;\n",
              "      height: 32px;\n",
              "      padding: 0 0 0 0;\n",
              "      width: 32px;\n",
              "    }\n",
              "\n",
              "    .colab-df-convert:hover {\n",
              "      background-color: #E2EBFA;\n",
              "      box-shadow: 0px 1px 2px rgba(60, 64, 67, 0.3), 0px 1px 3px 1px rgba(60, 64, 67, 0.15);\n",
              "      fill: #174EA6;\n",
              "    }\n",
              "\n",
              "    [theme=dark] .colab-df-convert {\n",
              "      background-color: #3B4455;\n",
              "      fill: #D2E3FC;\n",
              "    }\n",
              "\n",
              "    [theme=dark] .colab-df-convert:hover {\n",
              "      background-color: #434B5C;\n",
              "      box-shadow: 0px 1px 3px 1px rgba(0, 0, 0, 0.15);\n",
              "      filter: drop-shadow(0px 1px 2px rgba(0, 0, 0, 0.3));\n",
              "      fill: #FFFFFF;\n",
              "    }\n",
              "  </style>\n",
              "\n",
              "      <script>\n",
              "        const buttonEl =\n",
              "          document.querySelector('#df-c6e6f454-f22e-420c-9428-9ad7bbb1deb1 button.colab-df-convert');\n",
              "        buttonEl.style.display =\n",
              "          google.colab.kernel.accessAllowed ? 'block' : 'none';\n",
              "\n",
              "        async function convertToInteractive(key) {\n",
              "          const element = document.querySelector('#df-c6e6f454-f22e-420c-9428-9ad7bbb1deb1');\n",
              "          const dataTable =\n",
              "            await google.colab.kernel.invokeFunction('convertToInteractive',\n",
              "                                                     [key], {});\n",
              "          if (!dataTable) return;\n",
              "\n",
              "          const docLinkHtml = 'Like what you see? Visit the ' +\n",
              "            '<a target=\"_blank\" href=https://colab.research.google.com/notebooks/data_table.ipynb>data table notebook</a>'\n",
              "            + ' to learn more about interactive tables.';\n",
              "          element.innerHTML = '';\n",
              "          dataTable['output_type'] = 'display_data';\n",
              "          await google.colab.output.renderOutput(dataTable, element);\n",
              "          const docLink = document.createElement('div');\n",
              "          docLink.innerHTML = docLinkHtml;\n",
              "          element.appendChild(docLink);\n",
              "        }\n",
              "      </script>\n",
              "    </div>\n",
              "  </div>\n",
              "  "
            ]
          },
          "metadata": {},
          "execution_count": 27
        }
      ],
      "source": [
        "df_books[df_books['book_id'].isin(rec)][['book_id', 'original_title', 'book_desc', 'authors']]"
      ]
    },
    {
      "cell_type": "markdown",
      "metadata": {
        "id": "N4o9xRnBLy10"
      },
      "source": [
        "# evaluación de las recomendaciones con interacciones de testing "
      ]
    },
    {
      "cell_type": "code",
      "execution_count": 28,
      "metadata": {
        "ExecuteTime": {
          "end_time": "2020-09-05T11:38:43.009079Z",
          "start_time": "2020-09-05T11:38:43.002843Z"
        },
        "id": "Qvz2y2E4Ly10"
      },
      "outputs": [],
      "source": [
        "# Métricas de evaluación \n",
        "# Obtenido de https://gist.github.com/bwhite/3726239\n",
        "\n",
        "def precision_at_k(r, k):\n",
        "    assert k >= 1\n",
        "    r = np.asarray(r)[:k] != 0\n",
        "    if r.size != k:\n",
        "        raise ValueError('Relevance score length < k')\n",
        "    return np.mean(r)\n",
        "\n",
        "def average_precision(r):\n",
        "    r = np.asarray(r) != 0\n",
        "    out = [precision_at_k(r, k + 1) for k in range(r.size) if r[k]]\n",
        "    if not out:\n",
        "        return 0.\n",
        "    return np.mean(out)\n",
        "\n",
        "def mean_average_precision(rs):\n",
        "    return np.mean([average_precision(r) for r in rs])\n",
        "  \n",
        "def dcg_at_k(r, k):\n",
        "    r = np.asfarray(r)[:k]\n",
        "    if r.size:\n",
        "        return np.sum(np.subtract(np.power(2, r), 1) / np.log2(np.arange(2, r.size + 2)))\n",
        "    return 0.\n",
        "\n",
        "\n",
        "def ndcg_at_k(r, k):\n",
        "    idcg = dcg_at_k(sorted(r, reverse=True), k)\n",
        "\n",
        "    if not idcg:\n",
        "        return 0.\n",
        "    return dcg_at_k(r, k) / idcg\n"
      ]
    },
    {
      "cell_type": "markdown",
      "metadata": {
        "id": "oofEikZALy12"
      },
      "source": [
        "## Evaluación de recomendación con BERT"
      ]
    },
    {
      "cell_type": "code",
      "execution_count": 29,
      "metadata": {
        "ExecuteTime": {
          "end_time": "2020-09-05T11:54:57.762827Z",
          "start_time": "2020-09-05T11:47:32.339841Z"
        },
        "colab": {
          "base_uri": "https://localhost:8080/"
        },
        "id": "sSpU6zYVLy12",
        "outputId": "4da4c24d-a5c4-442e-b21b-6e647f6c2fb0"
      },
      "outputs": [
        {
          "output_type": "stream",
          "name": "stdout",
          "text": []
        }
      ],
      "source": [
        "start = time.time()\n",
        "\n",
        "mean_map = 0.\n",
        "mean_ndcg = 0.\n",
        "\n",
        "embeddings = pca20_bert_featmat\n",
        "topk = 10 \n",
        "\n",
        "for i, u in enumerate(user_interactions_test.keys()):\n",
        "    \n",
        "    print(i, end= '\\r')\n",
        "    \n",
        "    rec = recommend(bert_featmat, user_id = u, topk=topk)\n",
        "    rel_vector = [np.isin(user_interactions_test[u], rec, assume_unique=True).astype(int)]\n",
        "    mean_map += mean_average_precision(rel_vector)\n",
        "    mean_ndcg += ndcg_at_k(rel_vector, topk)\n",
        "\n",
        "mean_map /= len(user_interactions_test)\n",
        "mean_ndcg /= len(user_interactions_test)\n",
        "\n",
        "time_taken = time.time() - start\n"
      ]
    },
    {
      "cell_type": "code",
      "execution_count": 30,
      "metadata": {
        "ExecuteTime": {
          "end_time": "2020-09-05T11:54:57.775349Z",
          "start_time": "2020-09-05T11:54:57.768617Z"
        },
        "colab": {
          "base_uri": "https://localhost:8080/"
        },
        "id": "3Qkkdim6Ly14",
        "outputId": "9e0bfc32-a731-4fb0-a290-d7bd6de6799f"
      },
      "outputs": [
        {
          "output_type": "stream",
          "name": "stdout",
          "text": [
            "MAP  0.03669047619047619\n",
            "ndcg@10 0.13\n",
            "tiempo de ejecucion 258.76 segs\n"
          ]
        }
      ],
      "source": [
        "print('MAP ',mean_map)\n",
        "print('ndcg@10' ,mean_ndcg)\n",
        "print('tiempo de ejecucion {0:.2f} segs'.format(time_taken))\n"
      ]
    },
    {
      "cell_type": "markdown",
      "metadata": {
        "id": "F_FMcK2yLy16"
      },
      "source": [
        "## Evaluación de recomendación con BERT reducidos con PCA-20"
      ]
    },
    {
      "cell_type": "code",
      "execution_count": 31,
      "metadata": {
        "ExecuteTime": {
          "end_time": "2020-09-05T11:55:52.953263Z",
          "start_time": "2020-09-05T11:54:57.781015Z"
        },
        "colab": {
          "base_uri": "https://localhost:8080/"
        },
        "id": "4IBT6rDOLy16",
        "outputId": "46144e66-b409-43ec-9ce8-ddacf5f12eaf"
      },
      "outputs": [
        {
          "output_type": "stream",
          "name": "stdout",
          "text": []
        }
      ],
      "source": [
        "start = time.time()\n",
        "\n",
        "mean_map = 0.\n",
        "mean_ndcg = 0.\n",
        "\n",
        "embeddings = pca20_bert_featmat\n",
        "topk = 10 \n",
        "\n",
        "for i, u in enumerate(user_interactions_test.keys()):\n",
        "    \n",
        "    print(i, end= '\\r')\n",
        "    \n",
        "    rec = recommend(pca20_bert_featmat, user_id = u, topk=topk)\n",
        "    rel_vector = [np.isin(user_interactions_test[u], rec, assume_unique=True).astype(int)]\n",
        "    mean_map += mean_average_precision(rel_vector)\n",
        "    mean_ndcg += ndcg_at_k(rel_vector, topk)\n",
        "\n",
        "mean_map /= len(user_interactions_test)\n",
        "mean_ndcg /= len(user_interactions_test)\n",
        "\n",
        "time_taken = time.time() - start\n"
      ]
    },
    {
      "cell_type": "code",
      "execution_count": 32,
      "metadata": {
        "ExecuteTime": {
          "end_time": "2020-09-05T11:55:52.966297Z",
          "start_time": "2020-09-05T11:55:52.959124Z"
        },
        "colab": {
          "base_uri": "https://localhost:8080/"
        },
        "id": "RgOgkEliLy18",
        "outputId": "ee839502-25b5-4e3c-eefa-aa7af5e4b27a"
      },
      "outputs": [
        {
          "output_type": "stream",
          "name": "stdout",
          "text": [
            "MAP  0.00453968253968254\n",
            "ndcg@10 0.03\n",
            "tiempo de ejecucion 20.62 segs\n"
          ]
        }
      ],
      "source": [
        "print('MAP ',mean_map)\n",
        "print('ndcg@10' ,mean_ndcg)\n",
        "print('tiempo de ejecucion {0:.2f} segs'.format(time_taken))"
      ]
    },
    {
      "cell_type": "markdown",
      "metadata": {
        "id": "U7PTmqLTLy1-"
      },
      "source": [
        "## Evaluación de recomendación con BERT-large"
      ]
    },
    {
      "cell_type": "code",
      "execution_count": 33,
      "metadata": {
        "ExecuteTime": {
          "end_time": "2020-09-05T12:05:15.113219Z",
          "start_time": "2020-09-05T11:55:52.972248Z"
        },
        "colab": {
          "base_uri": "https://localhost:8080/"
        },
        "id": "xa2NVGpWLy1_",
        "outputId": "d6fcce13-df9d-46cf-b5db-0b00947acb09"
      },
      "outputs": [
        {
          "output_type": "stream",
          "name": "stdout",
          "text": []
        }
      ],
      "source": [
        "start = time.time()\n",
        "\n",
        "mean_map = 0.\n",
        "mean_ndcg = 0.\n",
        "\n",
        "topk = 10 \n",
        "\n",
        "for i, u in enumerate(user_interactions_test.keys()):\n",
        "    \n",
        "    print(i, end= '\\r')\n",
        "    \n",
        "    rec = recommend(bert_large_featmat, user_id = u, topk=topk)\n",
        "    rel_vector = [np.isin(user_interactions_test[u], rec, assume_unique=True).astype(int)]\n",
        "    mean_map += mean_average_precision(rel_vector)\n",
        "    mean_ndcg += ndcg_at_k(rel_vector, topk)\n",
        "\n",
        "mean_map /= len(user_interactions_test)\n",
        "mean_ndcg /= len(user_interactions_test)\n",
        "\n",
        "time_taken = time.time() - start"
      ]
    },
    {
      "cell_type": "code",
      "execution_count": 34,
      "metadata": {
        "ExecuteTime": {
          "end_time": "2020-09-05T12:05:15.125773Z",
          "start_time": "2020-09-05T12:05:15.119007Z"
        },
        "colab": {
          "base_uri": "https://localhost:8080/"
        },
        "id": "RkNoQttGLy2A",
        "outputId": "198a4e89-1cec-44fa-d68b-2d81deb26e63"
      },
      "outputs": [
        {
          "output_type": "stream",
          "name": "stdout",
          "text": [
            "MAP  0.060920634920634924\n",
            "ndcg@10 0.24\n",
            "tiempo de ejecucion 343.16 segs\n"
          ]
        }
      ],
      "source": [
        "print('MAP ',mean_map)\n",
        "print('ndcg@10' ,mean_ndcg)\n",
        "print('tiempo de ejecucion {0:.2f} segs'.format(time_taken))"
      ]
    },
    {
      "cell_type": "markdown",
      "metadata": {
        "id": "NXcryQvTLy2C"
      },
      "source": [
        "## Evaluación de recomendación con BERT-large reducidos con PCA-20"
      ]
    },
    {
      "cell_type": "code",
      "execution_count": null,
      "metadata": {
        "ExecuteTime": {
          "end_time": "2020-09-05T12:06:10.370488Z",
          "start_time": "2020-09-05T12:05:15.131410Z"
        },
        "colab": {
          "base_uri": "https://localhost:8080/"
        },
        "id": "azXZQg8DLy2D",
        "outputId": "a9ab3586-918f-4de1-963d-5526c796312f"
      },
      "outputs": [
        {
          "output_type": "stream",
          "name": "stdout",
          "text": []
        }
      ],
      "source": [
        "start = time.time()\n",
        "\n",
        "mean_map = 0.\n",
        "mean_ndcg = 0.\n",
        "\n",
        "topk = 10 \n",
        "\n",
        "for i, u in enumerate(user_interactions_test.keys()):\n",
        "    \n",
        "    print(i, end= '\\r')\n",
        "    \n",
        "    rec = recommend(pca20_bert_large_featmat, user_id = u, topk=topk)\n",
        "    rel_vector = [np.isin(user_interactions_test[u], rec, assume_unique=True).astype(int)]\n",
        "    mean_map += mean_average_precision(rel_vector)\n",
        "    mean_ndcg += ndcg_at_k(rel_vector, topk)\n",
        "\n",
        "mean_map /= len(user_interactions_test)\n",
        "mean_ndcg /= len(user_interactions_test)\n",
        "\n",
        "time_taken = time.time() - start\n"
      ]
    },
    {
      "cell_type": "code",
      "execution_count": 37,
      "metadata": {
        "ExecuteTime": {
          "end_time": "2020-09-05T12:06:10.382416Z",
          "start_time": "2020-09-05T12:06:10.376361Z"
        },
        "colab": {
          "base_uri": "https://localhost:8080/"
        },
        "id": "cftp6LOsLy2G",
        "outputId": "cd0fb001-d669-4901-ac59-973e31a6dba3"
      },
      "outputs": [
        {
          "output_type": "stream",
          "name": "stdout",
          "text": [
            "MAP  0.026123015873015874\n",
            "ndcg@10 0.07\n",
            "tiempo de ejecucion 17.42 segs\n"
          ]
        }
      ],
      "source": [
        "print('MAP ',mean_map)\n",
        "print('ndcg@10' ,mean_ndcg)\n",
        "print('tiempo de ejecucion {0:.2f} segs'.format(time_taken))"
      ]
    },
    {
      "cell_type": "markdown",
      "metadata": {
        "id": "1D21lw6qLy2I"
      },
      "source": [
        "### Pregunta 4: \n",
        "- Comente los resultados en términos de tiempo de ejecución y métricas de ranking para los 4 modelos. "
      ]
    },
    {
      "cell_type": "markdown",
      "metadata": {
        "id": "5T1fYoh2Ly2I"
      },
      "source": [
        "### Respuesta 4:"
      ]
    }
  ],
  "metadata": {
    "colab": {
      "collapsed_sections": [
        "5I-uPstPLy1N",
        "vZTjzT8oLy1N",
        "zaL2FqeJLy1m",
        "QmWOYk78Ly1n",
        "1D21lw6qLy2I"
      ],
      "provenance": []
    },
    "kernelspec": {
      "display_name": "Python 3",
      "language": "python",
      "name": "python3"
    },
    "language_info": {
      "codemirror_mode": {
        "name": "ipython",
        "version": 3
      },
      "file_extension": ".py",
      "mimetype": "text/x-python",
      "name": "python",
      "nbconvert_exporter": "python",
      "pygments_lexer": "ipython3",
      "version": "3.6.0"
    },
    "toc": {
      "base_numbering": 1,
      "nav_menu": {},
      "number_sections": true,
      "sideBar": true,
      "skip_h1_title": false,
      "title_cell": "Table of Contents",
      "title_sidebar": "Contents",
      "toc_cell": false,
      "toc_position": {},
      "toc_section_display": true,
      "toc_window_display": false
    }
  },
  "nbformat": 4,
  "nbformat_minor": 0
}